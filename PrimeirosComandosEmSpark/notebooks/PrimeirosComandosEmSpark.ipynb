{
  "cells": [
    {
      "cell_type": "markdown",
      "source": [
        "# Objetivo do projeto :\n",
        "## Aprender os comandos basicos em Spark"
      ],
      "metadata": {
        "id": "ulwbXsayTqIN"
      }
    },
    {
      "cell_type": "code",
      "source": [
        "# Visualizando datasets\n",
        "display(dbutils.fs.ls(\"/databricks-datasets\"))"
      ],
      "metadata": {
        "application/vnd.databricks.v1+cell": {
          "title": "",
          "showTitle": false,
          "inputWidgets": {},
          "nuid": "435c2fca-5095-49c4-8c99-c462a84daba0"
        },
        "id": "l5egMXkoTnuA",
        "outputId": "b464161b-062d-41b6-fe44-6767bcadb65b"
      },
      "outputs": [
        {
          "output_type": "display_data",
          "metadata": {
            "application/vnd.databricks.v1+output": {
              "overflow": false,
              "datasetInfos": [],
              "data": [
                [
                  "dbfs:/databricks-datasets/",
                  "databricks-datasets/",
                  0
                ],
                [
                  "dbfs:/databricks-datasets/COVID/",
                  "COVID/",
                  0
                ],
                [
                  "dbfs:/databricks-datasets/README.md",
                  "README.md",
                  976
                ],
                [
                  "dbfs:/databricks-datasets/Rdatasets/",
                  "Rdatasets/",
                  0
                ],
                [
                  "dbfs:/databricks-datasets/SPARK_README.md",
                  "SPARK_README.md",
                  3359
                ],
                [
                  "dbfs:/databricks-datasets/adult/",
                  "adult/",
                  0
                ],
                [
                  "dbfs:/databricks-datasets/airlines/",
                  "airlines/",
                  0
                ],
                [
                  "dbfs:/databricks-datasets/amazon/",
                  "amazon/",
                  0
                ],
                [
                  "dbfs:/databricks-datasets/asa/",
                  "asa/",
                  0
                ],
                [
                  "dbfs:/databricks-datasets/atlas_higgs/",
                  "atlas_higgs/",
                  0
                ],
                [
                  "dbfs:/databricks-datasets/bikeSharing/",
                  "bikeSharing/",
                  0
                ],
                [
                  "dbfs:/databricks-datasets/cctvVideos/",
                  "cctvVideos/",
                  0
                ],
                [
                  "dbfs:/databricks-datasets/credit-card-fraud/",
                  "credit-card-fraud/",
                  0
                ],
                [
                  "dbfs:/databricks-datasets/cs100/",
                  "cs100/",
                  0
                ],
                [
                  "dbfs:/databricks-datasets/cs110x/",
                  "cs110x/",
                  0
                ],
                [
                  "dbfs:/databricks-datasets/cs190/",
                  "cs190/",
                  0
                ],
                [
                  "dbfs:/databricks-datasets/data.gov/",
                  "data.gov/",
                  0
                ],
                [
                  "dbfs:/databricks-datasets/definitive-guide/",
                  "definitive-guide/",
                  0
                ],
                [
                  "dbfs:/databricks-datasets/delta-sharing/",
                  "delta-sharing/",
                  0
                ],
                [
                  "dbfs:/databricks-datasets/flights/",
                  "flights/",
                  0
                ],
                [
                  "dbfs:/databricks-datasets/flower_photos/",
                  "flower_photos/",
                  0
                ],
                [
                  "dbfs:/databricks-datasets/flowers/",
                  "flowers/",
                  0
                ],
                [
                  "dbfs:/databricks-datasets/genomics/",
                  "genomics/",
                  0
                ],
                [
                  "dbfs:/databricks-datasets/hail/",
                  "hail/",
                  0
                ],
                [
                  "dbfs:/databricks-datasets/iot/",
                  "iot/",
                  0
                ],
                [
                  "dbfs:/databricks-datasets/iot-stream/",
                  "iot-stream/",
                  0
                ],
                [
                  "dbfs:/databricks-datasets/learning-spark/",
                  "learning-spark/",
                  0
                ],
                [
                  "dbfs:/databricks-datasets/learning-spark-v2/",
                  "learning-spark-v2/",
                  0
                ],
                [
                  "dbfs:/databricks-datasets/lending-club-loan-stats/",
                  "lending-club-loan-stats/",
                  0
                ],
                [
                  "dbfs:/databricks-datasets/med-images/",
                  "med-images/",
                  0
                ],
                [
                  "dbfs:/databricks-datasets/mnist-digits/",
                  "mnist-digits/",
                  0
                ],
                [
                  "dbfs:/databricks-datasets/news20.binary/",
                  "news20.binary/",
                  0
                ],
                [
                  "dbfs:/databricks-datasets/nyctaxi/",
                  "nyctaxi/",
                  0
                ],
                [
                  "dbfs:/databricks-datasets/nyctaxi-with-zipcodes/",
                  "nyctaxi-with-zipcodes/",
                  0
                ],
                [
                  "dbfs:/databricks-datasets/online_retail/",
                  "online_retail/",
                  0
                ],
                [
                  "dbfs:/databricks-datasets/overlap-join/",
                  "overlap-join/",
                  0
                ],
                [
                  "dbfs:/databricks-datasets/power-plant/",
                  "power-plant/",
                  0
                ],
                [
                  "dbfs:/databricks-datasets/retail-org/",
                  "retail-org/",
                  0
                ],
                [
                  "dbfs:/databricks-datasets/rwe/",
                  "rwe/",
                  0
                ],
                [
                  "dbfs:/databricks-datasets/sai-summit-2019-sf/",
                  "sai-summit-2019-sf/",
                  0
                ],
                [
                  "dbfs:/databricks-datasets/sample_logs/",
                  "sample_logs/",
                  0
                ],
                [
                  "dbfs:/databricks-datasets/samples/",
                  "samples/",
                  0
                ],
                [
                  "dbfs:/databricks-datasets/sfo_customer_survey/",
                  "sfo_customer_survey/",
                  0
                ],
                [
                  "dbfs:/databricks-datasets/sms_spam_collection/",
                  "sms_spam_collection/",
                  0
                ],
                [
                  "dbfs:/databricks-datasets/songs/",
                  "songs/",
                  0
                ],
                [
                  "dbfs:/databricks-datasets/structured-streaming/",
                  "structured-streaming/",
                  0
                ],
                [
                  "dbfs:/databricks-datasets/timeseries/",
                  "timeseries/",
                  0
                ],
                [
                  "dbfs:/databricks-datasets/tpch/",
                  "tpch/",
                  0
                ],
                [
                  "dbfs:/databricks-datasets/weather/",
                  "weather/",
                  0
                ],
                [
                  "dbfs:/databricks-datasets/wiki/",
                  "wiki/",
                  0
                ],
                [
                  "dbfs:/databricks-datasets/wikipedia-datasets/",
                  "wikipedia-datasets/",
                  0
                ],
                [
                  "dbfs:/databricks-datasets/wine-quality/",
                  "wine-quality/",
                  0
                ]
              ],
              "plotOptions": {
                "displayType": "table",
                "customPlotOptions": {},
                "pivotColumns": null,
                "pivotAggregation": null,
                "xColumns": null,
                "yColumns": null
              },
              "columnCustomDisplayInfos": {},
              "aggType": "",
              "isJsonSchema": true,
              "removedWidgets": [],
              "aggSchema": [],
              "schema": [
                {
                  "name": "path",
                  "type": "\"string\"",
                  "metadata": "{}"
                },
                {
                  "name": "name",
                  "type": "\"string\"",
                  "metadata": "{}"
                },
                {
                  "name": "size",
                  "type": "\"long\"",
                  "metadata": "{}"
                }
              ],
              "aggError": "",
              "aggData": [],
              "addedWidgets": {},
              "metadata": {},
              "dbfsResultPath": null,
              "type": "table",
              "aggOverflow": false,
              "aggSeriesLimitReached": false,
              "arguments": {}
            }
          },
          "data": {
            "text/html": [
              "<style scoped>\n  .table-result-container {\n    max-height: 300px;\n    overflow: auto;\n  }\n  table, th, td {\n    border: 1px solid black;\n    border-collapse: collapse;\n  }\n  th, td {\n    padding: 5px;\n  }\n  th {\n    text-align: left;\n  }\n</style><div class='table-result-container'><table class='table-result'><thead style='background-color: white'><tr><th>path</th><th>name</th><th>size</th></tr></thead><tbody><tr><td>dbfs:/databricks-datasets/</td><td>databricks-datasets/</td><td>0</td></tr><tr><td>dbfs:/databricks-datasets/COVID/</td><td>COVID/</td><td>0</td></tr><tr><td>dbfs:/databricks-datasets/README.md</td><td>README.md</td><td>976</td></tr><tr><td>dbfs:/databricks-datasets/Rdatasets/</td><td>Rdatasets/</td><td>0</td></tr><tr><td>dbfs:/databricks-datasets/SPARK_README.md</td><td>SPARK_README.md</td><td>3359</td></tr><tr><td>dbfs:/databricks-datasets/adult/</td><td>adult/</td><td>0</td></tr><tr><td>dbfs:/databricks-datasets/airlines/</td><td>airlines/</td><td>0</td></tr><tr><td>dbfs:/databricks-datasets/amazon/</td><td>amazon/</td><td>0</td></tr><tr><td>dbfs:/databricks-datasets/asa/</td><td>asa/</td><td>0</td></tr><tr><td>dbfs:/databricks-datasets/atlas_higgs/</td><td>atlas_higgs/</td><td>0</td></tr><tr><td>dbfs:/databricks-datasets/bikeSharing/</td><td>bikeSharing/</td><td>0</td></tr><tr><td>dbfs:/databricks-datasets/cctvVideos/</td><td>cctvVideos/</td><td>0</td></tr><tr><td>dbfs:/databricks-datasets/credit-card-fraud/</td><td>credit-card-fraud/</td><td>0</td></tr><tr><td>dbfs:/databricks-datasets/cs100/</td><td>cs100/</td><td>0</td></tr><tr><td>dbfs:/databricks-datasets/cs110x/</td><td>cs110x/</td><td>0</td></tr><tr><td>dbfs:/databricks-datasets/cs190/</td><td>cs190/</td><td>0</td></tr><tr><td>dbfs:/databricks-datasets/data.gov/</td><td>data.gov/</td><td>0</td></tr><tr><td>dbfs:/databricks-datasets/definitive-guide/</td><td>definitive-guide/</td><td>0</td></tr><tr><td>dbfs:/databricks-datasets/delta-sharing/</td><td>delta-sharing/</td><td>0</td></tr><tr><td>dbfs:/databricks-datasets/flights/</td><td>flights/</td><td>0</td></tr><tr><td>dbfs:/databricks-datasets/flower_photos/</td><td>flower_photos/</td><td>0</td></tr><tr><td>dbfs:/databricks-datasets/flowers/</td><td>flowers/</td><td>0</td></tr><tr><td>dbfs:/databricks-datasets/genomics/</td><td>genomics/</td><td>0</td></tr><tr><td>dbfs:/databricks-datasets/hail/</td><td>hail/</td><td>0</td></tr><tr><td>dbfs:/databricks-datasets/iot/</td><td>iot/</td><td>0</td></tr><tr><td>dbfs:/databricks-datasets/iot-stream/</td><td>iot-stream/</td><td>0</td></tr><tr><td>dbfs:/databricks-datasets/learning-spark/</td><td>learning-spark/</td><td>0</td></tr><tr><td>dbfs:/databricks-datasets/learning-spark-v2/</td><td>learning-spark-v2/</td><td>0</td></tr><tr><td>dbfs:/databricks-datasets/lending-club-loan-stats/</td><td>lending-club-loan-stats/</td><td>0</td></tr><tr><td>dbfs:/databricks-datasets/med-images/</td><td>med-images/</td><td>0</td></tr><tr><td>dbfs:/databricks-datasets/mnist-digits/</td><td>mnist-digits/</td><td>0</td></tr><tr><td>dbfs:/databricks-datasets/news20.binary/</td><td>news20.binary/</td><td>0</td></tr><tr><td>dbfs:/databricks-datasets/nyctaxi/</td><td>nyctaxi/</td><td>0</td></tr><tr><td>dbfs:/databricks-datasets/nyctaxi-with-zipcodes/</td><td>nyctaxi-with-zipcodes/</td><td>0</td></tr><tr><td>dbfs:/databricks-datasets/online_retail/</td><td>online_retail/</td><td>0</td></tr><tr><td>dbfs:/databricks-datasets/overlap-join/</td><td>overlap-join/</td><td>0</td></tr><tr><td>dbfs:/databricks-datasets/power-plant/</td><td>power-plant/</td><td>0</td></tr><tr><td>dbfs:/databricks-datasets/retail-org/</td><td>retail-org/</td><td>0</td></tr><tr><td>dbfs:/databricks-datasets/rwe/</td><td>rwe/</td><td>0</td></tr><tr><td>dbfs:/databricks-datasets/sai-summit-2019-sf/</td><td>sai-summit-2019-sf/</td><td>0</td></tr><tr><td>dbfs:/databricks-datasets/sample_logs/</td><td>sample_logs/</td><td>0</td></tr><tr><td>dbfs:/databricks-datasets/samples/</td><td>samples/</td><td>0</td></tr><tr><td>dbfs:/databricks-datasets/sfo_customer_survey/</td><td>sfo_customer_survey/</td><td>0</td></tr><tr><td>dbfs:/databricks-datasets/sms_spam_collection/</td><td>sms_spam_collection/</td><td>0</td></tr><tr><td>dbfs:/databricks-datasets/songs/</td><td>songs/</td><td>0</td></tr><tr><td>dbfs:/databricks-datasets/structured-streaming/</td><td>structured-streaming/</td><td>0</td></tr><tr><td>dbfs:/databricks-datasets/timeseries/</td><td>timeseries/</td><td>0</td></tr><tr><td>dbfs:/databricks-datasets/tpch/</td><td>tpch/</td><td>0</td></tr><tr><td>dbfs:/databricks-datasets/weather/</td><td>weather/</td><td>0</td></tr><tr><td>dbfs:/databricks-datasets/wiki/</td><td>wiki/</td><td>0</td></tr><tr><td>dbfs:/databricks-datasets/wikipedia-datasets/</td><td>wikipedia-datasets/</td><td>0</td></tr><tr><td>dbfs:/databricks-datasets/wine-quality/</td><td>wine-quality/</td><td>0</td></tr></tbody></table></div>"
            ]
          },
          "transient": null
        }
      ],
      "execution_count": null
    },
    {
      "cell_type": "code",
      "source": [
        "# Lendo o arquivo\n",
        "arquivo=\"dbfs:/databricks-datasets/flights/\"\n",
        "\n",
        "df=spark\\\n",
        ".read.format(\"csv\")\\\n",
        ".option(\"inferSchema\",\"True\")\\\n",
        ".option(\"header\",\"True\")\\\n",
        ".csv(arquivo)\n",
        "\n",
        "df.printSchema()"
      ],
      "metadata": {
        "application/vnd.databricks.v1+cell": {
          "title": "",
          "showTitle": false,
          "inputWidgets": {},
          "nuid": "2327886e-1daf-4842-95ba-c280fc0e29a7"
        },
        "id": "jBV8lFYqTnuJ",
        "outputId": "33b41369-a8d2-464f-c9a5-2d37741f362f"
      },
      "outputs": [
        {
          "output_type": "display_data",
          "metadata": {
            "application/vnd.databricks.v1+output": {
              "datasetInfos": [],
              "data": "root\n |-- date: string (nullable = true)\n |-- delay: string (nullable = true)\n |-- distance: string (nullable = true)\n |-- origin: string (nullable = true)\n |-- destination: string (nullable = true)\n\n",
              "removedWidgets": [],
              "addedWidgets": {},
              "metadata": {},
              "type": "ansi",
              "arguments": {}
            }
          },
          "data": {
            "text/plain": [
              "root\n |-- date: string (nullable = true)\n |-- delay: string (nullable = true)\n |-- distance: string (nullable = true)\n |-- origin: string (nullable = true)\n |-- destination: string (nullable = true)\n\n"
            ]
          },
          "transient": null
        }
      ],
      "execution_count": null
    },
    {
      "cell_type": "code",
      "source": [
        "# Tipo do arquivo\n",
        "type(df)"
      ],
      "metadata": {
        "application/vnd.databricks.v1+cell": {
          "title": "",
          "showTitle": false,
          "inputWidgets": {},
          "nuid": "3c344846-ba77-4397-ba76-39f6bbbeb92c"
        },
        "id": "ojN1Rm1WTnuL",
        "outputId": "9a5b93e3-feec-4860-9c12-9f2ebe5463fb"
      },
      "outputs": [
        {
          "output_type": "display_data",
          "metadata": {
            "application/vnd.databricks.v1+output": {
              "datasetInfos": [],
              "data": "Out[53]: pyspark.sql.dataframe.DataFrame",
              "removedWidgets": [],
              "addedWidgets": {},
              "metadata": {},
              "type": "ansi",
              "arguments": {}
            }
          },
          "data": {
            "text/plain": [
              "Out[53]: pyspark.sql.dataframe.DataFrame"
            ]
          },
          "transient": null
        }
      ],
      "execution_count": null
    },
    {
      "cell_type": "code",
      "source": [
        "# Retorna as 3 primeiras linhas\n",
        "df.take(5)"
      ],
      "metadata": {
        "application/vnd.databricks.v1+cell": {
          "title": "",
          "showTitle": false,
          "inputWidgets": {},
          "nuid": "f7979814-1395-4b4c-9650-9451e845f682"
        },
        "id": "dZrfXHL9TnuM",
        "outputId": "adc5f309-62bf-4c52-fada-0b3ecc94d598"
      },
      "outputs": [
        {
          "output_type": "display_data",
          "metadata": {
            "application/vnd.databricks.v1+output": {
              "datasetInfos": [],
              "data": "Out[54]: [Row(date='01011245', delay='6', distance='602', origin='ABE', destination='ATL'),\n Row(date='01020600', delay='-8', distance='369', origin='ABE', destination='DTW'),\n Row(date='01021245', delay='-2', distance='602', origin='ABE', destination='ATL'),\n Row(date='01020605', delay='-4', distance='602', origin='ABE', destination='ATL'),\n Row(date='01031245', delay='-4', distance='602', origin='ABE', destination='ATL')]",
              "removedWidgets": [],
              "addedWidgets": {},
              "metadata": {},
              "type": "ansi",
              "arguments": {}
            }
          },
          "data": {
            "text/plain": [
              "Out[54]: [Row(date='01011245', delay='6', distance='602', origin='ABE', destination='ATL'),\n Row(date='01020600', delay='-8', distance='369', origin='ABE', destination='DTW'),\n Row(date='01021245', delay='-2', distance='602', origin='ABE', destination='ATL'),\n Row(date='01020605', delay='-4', distance='602', origin='ABE', destination='ATL'),\n Row(date='01031245', delay='-4', distance='602', origin='ABE', destination='ATL')]"
            ]
          },
          "transient": null
        }
      ],
      "execution_count": null
    },
    {
      "cell_type": "code",
      "source": [
        "# Usando o comando display\n",
        "display(df.show(3))"
      ],
      "metadata": {
        "application/vnd.databricks.v1+cell": {
          "title": "",
          "showTitle": false,
          "inputWidgets": {},
          "nuid": "34ce8234-eebe-4ee4-80b5-2fd3ee1ad9d7"
        },
        "id": "7xsjHe-qTnuN",
        "outputId": "a501eef7-5a60-4936-e0c7-2dbbd7e93747"
      },
      "outputs": [
        {
          "output_type": "display_data",
          "metadata": {
            "application/vnd.databricks.v1+output": {
              "datasetInfos": [],
              "data": "+--------+-----+--------+------+-----------+\n|    date|delay|distance|origin|destination|\n+--------+-----+--------+------+-----------+\n|01011245|    6|     602|   ABE|        ATL|\n|01020600|   -8|     369|   ABE|        DTW|\n|01021245|   -2|     602|   ABE|        ATL|\n+--------+-----+--------+------+-----------+\nonly showing top 3 rows\n\n",
              "removedWidgets": [],
              "addedWidgets": {},
              "metadata": {},
              "type": "ansi",
              "arguments": {}
            }
          },
          "data": {
            "text/plain": [
              "+--------+-----+--------+------+-----------+\n|    date|delay|distance|origin|destination|\n+--------+-----+--------+------+-----------+\n|01011245|    6|     602|   ABE|        ATL|\n|01020600|   -8|     369|   ABE|        DTW|\n|01021245|   -2|     602|   ABE|        ATL|\n+--------+-----+--------+------+-----------+\nonly showing top 3 rows\n\n"
            ]
          },
          "transient": null
        }
      ],
      "execution_count": null
    },
    {
      "cell_type": "code",
      "source": [
        "# Quantidade de linhas\n",
        "df.count()"
      ],
      "metadata": {
        "application/vnd.databricks.v1+cell": {
          "title": "",
          "showTitle": false,
          "inputWidgets": {},
          "nuid": "1ecf2bdb-5ca0-424d-99ec-b5ec89eb3abd"
        },
        "id": "rGu9-FokTnuO",
        "outputId": "38a3d137-50ea-491f-db61-db6ffa049b4e"
      },
      "outputs": [
        {
          "output_type": "display_data",
          "metadata": {
            "application/vnd.databricks.v1+output": {
              "datasetInfos": [],
              "data": "Out[56]: 1392106",
              "removedWidgets": [],
              "addedWidgets": {},
              "metadata": {},
              "type": "ansi",
              "arguments": {}
            }
          },
          "data": {
            "text/plain": [
              "Out[56]: 1392106"
            ]
          },
          "transient": null
        }
      ],
      "execution_count": null
    },
    {
      "cell_type": "code",
      "source": [
        "from pyspark.sql.functions import max\n",
        "\n",
        "# Maior atraso\n",
        "df.select(max(\"delay\")).take(1)"
      ],
      "metadata": {
        "application/vnd.databricks.v1+cell": {
          "title": "Consultando dados do dataframe",
          "showTitle": true,
          "inputWidgets": {},
          "nuid": "0af51d2d-5759-429e-ae2d-c8e7f4d8c1e4"
        },
        "id": "wzhaACYnTnuQ",
        "outputId": "18b2f296-0225-460d-a590-2fbafe138d44"
      },
      "outputs": [
        {
          "output_type": "display_data",
          "metadata": {
            "application/vnd.databricks.v1+output": {
              "datasetInfos": [],
              "data": "Out[57]: [Row(max(delay)='995')]",
              "removedWidgets": [],
              "addedWidgets": {},
              "metadata": {},
              "type": "ansi",
              "arguments": {}
            }
          },
          "data": {
            "text/plain": [
              "Out[57]: [Row(max(delay)='995')]"
            ]
          },
          "transient": null
        }
      ],
      "execution_count": null
    },
    {
      "cell_type": "code",
      "source": [
        "# Delay menor que dois\n",
        "df.filter(\"delay < 2\").show(2)"
      ],
      "metadata": {
        "application/vnd.databricks.v1+cell": {
          "title": "",
          "showTitle": false,
          "inputWidgets": {},
          "nuid": "d9590ea5-704e-4cc7-9dbe-65b2ddcd410c"
        },
        "id": "36qLwNkpTnuR",
        "outputId": "e338e513-672d-47f9-c776-ddb69e464952"
      },
      "outputs": [
        {
          "output_type": "display_data",
          "metadata": {
            "application/vnd.databricks.v1+output": {
              "datasetInfos": [],
              "data": "+--------+-----+--------+------+-----------+\n|    date|delay|distance|origin|destination|\n+--------+-----+--------+------+-----------+\n|01020600|   -8|     369|   ABE|        DTW|\n|01021245|   -2|     602|   ABE|        ATL|\n+--------+-----+--------+------+-----------+\nonly showing top 2 rows\n\n",
              "removedWidgets": [],
              "addedWidgets": {},
              "metadata": {},
              "type": "ansi",
              "arguments": {}
            }
          },
          "data": {
            "text/plain": [
              "+--------+-----+--------+------+-----------+\n|    date|delay|distance|origin|destination|\n+--------+-----+--------+------+-----------+\n|01020600|   -8|     369|   ABE|        DTW|\n|01021245|   -2|     602|   ABE|        ATL|\n+--------+-----+--------+------+-----------+\nonly showing top 2 rows\n\n"
            ]
          },
          "transient": null
        }
      ],
      "execution_count": null
    },
    {
      "cell_type": "code",
      "source": [
        "# Filtrando delay menor que dois\n",
        "df.where(\"delay < 2\").show(2)"
      ],
      "metadata": {
        "application/vnd.databricks.v1+cell": {
          "title": "",
          "showTitle": false,
          "inputWidgets": {},
          "nuid": "8fdf2b06-21be-4cd1-b900-4e366461fd9e"
        },
        "id": "yiGKKYUpTnuT",
        "outputId": "87f4f797-de72-4acf-878e-ff3779676670"
      },
      "outputs": [
        {
          "output_type": "display_data",
          "metadata": {
            "application/vnd.databricks.v1+output": {
              "datasetInfos": [],
              "data": "+--------+-----+--------+------+-----------+\n|    date|delay|distance|origin|destination|\n+--------+-----+--------+------+-----------+\n|01020600|   -8|     369|   ABE|        DTW|\n|01021245|   -2|     602|   ABE|        ATL|\n+--------+-----+--------+------+-----------+\nonly showing top 2 rows\n\n",
              "removedWidgets": [],
              "addedWidgets": {},
              "metadata": {},
              "type": "ansi",
              "arguments": {}
            }
          },
          "data": {
            "text/plain": [
              "+--------+-----+--------+------+-----------+\n|    date|delay|distance|origin|destination|\n+--------+-----+--------+------+-----------+\n|01020600|   -8|     369|   ABE|        DTW|\n|01021245|   -2|     602|   ABE|        ATL|\n+--------+-----+--------+------+-----------+\nonly showing top 2 rows\n\n"
            ]
          },
          "transient": null
        }
      ],
      "execution_count": null
    },
    {
      "cell_type": "code",
      "source": [
        "# Ordenando pela coluna\n",
        "df.sort(\"delay\").show(5)"
      ],
      "metadata": {
        "application/vnd.databricks.v1+cell": {
          "title": "",
          "showTitle": false,
          "inputWidgets": {},
          "nuid": "4c94af67-c6b4-4d4c-8faf-687521b72fd5"
        },
        "id": "4OKEow1XTnuV",
        "outputId": "a770d5bf-d22e-45a1-f5d8-e72d7ba60c0e"
      },
      "outputs": [
        {
          "output_type": "display_data",
          "metadata": {
            "application/vnd.databricks.v1+output": {
              "datasetInfos": [],
              "data": "+--------------------+-----+--------+------+-----------+\n|                date|delay|distance|origin|destination|\n+--------------------+-----+--------+------+-----------+\n|Abbotsford\tBC\tCan...| null|    null|  null|       null|\n| Aberdeen\tSD\tUSA\tABR| null|    null|  null|       null|\n|  Abilene\tTX\tUSA\tABI| null|    null|  null|       null|\n|    Akron\tOH\tUSA\tCAK| null|    null|  null|       null|\n|  Alamosa\tCO\tUSA\tALS| null|    null|  null|       null|\n+--------------------+-----+--------+------+-----------+\nonly showing top 5 rows\n\n",
              "removedWidgets": [],
              "addedWidgets": {},
              "metadata": {},
              "type": "ansi",
              "arguments": {}
            }
          },
          "data": {
            "text/plain": [
              "+--------------------+-----+--------+------+-----------+\n|                date|delay|distance|origin|destination|\n+--------------------+-----+--------+------+-----------+\n|Abbotsford\tBC\tCan...| null|    null|  null|       null|\n| Aberdeen\tSD\tUSA\tABR| null|    null|  null|       null|\n|  Abilene\tTX\tUSA\tABI| null|    null|  null|       null|\n|    Akron\tOH\tUSA\tCAK| null|    null|  null|       null|\n|  Alamosa\tCO\tUSA\tALS| null|    null|  null|       null|\n+--------------------+-----+--------+------+-----------+\nonly showing top 5 rows\n\n"
            ]
          },
          "transient": null
        }
      ],
      "execution_count": null
    },
    {
      "cell_type": "code",
      "source": [
        "from pyspark.sql.functions import desc,asc,expr\n",
        "\n",
        "# Ordenado por ordem crescente\n",
        "df.orderBy(expr(\"delay desc\")).show(10)"
      ],
      "metadata": {
        "application/vnd.databricks.v1+cell": {
          "title": "",
          "showTitle": false,
          "inputWidgets": {},
          "nuid": "7330ebbf-02c3-4306-91d2-f3a10643c5a1"
        },
        "id": "ODGLj9ObTnuW",
        "outputId": "27d952b4-a08b-4801-86c0-d7ee7afd8b3f"
      },
      "outputs": [
        {
          "output_type": "display_data",
          "metadata": {
            "application/vnd.databricks.v1+output": {
              "datasetInfos": [],
              "data": "+--------------------+-----+--------+------+-----------+\n|                date|delay|distance|origin|destination|\n+--------------------+-----+--------+------+-----------+\n|Abbotsford\tBC\tCan...| null|    null|  null|       null|\n| Aberdeen\tSD\tUSA\tABR| null|    null|  null|       null|\n|  Abilene\tTX\tUSA\tABI| null|    null|  null|       null|\n|    Akron\tOH\tUSA\tCAK| null|    null|  null|       null|\n|  Alamosa\tCO\tUSA\tALS| null|    null|  null|       null|\n|   Albany\tGA\tUSA\tABY| null|    null|  null|       null|\n|   Albany\tNY\tUSA\tALB| null|    null|  null|       null|\n|Albuquerque\tNM\tUS...| null|    null|  null|       null|\n|Alexandria\tLA\tUSA...| null|    null|  null|       null|\n|Allentown\tPA\tUSA\tABE| null|    null|  null|       null|\n+--------------------+-----+--------+------+-----------+\nonly showing top 10 rows\n\n",
              "removedWidgets": [],
              "addedWidgets": {},
              "metadata": {},
              "type": "ansi",
              "arguments": {}
            }
          },
          "data": {
            "text/plain": [
              "+--------------------+-----+--------+------+-----------+\n|                date|delay|distance|origin|destination|\n+--------------------+-----+--------+------+-----------+\n|Abbotsford\tBC\tCan...| null|    null|  null|       null|\n| Aberdeen\tSD\tUSA\tABR| null|    null|  null|       null|\n|  Abilene\tTX\tUSA\tABI| null|    null|  null|       null|\n|    Akron\tOH\tUSA\tCAK| null|    null|  null|       null|\n|  Alamosa\tCO\tUSA\tALS| null|    null|  null|       null|\n|   Albany\tGA\tUSA\tABY| null|    null|  null|       null|\n|   Albany\tNY\tUSA\tALB| null|    null|  null|       null|\n|Albuquerque\tNM\tUS...| null|    null|  null|       null|\n|Alexandria\tLA\tUSA...| null|    null|  null|       null|\n|Allentown\tPA\tUSA\tABE| null|    null|  null|       null|\n+--------------------+-----+--------+------+-----------+\nonly showing top 10 rows\n\n"
            ]
          },
          "transient": null
        }
      ],
      "execution_count": null
    },
    {
      "cell_type": "code",
      "source": [
        "# Estatistica descritiva\n",
        "df.describe().show()"
      ],
      "metadata": {
        "application/vnd.databricks.v1+cell": {
          "title": "",
          "showTitle": false,
          "inputWidgets": {},
          "nuid": "fecf44a6-aa0c-4b71-b26c-466517d39f1d"
        },
        "id": "EUQelb0tTnuX",
        "outputId": "5aad5fd1-c360-4344-c762-f31e9607dd45"
      },
      "outputs": [
        {
          "output_type": "display_data",
          "metadata": {
            "application/vnd.databricks.v1+output": {
              "datasetInfos": [],
              "data": "+-------+--------------------+--------------------+--------------------+-------+-----------+\n|summary|                date|               delay|            distance| origin|destination|\n+-------+--------------------+--------------------+--------------------+-------+-----------+\n|  count|             1392106|             1391580|             1391579|1391578|    1391578|\n|   mean|   2180446.584000322|  12.079802928761449|   690.5508264718184|   null|       null|\n| stddev|   838031.1536741031|   38.80773374985648|    513.662815366331|   null|       null|\n|    min|\"Cap-aux-Meules, ...| airline and rout...| dataset can be f...|    ABE|        ABE|\n|    max|     Yuma\tAZ\tUSA\tYUM|                 995|                 999|    YUM|        YUM|\n+-------+--------------------+--------------------+--------------------+-------+-----------+\n\n",
              "removedWidgets": [],
              "addedWidgets": {},
              "metadata": {},
              "type": "ansi",
              "arguments": {}
            }
          },
          "data": {
            "text/plain": [
              "+-------+--------------------+--------------------+--------------------+-------+-----------+\n|summary|                date|               delay|            distance| origin|destination|\n+-------+--------------------+--------------------+--------------------+-------+-----------+\n|  count|             1392106|             1391580|             1391579|1391578|    1391578|\n|   mean|   2180446.584000322|  12.079802928761449|   690.5508264718184|   null|       null|\n| stddev|   838031.1536741031|   38.80773374985648|    513.662815366331|   null|       null|\n|    min|\"Cap-aux-Meules, ...| airline and rout...| dataset can be f...|    ABE|        ABE|\n|    max|     Yuma\tAZ\tUSA\tYUM|                 995|                 999|    YUM|        YUM|\n+-------+--------------------+--------------------+--------------------+-------+-----------+\n\n"
            ]
          },
          "transient": null
        }
      ],
      "execution_count": null
    },
    {
      "cell_type": "code",
      "source": [
        "# Interando sobre todas as linhas do dataframe\n",
        "'''for i in df.collect():\n",
        "    print(i)\n",
        "    print(i[0],i[1]*2)'''"
      ],
      "metadata": {
        "application/vnd.databricks.v1+cell": {
          "title": "",
          "showTitle": false,
          "inputWidgets": {},
          "nuid": "01476749-7406-44eb-9417-36615fab4cd9"
        },
        "id": "z0MZCMP2TnuY",
        "outputId": "dcac272f-0ff2-4aae-c5c6-ede4b13dd6f0"
      },
      "outputs": [
        {
          "output_type": "display_data",
          "metadata": {
            "application/vnd.databricks.v1+output": {
              "datasetInfos": [],
              "data": "Out[63]: 'for i in df.collect():\\n    print(i)\\n    print(i[0],i[1]*2)'",
              "removedWidgets": [],
              "addedWidgets": {},
              "metadata": {},
              "type": "ansi",
              "arguments": {}
            }
          },
          "data": {
            "text/plain": [
              "Out[63]: 'for i in df.collect():\\n    print(i)\\n    print(i[0],i[1]*2)'"
            ]
          },
          "transient": null
        }
      ],
      "execution_count": null
    },
    {
      "cell_type": "code",
      "source": [
        "# Adicionando nova coluna no dataframe\n",
        "df=df.withColumn(\"Nova Coluna\",df['delay']+2)\n",
        "df.show(10)"
      ],
      "metadata": {
        "application/vnd.databricks.v1+cell": {
          "title": "",
          "showTitle": false,
          "inputWidgets": {},
          "nuid": "63ec9d09-7ff4-4dcd-bf13-0b24a3b212df"
        },
        "id": "UBax1tifTnuZ",
        "outputId": "b47a5182-f992-43b5-c373-a54b7a0d010c"
      },
      "outputs": [
        {
          "output_type": "display_data",
          "metadata": {
            "application/vnd.databricks.v1+output": {
              "datasetInfos": [],
              "data": "+--------+-----+--------+------+-----------+-----------+\n|    date|delay|distance|origin|destination|Nova Coluna|\n+--------+-----+--------+------+-----------+-----------+\n|01011245|    6|     602|   ABE|        ATL|        8.0|\n|01020600|   -8|     369|   ABE|        DTW|       -6.0|\n|01021245|   -2|     602|   ABE|        ATL|        0.0|\n|01020605|   -4|     602|   ABE|        ATL|       -2.0|\n|01031245|   -4|     602|   ABE|        ATL|       -2.0|\n|01030605|    0|     602|   ABE|        ATL|        2.0|\n|01041243|   10|     602|   ABE|        ATL|       12.0|\n|01040605|   28|     602|   ABE|        ATL|       30.0|\n|01051245|   88|     602|   ABE|        ATL|       90.0|\n|01050605|    9|     602|   ABE|        ATL|       11.0|\n+--------+-----+--------+------+-----------+-----------+\nonly showing top 10 rows\n\n",
              "removedWidgets": [],
              "addedWidgets": {},
              "metadata": {},
              "type": "ansi",
              "arguments": {}
            }
          },
          "data": {
            "text/plain": [
              "+--------+-----+--------+------+-----------+-----------+\n|    date|delay|distance|origin|destination|Nova Coluna|\n+--------+-----+--------+------+-----------+-----------+\n|01011245|    6|     602|   ABE|        ATL|        8.0|\n|01020600|   -8|     369|   ABE|        DTW|       -6.0|\n|01021245|   -2|     602|   ABE|        ATL|        0.0|\n|01020605|   -4|     602|   ABE|        ATL|       -2.0|\n|01031245|   -4|     602|   ABE|        ATL|       -2.0|\n|01030605|    0|     602|   ABE|        ATL|        2.0|\n|01041243|   10|     602|   ABE|        ATL|       12.0|\n|01040605|   28|     602|   ABE|        ATL|       30.0|\n|01051245|   88|     602|   ABE|        ATL|       90.0|\n|01050605|    9|     602|   ABE|        ATL|       11.0|\n+--------+-----+--------+------+-----------+-----------+\nonly showing top 10 rows\n\n"
            ]
          },
          "transient": null
        }
      ],
      "execution_count": null
    },
    {
      "cell_type": "code",
      "source": [
        "# Removendo coluna\n",
        "df=df.drop(\"Nova coluna\")\n",
        "df.show(10)"
      ],
      "metadata": {
        "application/vnd.databricks.v1+cell": {
          "title": "",
          "showTitle": false,
          "inputWidgets": {},
          "nuid": "988b2c5b-a328-46b6-b5a0-0590ae7e6630"
        },
        "id": "NyMjzm-cTnua",
        "outputId": "49779110-09d1-40df-e8a6-0170b8069f64"
      },
      "outputs": [
        {
          "output_type": "display_data",
          "metadata": {
            "application/vnd.databricks.v1+output": {
              "datasetInfos": [],
              "data": "+--------+-----+--------+------+-----------+\n|    date|delay|distance|origin|destination|\n+--------+-----+--------+------+-----------+\n|01011245|    6|     602|   ABE|        ATL|\n|01020600|   -8|     369|   ABE|        DTW|\n|01021245|   -2|     602|   ABE|        ATL|\n|01020605|   -4|     602|   ABE|        ATL|\n|01031245|   -4|     602|   ABE|        ATL|\n|01030605|    0|     602|   ABE|        ATL|\n|01041243|   10|     602|   ABE|        ATL|\n|01040605|   28|     602|   ABE|        ATL|\n|01051245|   88|     602|   ABE|        ATL|\n|01050605|    9|     602|   ABE|        ATL|\n+--------+-----+--------+------+-----------+\nonly showing top 10 rows\n\n",
              "removedWidgets": [],
              "addedWidgets": {},
              "metadata": {},
              "type": "ansi",
              "arguments": {}
            }
          },
          "data": {
            "text/plain": [
              "+--------+-----+--------+------+-----------+\n|    date|delay|distance|origin|destination|\n+--------+-----+--------+------+-----------+\n|01011245|    6|     602|   ABE|        ATL|\n|01020600|   -8|     369|   ABE|        DTW|\n|01021245|   -2|     602|   ABE|        ATL|\n|01020605|   -4|     602|   ABE|        ATL|\n|01031245|   -4|     602|   ABE|        ATL|\n|01030605|    0|     602|   ABE|        ATL|\n|01041243|   10|     602|   ABE|        ATL|\n|01040605|   28|     602|   ABE|        ATL|\n|01051245|   88|     602|   ABE|        ATL|\n|01050605|    9|     602|   ABE|        ATL|\n+--------+-----+--------+------+-----------+\nonly showing top 10 rows\n\n"
            ]
          },
          "transient": null
        }
      ],
      "execution_count": null
    },
    {
      "cell_type": "code",
      "source": [
        "# Adicionando coluna\n",
        "df=df.withColumn(\"Nova coluna\",df['delay']+2)\n",
        "\n",
        "# Renomeando colunas\n",
        "df.withColumnRenamed(\"Nova coluna\",\"New column\").show()"
      ],
      "metadata": {
        "application/vnd.databricks.v1+cell": {
          "title": "",
          "showTitle": false,
          "inputWidgets": {},
          "nuid": "4ece1f51-adc9-49e0-b821-778a369f9a61"
        },
        "id": "-H6001x0Tnub",
        "outputId": "56e28b6b-cb64-4944-e331-4dbaf0203c89"
      },
      "outputs": [
        {
          "output_type": "display_data",
          "metadata": {
            "application/vnd.databricks.v1+output": {
              "datasetInfos": [],
              "data": "+--------+-----+--------+------+-----------+----------+\n|    date|delay|distance|origin|destination|New column|\n+--------+-----+--------+------+-----------+----------+\n|01011245|    6|     602|   ABE|        ATL|       8.0|\n|01020600|   -8|     369|   ABE|        DTW|      -6.0|\n|01021245|   -2|     602|   ABE|        ATL|       0.0|\n|01020605|   -4|     602|   ABE|        ATL|      -2.0|\n|01031245|   -4|     602|   ABE|        ATL|      -2.0|\n|01030605|    0|     602|   ABE|        ATL|       2.0|\n|01041243|   10|     602|   ABE|        ATL|      12.0|\n|01040605|   28|     602|   ABE|        ATL|      30.0|\n|01051245|   88|     602|   ABE|        ATL|      90.0|\n|01050605|    9|     602|   ABE|        ATL|      11.0|\n|01061215|   -6|     602|   ABE|        ATL|      -4.0|\n|01061725|   69|     602|   ABE|        ATL|      71.0|\n|01061230|    0|     369|   ABE|        DTW|       2.0|\n|01060625|   -3|     602|   ABE|        ATL|      -1.0|\n|01070600|    0|     369|   ABE|        DTW|       2.0|\n|01071725|    0|     602|   ABE|        ATL|       2.0|\n|01071230|    0|     369|   ABE|        DTW|       2.0|\n|01070625|    0|     602|   ABE|        ATL|       2.0|\n|01071219|    0|     569|   ABE|        ORD|       2.0|\n|01080600|    0|     369|   ABE|        DTW|       2.0|\n+--------+-----+--------+------+-----------+----------+\nonly showing top 20 rows\n\n",
              "removedWidgets": [],
              "addedWidgets": {},
              "metadata": {},
              "type": "ansi",
              "arguments": {}
            }
          },
          "data": {
            "text/plain": [
              "+--------+-----+--------+------+-----------+----------+\n|    date|delay|distance|origin|destination|New column|\n+--------+-----+--------+------+-----------+----------+\n|01011245|    6|     602|   ABE|        ATL|       8.0|\n|01020600|   -8|     369|   ABE|        DTW|      -6.0|\n|01021245|   -2|     602|   ABE|        ATL|       0.0|\n|01020605|   -4|     602|   ABE|        ATL|      -2.0|\n|01031245|   -4|     602|   ABE|        ATL|      -2.0|\n|01030605|    0|     602|   ABE|        ATL|       2.0|\n|01041243|   10|     602|   ABE|        ATL|      12.0|\n|01040605|   28|     602|   ABE|        ATL|      30.0|\n|01051245|   88|     602|   ABE|        ATL|      90.0|\n|01050605|    9|     602|   ABE|        ATL|      11.0|\n|01061215|   -6|     602|   ABE|        ATL|      -4.0|\n|01061725|   69|     602|   ABE|        ATL|      71.0|\n|01061230|    0|     369|   ABE|        DTW|       2.0|\n|01060625|   -3|     602|   ABE|        ATL|      -1.0|\n|01070600|    0|     369|   ABE|        DTW|       2.0|\n|01071725|    0|     602|   ABE|        ATL|       2.0|\n|01071230|    0|     369|   ABE|        DTW|       2.0|\n|01070625|    0|     602|   ABE|        ATL|       2.0|\n|01071219|    0|     569|   ABE|        ORD|       2.0|\n|01080600|    0|     369|   ABE|        DTW|       2.0|\n+--------+-----+--------+------+-----------+----------+\nonly showing top 20 rows\n\n"
            ]
          },
          "transient": null
        }
      ],
      "execution_count": null
    },
    {
      "cell_type": "code",
      "source": [
        "df.filter(\"delay is NULL\").show()"
      ],
      "metadata": {
        "application/vnd.databricks.v1+cell": {
          "title": "Trabalhando com Missing values",
          "showTitle": true,
          "inputWidgets": {},
          "nuid": "ee8e3c95-9218-4e22-92d0-581ed56ce946"
        },
        "id": "5hwKAAvuTnuc",
        "outputId": "69dfa124-5218-492f-e527-a9637c8b35eb"
      },
      "outputs": [
        {
          "output_type": "display_data",
          "metadata": {
            "application/vnd.databricks.v1+output": {
              "datasetInfos": [],
              "data": "+--------------------+-----+--------+------+-----------+-----------+\n|                date|delay|distance|origin|destination|Nova coluna|\n+--------------------+-----+--------+------+-----------+-----------+\n|Abbotsford\tBC\tCan...| null|    null|  null|       null|       null|\n| Aberdeen\tSD\tUSA\tABR| null|    null|  null|       null|       null|\n|  Abilene\tTX\tUSA\tABI| null|    null|  null|       null|       null|\n|    Akron\tOH\tUSA\tCAK| null|    null|  null|       null|       null|\n|  Alamosa\tCO\tUSA\tALS| null|    null|  null|       null|       null|\n|   Albany\tGA\tUSA\tABY| null|    null|  null|       null|       null|\n|   Albany\tNY\tUSA\tALB| null|    null|  null|       null|       null|\n|Albuquerque\tNM\tUS...| null|    null|  null|       null|       null|\n|Alexandria\tLA\tUSA...| null|    null|  null|       null|       null|\n|Allentown\tPA\tUSA\tABE| null|    null|  null|       null|       null|\n| Alliance\tNE\tUSA\tAIA| null|    null|  null|       null|       null|\n|   Alpena\tMI\tUSA\tAPN| null|    null|  null|       null|       null|\n|  Altoona\tPA\tUSA\tAOO| null|    null|  null|       null|       null|\n| Amarillo\tTX\tUSA\tAMA| null|    null|  null|       null|       null|\n|Anahim Lake\tBC\tCa...| null|    null|  null|       null|       null|\n|Anchorage\tAK\tUSA\tANC| null|    null|  null|       null|       null|\n| Appleton\tWI\tUSA\tATW| null|    null|  null|       null|       null|\n|Arviat\tNWT\tCanada...| null|    null|  null|       null|       null|\n|Asheville\tNC\tUSA\tAVL| null|    null|  null|       null|       null|\n|    Aspen\tCO\tUSA\tASE| null|    null|  null|       null|       null|\n+--------------------+-----+--------+------+-----------+-----------+\nonly showing top 20 rows\n\n",
              "removedWidgets": [],
              "addedWidgets": {},
              "metadata": {},
              "type": "ansi",
              "arguments": {}
            }
          },
          "data": {
            "text/plain": [
              "+--------------------+-----+--------+------+-----------+-----------+\n|                date|delay|distance|origin|destination|Nova coluna|\n+--------------------+-----+--------+------+-----------+-----------+\n|Abbotsford\tBC\tCan...| null|    null|  null|       null|       null|\n| Aberdeen\tSD\tUSA\tABR| null|    null|  null|       null|       null|\n|  Abilene\tTX\tUSA\tABI| null|    null|  null|       null|       null|\n|    Akron\tOH\tUSA\tCAK| null|    null|  null|       null|       null|\n|  Alamosa\tCO\tUSA\tALS| null|    null|  null|       null|       null|\n|   Albany\tGA\tUSA\tABY| null|    null|  null|       null|       null|\n|   Albany\tNY\tUSA\tALB| null|    null|  null|       null|       null|\n|Albuquerque\tNM\tUS...| null|    null|  null|       null|       null|\n|Alexandria\tLA\tUSA...| null|    null|  null|       null|       null|\n|Allentown\tPA\tUSA\tABE| null|    null|  null|       null|       null|\n| Alliance\tNE\tUSA\tAIA| null|    null|  null|       null|       null|\n|   Alpena\tMI\tUSA\tAPN| null|    null|  null|       null|       null|\n|  Altoona\tPA\tUSA\tAOO| null|    null|  null|       null|       null|\n| Amarillo\tTX\tUSA\tAMA| null|    null|  null|       null|       null|\n|Anahim Lake\tBC\tCa...| null|    null|  null|       null|       null|\n|Anchorage\tAK\tUSA\tANC| null|    null|  null|       null|       null|\n| Appleton\tWI\tUSA\tATW| null|    null|  null|       null|       null|\n|Arviat\tNWT\tCanada...| null|    null|  null|       null|       null|\n|Asheville\tNC\tUSA\tAVL| null|    null|  null|       null|       null|\n|    Aspen\tCO\tUSA\tASE| null|    null|  null|       null|       null|\n+--------------------+-----+--------+------+-----------+-----------+\nonly showing top 20 rows\n\n"
            ]
          },
          "transient": null
        }
      ],
      "execution_count": null
    },
    {
      "cell_type": "code",
      "source": [
        "# Filtrando valores missing\n",
        "df.filter(df.delay.isNull()).show(10)"
      ],
      "metadata": {
        "application/vnd.databricks.v1+cell": {
          "title": "",
          "showTitle": false,
          "inputWidgets": {},
          "nuid": "f51235c8-fc46-40bb-a54b-fe6f275ef7c6"
        },
        "id": "SdRhburBTnuc",
        "outputId": "380c3742-f674-40cb-8f44-d6e2bc97f3f8"
      },
      "outputs": [
        {
          "output_type": "display_data",
          "metadata": {
            "application/vnd.databricks.v1+output": {
              "datasetInfos": [],
              "data": "+--------------------+-----+--------+------+-----------+-----------+\n|                date|delay|distance|origin|destination|Nova coluna|\n+--------------------+-----+--------+------+-----------+-----------+\n|Abbotsford\tBC\tCan...| null|    null|  null|       null|       null|\n| Aberdeen\tSD\tUSA\tABR| null|    null|  null|       null|       null|\n|  Abilene\tTX\tUSA\tABI| null|    null|  null|       null|       null|\n|    Akron\tOH\tUSA\tCAK| null|    null|  null|       null|       null|\n|  Alamosa\tCO\tUSA\tALS| null|    null|  null|       null|       null|\n|   Albany\tGA\tUSA\tABY| null|    null|  null|       null|       null|\n|   Albany\tNY\tUSA\tALB| null|    null|  null|       null|       null|\n|Albuquerque\tNM\tUS...| null|    null|  null|       null|       null|\n|Alexandria\tLA\tUSA...| null|    null|  null|       null|       null|\n|Allentown\tPA\tUSA\tABE| null|    null|  null|       null|       null|\n+--------------------+-----+--------+------+-----------+-----------+\nonly showing top 10 rows\n\n",
              "removedWidgets": [],
              "addedWidgets": {},
              "metadata": {},
              "type": "ansi",
              "arguments": {}
            }
          },
          "data": {
            "text/plain": [
              "+--------------------+-----+--------+------+-----------+-----------+\n|                date|delay|distance|origin|destination|Nova coluna|\n+--------------------+-----+--------+------+-----------+-----------+\n|Abbotsford\tBC\tCan...| null|    null|  null|       null|       null|\n| Aberdeen\tSD\tUSA\tABR| null|    null|  null|       null|       null|\n|  Abilene\tTX\tUSA\tABI| null|    null|  null|       null|       null|\n|    Akron\tOH\tUSA\tCAK| null|    null|  null|       null|       null|\n|  Alamosa\tCO\tUSA\tALS| null|    null|  null|       null|       null|\n|   Albany\tGA\tUSA\tABY| null|    null|  null|       null|       null|\n|   Albany\tNY\tUSA\tALB| null|    null|  null|       null|       null|\n|Albuquerque\tNM\tUS...| null|    null|  null|       null|       null|\n|Alexandria\tLA\tUSA...| null|    null|  null|       null|       null|\n|Allentown\tPA\tUSA\tABE| null|    null|  null|       null|       null|\n+--------------------+-----+--------+------+-----------+-----------+\nonly showing top 10 rows\n\n"
            ]
          },
          "transient": null
        }
      ],
      "execution_count": null
    },
    {
      "cell_type": "code",
      "source": [
        "# Preenchendo com valores 0\n",
        "df.na.fill(value=0).show()"
      ],
      "metadata": {
        "application/vnd.databricks.v1+cell": {
          "title": "Preenchendo dados Missing",
          "showTitle": true,
          "inputWidgets": {},
          "nuid": "ab02c958-8b78-415c-85e6-1e1b5f788455"
        },
        "id": "1vejHS3kTnud",
        "outputId": "9e8b9454-aa50-44e5-c30e-e589432f76e4"
      },
      "outputs": [
        {
          "output_type": "display_data",
          "metadata": {
            "application/vnd.databricks.v1+output": {
              "datasetInfos": [],
              "data": "+--------+-----+--------+------+-----------+-----------+\n|    date|delay|distance|origin|destination|Nova coluna|\n+--------+-----+--------+------+-----------+-----------+\n|01011245|    6|     602|   ABE|        ATL|        8.0|\n|01020600|   -8|     369|   ABE|        DTW|       -6.0|\n|01021245|   -2|     602|   ABE|        ATL|        0.0|\n|01020605|   -4|     602|   ABE|        ATL|       -2.0|\n|01031245|   -4|     602|   ABE|        ATL|       -2.0|\n|01030605|    0|     602|   ABE|        ATL|        2.0|\n|01041243|   10|     602|   ABE|        ATL|       12.0|\n|01040605|   28|     602|   ABE|        ATL|       30.0|\n|01051245|   88|     602|   ABE|        ATL|       90.0|\n|01050605|    9|     602|   ABE|        ATL|       11.0|\n|01061215|   -6|     602|   ABE|        ATL|       -4.0|\n|01061725|   69|     602|   ABE|        ATL|       71.0|\n|01061230|    0|     369|   ABE|        DTW|        2.0|\n|01060625|   -3|     602|   ABE|        ATL|       -1.0|\n|01070600|    0|     369|   ABE|        DTW|        2.0|\n|01071725|    0|     602|   ABE|        ATL|        2.0|\n|01071230|    0|     369|   ABE|        DTW|        2.0|\n|01070625|    0|     602|   ABE|        ATL|        2.0|\n|01071219|    0|     569|   ABE|        ORD|        2.0|\n|01080600|    0|     369|   ABE|        DTW|        2.0|\n+--------+-----+--------+------+-----------+-----------+\nonly showing top 20 rows\n\n",
              "removedWidgets": [],
              "addedWidgets": {},
              "metadata": {},
              "type": "ansi",
              "arguments": {}
            }
          },
          "data": {
            "text/plain": [
              "+--------+-----+--------+------+-----------+-----------+\n|    date|delay|distance|origin|destination|Nova coluna|\n+--------+-----+--------+------+-----------+-----------+\n|01011245|    6|     602|   ABE|        ATL|        8.0|\n|01020600|   -8|     369|   ABE|        DTW|       -6.0|\n|01021245|   -2|     602|   ABE|        ATL|        0.0|\n|01020605|   -4|     602|   ABE|        ATL|       -2.0|\n|01031245|   -4|     602|   ABE|        ATL|       -2.0|\n|01030605|    0|     602|   ABE|        ATL|        2.0|\n|01041243|   10|     602|   ABE|        ATL|       12.0|\n|01040605|   28|     602|   ABE|        ATL|       30.0|\n|01051245|   88|     602|   ABE|        ATL|       90.0|\n|01050605|    9|     602|   ABE|        ATL|       11.0|\n|01061215|   -6|     602|   ABE|        ATL|       -4.0|\n|01061725|   69|     602|   ABE|        ATL|       71.0|\n|01061230|    0|     369|   ABE|        DTW|        2.0|\n|01060625|   -3|     602|   ABE|        ATL|       -1.0|\n|01070600|    0|     369|   ABE|        DTW|        2.0|\n|01071725|    0|     602|   ABE|        ATL|        2.0|\n|01071230|    0|     369|   ABE|        DTW|        2.0|\n|01070625|    0|     602|   ABE|        ATL|        2.0|\n|01071219|    0|     569|   ABE|        ORD|        2.0|\n|01080600|    0|     369|   ABE|        DTW|        2.0|\n+--------+-----+--------+------+-----------+-----------+\nonly showing top 20 rows\n\n"
            ]
          },
          "transient": null
        }
      ],
      "execution_count": null
    },
    {
      "cell_type": "code",
      "source": [
        "# Prenchendo valores missing com valor 0 apenas da coluna delay\n",
        "df.na.fill(value=0,subset=['delay']).show()"
      ],
      "metadata": {
        "application/vnd.databricks.v1+cell": {
          "title": "",
          "showTitle": false,
          "inputWidgets": {},
          "nuid": "12c53e09-fc3f-4b06-8d77-c04b750019b8"
        },
        "id": "bQWKwKRETnud",
        "outputId": "4dcddd54-4a1b-4664-df72-f4676861d219"
      },
      "outputs": [
        {
          "output_type": "display_data",
          "metadata": {
            "application/vnd.databricks.v1+output": {
              "datasetInfos": [],
              "data": "+--------+-----+--------+------+-----------+-----------+\n|    date|delay|distance|origin|destination|Nova coluna|\n+--------+-----+--------+------+-----------+-----------+\n|01011245|    6|     602|   ABE|        ATL|        8.0|\n|01020600|   -8|     369|   ABE|        DTW|       -6.0|\n|01021245|   -2|     602|   ABE|        ATL|        0.0|\n|01020605|   -4|     602|   ABE|        ATL|       -2.0|\n|01031245|   -4|     602|   ABE|        ATL|       -2.0|\n|01030605|    0|     602|   ABE|        ATL|        2.0|\n|01041243|   10|     602|   ABE|        ATL|       12.0|\n|01040605|   28|     602|   ABE|        ATL|       30.0|\n|01051245|   88|     602|   ABE|        ATL|       90.0|\n|01050605|    9|     602|   ABE|        ATL|       11.0|\n|01061215|   -6|     602|   ABE|        ATL|       -4.0|\n|01061725|   69|     602|   ABE|        ATL|       71.0|\n|01061230|    0|     369|   ABE|        DTW|        2.0|\n|01060625|   -3|     602|   ABE|        ATL|       -1.0|\n|01070600|    0|     369|   ABE|        DTW|        2.0|\n|01071725|    0|     602|   ABE|        ATL|        2.0|\n|01071230|    0|     369|   ABE|        DTW|        2.0|\n|01070625|    0|     602|   ABE|        ATL|        2.0|\n|01071219|    0|     569|   ABE|        ORD|        2.0|\n|01080600|    0|     369|   ABE|        DTW|        2.0|\n+--------+-----+--------+------+-----------+-----------+\nonly showing top 20 rows\n\n",
              "removedWidgets": [],
              "addedWidgets": {},
              "metadata": {},
              "type": "ansi",
              "arguments": {}
            }
          },
          "data": {
            "text/plain": [
              "+--------+-----+--------+------+-----------+-----------+\n|    date|delay|distance|origin|destination|Nova coluna|\n+--------+-----+--------+------+-----------+-----------+\n|01011245|    6|     602|   ABE|        ATL|        8.0|\n|01020600|   -8|     369|   ABE|        DTW|       -6.0|\n|01021245|   -2|     602|   ABE|        ATL|        0.0|\n|01020605|   -4|     602|   ABE|        ATL|       -2.0|\n|01031245|   -4|     602|   ABE|        ATL|       -2.0|\n|01030605|    0|     602|   ABE|        ATL|        2.0|\n|01041243|   10|     602|   ABE|        ATL|       12.0|\n|01040605|   28|     602|   ABE|        ATL|       30.0|\n|01051245|   88|     602|   ABE|        ATL|       90.0|\n|01050605|    9|     602|   ABE|        ATL|       11.0|\n|01061215|   -6|     602|   ABE|        ATL|       -4.0|\n|01061725|   69|     602|   ABE|        ATL|       71.0|\n|01061230|    0|     369|   ABE|        DTW|        2.0|\n|01060625|   -3|     602|   ABE|        ATL|       -1.0|\n|01070600|    0|     369|   ABE|        DTW|        2.0|\n|01071725|    0|     602|   ABE|        ATL|        2.0|\n|01071230|    0|     369|   ABE|        DTW|        2.0|\n|01070625|    0|     602|   ABE|        ATL|        2.0|\n|01071219|    0|     569|   ABE|        ORD|        2.0|\n|01080600|    0|     369|   ABE|        DTW|        2.0|\n+--------+-----+--------+------+-----------+-----------+\nonly showing top 20 rows\n\n"
            ]
          },
          "transient": null
        }
      ],
      "execution_count": null
    },
    {
      "cell_type": "code",
      "source": [
        "# Preenchendo os dados com valores de string vazia\n",
        "df.na.fill(\"\").show()"
      ],
      "metadata": {
        "application/vnd.databricks.v1+cell": {
          "title": "",
          "showTitle": false,
          "inputWidgets": {},
          "nuid": "d6786098-ae2b-44cf-b95c-a4459b1748fd"
        },
        "id": "CFa4pCVhTnue",
        "outputId": "bbe65419-1449-49b2-8182-1f14a4f8701d"
      },
      "outputs": [
        {
          "output_type": "display_data",
          "metadata": {
            "application/vnd.databricks.v1+output": {
              "datasetInfos": [],
              "data": "+--------+-----+--------+------+-----------+-----------+\n|    date|delay|distance|origin|destination|Nova coluna|\n+--------+-----+--------+------+-----------+-----------+\n|01011245|    6|     602|   ABE|        ATL|        8.0|\n|01020600|   -8|     369|   ABE|        DTW|       -6.0|\n|01021245|   -2|     602|   ABE|        ATL|        0.0|\n|01020605|   -4|     602|   ABE|        ATL|       -2.0|\n|01031245|   -4|     602|   ABE|        ATL|       -2.0|\n|01030605|    0|     602|   ABE|        ATL|        2.0|\n|01041243|   10|     602|   ABE|        ATL|       12.0|\n|01040605|   28|     602|   ABE|        ATL|       30.0|\n|01051245|   88|     602|   ABE|        ATL|       90.0|\n|01050605|    9|     602|   ABE|        ATL|       11.0|\n|01061215|   -6|     602|   ABE|        ATL|       -4.0|\n|01061725|   69|     602|   ABE|        ATL|       71.0|\n|01061230|    0|     369|   ABE|        DTW|        2.0|\n|01060625|   -3|     602|   ABE|        ATL|       -1.0|\n|01070600|    0|     369|   ABE|        DTW|        2.0|\n|01071725|    0|     602|   ABE|        ATL|        2.0|\n|01071230|    0|     369|   ABE|        DTW|        2.0|\n|01070625|    0|     602|   ABE|        ATL|        2.0|\n|01071219|    0|     569|   ABE|        ORD|        2.0|\n|01080600|    0|     369|   ABE|        DTW|        2.0|\n+--------+-----+--------+------+-----------+-----------+\nonly showing top 20 rows\n\n",
              "removedWidgets": [],
              "addedWidgets": {},
              "metadata": {},
              "type": "ansi",
              "arguments": {}
            }
          },
          "data": {
            "text/plain": [
              "+--------+-----+--------+------+-----------+-----------+\n|    date|delay|distance|origin|destination|Nova coluna|\n+--------+-----+--------+------+-----------+-----------+\n|01011245|    6|     602|   ABE|        ATL|        8.0|\n|01020600|   -8|     369|   ABE|        DTW|       -6.0|\n|01021245|   -2|     602|   ABE|        ATL|        0.0|\n|01020605|   -4|     602|   ABE|        ATL|       -2.0|\n|01031245|   -4|     602|   ABE|        ATL|       -2.0|\n|01030605|    0|     602|   ABE|        ATL|        2.0|\n|01041243|   10|     602|   ABE|        ATL|       12.0|\n|01040605|   28|     602|   ABE|        ATL|       30.0|\n|01051245|   88|     602|   ABE|        ATL|       90.0|\n|01050605|    9|     602|   ABE|        ATL|       11.0|\n|01061215|   -6|     602|   ABE|        ATL|       -4.0|\n|01061725|   69|     602|   ABE|        ATL|       71.0|\n|01061230|    0|     369|   ABE|        DTW|        2.0|\n|01060625|   -3|     602|   ABE|        ATL|       -1.0|\n|01070600|    0|     369|   ABE|        DTW|        2.0|\n|01071725|    0|     602|   ABE|        ATL|        2.0|\n|01071230|    0|     369|   ABE|        DTW|        2.0|\n|01070625|    0|     602|   ABE|        ATL|        2.0|\n|01071219|    0|     569|   ABE|        ORD|        2.0|\n|01080600|    0|     369|   ABE|        DTW|        2.0|\n+--------+-----+--------+------+-----------+-----------+\nonly showing top 20 rows\n\n"
            ]
          },
          "transient": null
        }
      ],
      "execution_count": null
    },
    {
      "cell_type": "code",
      "source": [
        "# Removendo qualquer linha nula de qualquer coluna\n",
        "df.na.drop().show()"
      ],
      "metadata": {
        "application/vnd.databricks.v1+cell": {
          "title": "",
          "showTitle": false,
          "inputWidgets": {},
          "nuid": "b06af2c2-3d5c-4a11-81bb-6ee753caedad"
        },
        "id": "UQuymuWFTnuf",
        "outputId": "1b492e61-38e2-408e-c850-5a82a22b29ef"
      },
      "outputs": [
        {
          "output_type": "display_data",
          "metadata": {
            "application/vnd.databricks.v1+output": {
              "datasetInfos": [],
              "data": "+--------+-----+--------+------+-----------+-----------+\n|    date|delay|distance|origin|destination|Nova coluna|\n+--------+-----+--------+------+-----------+-----------+\n|01011245|    6|     602|   ABE|        ATL|        8.0|\n|01020600|   -8|     369|   ABE|        DTW|       -6.0|\n|01021245|   -2|     602|   ABE|        ATL|        0.0|\n|01020605|   -4|     602|   ABE|        ATL|       -2.0|\n|01031245|   -4|     602|   ABE|        ATL|       -2.0|\n|01030605|    0|     602|   ABE|        ATL|        2.0|\n|01041243|   10|     602|   ABE|        ATL|       12.0|\n|01040605|   28|     602|   ABE|        ATL|       30.0|\n|01051245|   88|     602|   ABE|        ATL|       90.0|\n|01050605|    9|     602|   ABE|        ATL|       11.0|\n|01061215|   -6|     602|   ABE|        ATL|       -4.0|\n|01061725|   69|     602|   ABE|        ATL|       71.0|\n|01061230|    0|     369|   ABE|        DTW|        2.0|\n|01060625|   -3|     602|   ABE|        ATL|       -1.0|\n|01070600|    0|     369|   ABE|        DTW|        2.0|\n|01071725|    0|     602|   ABE|        ATL|        2.0|\n|01071230|    0|     369|   ABE|        DTW|        2.0|\n|01070625|    0|     602|   ABE|        ATL|        2.0|\n|01071219|    0|     569|   ABE|        ORD|        2.0|\n|01080600|    0|     369|   ABE|        DTW|        2.0|\n+--------+-----+--------+------+-----------+-----------+\nonly showing top 20 rows\n\n",
              "removedWidgets": [],
              "addedWidgets": {},
              "metadata": {},
              "type": "ansi",
              "arguments": {}
            }
          },
          "data": {
            "text/plain": [
              "+--------+-----+--------+------+-----------+-----------+\n|    date|delay|distance|origin|destination|Nova coluna|\n+--------+-----+--------+------+-----------+-----------+\n|01011245|    6|     602|   ABE|        ATL|        8.0|\n|01020600|   -8|     369|   ABE|        DTW|       -6.0|\n|01021245|   -2|     602|   ABE|        ATL|        0.0|\n|01020605|   -4|     602|   ABE|        ATL|       -2.0|\n|01031245|   -4|     602|   ABE|        ATL|       -2.0|\n|01030605|    0|     602|   ABE|        ATL|        2.0|\n|01041243|   10|     602|   ABE|        ATL|       12.0|\n|01040605|   28|     602|   ABE|        ATL|       30.0|\n|01051245|   88|     602|   ABE|        ATL|       90.0|\n|01050605|    9|     602|   ABE|        ATL|       11.0|\n|01061215|   -6|     602|   ABE|        ATL|       -4.0|\n|01061725|   69|     602|   ABE|        ATL|       71.0|\n|01061230|    0|     369|   ABE|        DTW|        2.0|\n|01060625|   -3|     602|   ABE|        ATL|       -1.0|\n|01070600|    0|     369|   ABE|        DTW|        2.0|\n|01071725|    0|     602|   ABE|        ATL|        2.0|\n|01071230|    0|     369|   ABE|        DTW|        2.0|\n|01070625|    0|     602|   ABE|        ATL|        2.0|\n|01071219|    0|     569|   ABE|        ORD|        2.0|\n|01080600|    0|     369|   ABE|        DTW|        2.0|\n+--------+-----+--------+------+-----------+-----------+\nonly showing top 20 rows\n\n"
            ]
          },
          "transient": null
        }
      ],
      "execution_count": null
    }
  ],
  "metadata": {
    "application/vnd.databricks.v1+notebook": {
      "notebookName": "Spark basic",
      "dashboards": [],
      "notebookMetadata": {
        "pythonIndentUnit": 4
      },
      "language": "python",
      "widgets": {},
      "notebookOrigID": 1528336186917392
    },
    "colab": {
      "name": "Spark basic.ipynb",
      "provenance": []
    }
  },
  "nbformat": 4,
  "nbformat_minor": 0
}