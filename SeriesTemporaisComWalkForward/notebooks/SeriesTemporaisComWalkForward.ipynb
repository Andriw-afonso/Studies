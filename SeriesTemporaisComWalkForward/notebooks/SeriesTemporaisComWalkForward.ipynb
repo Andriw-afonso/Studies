{
  "nbformat": 4,
  "nbformat_minor": 0,
  "metadata": {
    "colab": {
      "name": "PrevisaoDeVendas.ipynb",
      "provenance": []
    },
    "kernelspec": {
      "name": "python3",
      "display_name": "Python 3"
    },
    "language_info": {
      "name": "python"
    }
  },
  "cells": [
    {
      "cell_type": "markdown",
      "source": [
        "# 0.0. IMPORTS"
      ],
      "metadata": {
        "id": "1sRs_QiMXvEL"
      }
    },
    {
      "cell_type": "code",
      "execution_count": 2,
      "metadata": {
        "id": "qCHseahUXHmd"
      },
      "outputs": [],
      "source": [
        "import pandas              as pd\n",
        "import matplotlib.pyplot   as plt\n",
        "import pandas.util.testing as tm\n",
        "import statsmodels.api     as sm\n",
        "import numpy               as np\n",
        "import warnings\n",
        "\n",
        "from pandas                        import DataFrame\n",
        "from pandas                        import Grouper\n",
        "from statsmodels.graphics.tsaplots import plot_acf\n",
        "from statsmodels.graphics.tsaplots import plot_pacf\n",
        "from statsmodels.tsa.stattools     import adfuller\n",
        "from sklearn.metrics               import mean_squared_error\n",
        "from math                          import sqrt\n",
        "from statsmodels.tsa.arima_model   import ARIMA\n",
        "from statsmodels.tsa.seasonal      import seasonal_decompose\n",
        "from fbprophet                     import Prophet\n",
        "from sklearn.metrics               import mean_absolute_error,mean_squared_error\n",
        "from sklearn.metrics               import r2_score\n",
        "\n",
        "\n",
        "warnings.filterwarnings(\"ignore\")\n",
        "pd.set_option('display.float_format', lambda x: '%.2f' % x)"
      ]
    },
    {
      "cell_type": "markdown",
      "source": [
        "## 0.1. Help Functions"
      ],
      "metadata": {
        "id": "vyDN-6eXXzYR"
      }
    },
    {
      "cell_type": "code",
      "source": [
        "# Cria a função que faz a diferenciação\n",
        "def difference( dataset, interval=1):\n",
        "  diff = list()\n",
        "  for i in range(interval, len(dataset)):\n",
        "    value = dataset[i] - dataset[i - interval]\n",
        "    diff.append(value)\n",
        "  return diff\n",
        "\n",
        "\n",
        "# Cria a função que reverte o valor diferenciado para o original\n",
        "def inverse_difference( history, previsao, interval=1):\n",
        "  return previsao + history[-interval]\n",
        "\n",
        "\n",
        "# Cria a função que executa o modelo arima\n",
        "def evaluate_arima_model(X, arima_order):\n",
        "  # Converte o conjunto de dados\n",
        "  X = X.astype('float32')\n",
        "  # Separa os dados com 50% dos dados para treino e 50% para teste \n",
        "  train_size = int(len(X) * 0.50)\n",
        "  train, test = X[0:train_size], X[train_size:]\n",
        "  history = [x for x in train] \n",
        "  # Cria a lista de previsões\n",
        "  predictions = list()\n",
        "  for t in range(len(test)):\n",
        "    # Aplica diferenciação nos dados\n",
        "    months_in_year = 12\n",
        "    diff = difference(history, months_in_year)\n",
        "    # Treina o modelo ARIMA\n",
        "    model = ARIMA(diff, order=arima_order)\n",
        "    model_fit = model.fit(trend='nc', disp=0)\n",
        "    # Recebe os dados previtos pelo modelo\n",
        "    valor_previsto = model_fit.forecast()[0]\n",
        "    valor_previsto = inverse_difference(history, valor_previsto, months_in_year)\n",
        "    # Adiciona os dados na lista de previsões\n",
        "    predictions.append(valor_previsto)\n",
        "    history.append(test[t])\n",
        "  # Calculate o erro rmse\n",
        "  rmse = sqrt(mean_squared_error(test, predictions))\n",
        "  return rmse\n",
        "\n",
        "\n",
        "# Loop com combinações de p, d e q para o modelo ARIMA\n",
        "def evaluate_models(dataset, p_values, d_values, q_values):\n",
        "  dataset = dataset.astype('float32')\n",
        "  best_score, best_cfg = float(\"inf\"), None\n",
        "  # Intera sobre todos os valores de p\n",
        "  for p in p_values:\n",
        "    # Intera sobre todos os valores de d\n",
        "    for d in d_values:\n",
        "      # Intera sobre todos os valoes de q\n",
        "      for q in q_values:\n",
        "        order = (p,d,q)\n",
        "        try:\n",
        "          # Chama a funcão que executa o ARIMA\n",
        "          rmse = evaluate_arima_model(dataset, order)\n",
        "          if rmse < best_score:\n",
        "            best_score, best_cfg = rmse, order\n",
        "          print('ARIMA%s RMSE=%.3f' % (order,rmse))\n",
        "        except:\n",
        "          continue \n",
        "    print('Best ARIMA%s RMSE=%.3f' % (best_cfg, best_score))\n",
        "\n",
        "\n",
        "# Função que calcula as métricas do modelo\n",
        "def ml_error(model_name,y,yhat):\n",
        "\n",
        "  mae=mean_absolute_error(y,yhat)\n",
        "  mape=np.mean(np.abs((y-yhat)/y))\n",
        "  rmse=np.sqrt(mean_squared_error(y,yhat))\n",
        "  r2score=r2_score(y,yhat)\n",
        "\n",
        "  return pd.DataFrame({    'Model Name':  model_name,\n",
        "                           'MAE':         mae,\n",
        "                           'MAPE':        mape,\n",
        "                           'RMSE':        rmse  ,\n",
        "                           'R2-SCORE':    r2score     },index=[0])"
      ],
      "metadata": {
        "id": "MU1pKNeqX6lN"
      },
      "execution_count": 3,
      "outputs": []
    },
    {
      "cell_type": "markdown",
      "source": [
        "## 0.2. Loading Data"
      ],
      "metadata": {
        "id": "5Bswrb-3X7Lp"
      }
    },
    {
      "cell_type": "code",
      "source": [
        "series=pd.read_csv('/content/champagne_sales.csv', header=0, index_col=0, parse_dates=True, squeeze=True)\n",
        "series.head()"
      ],
      "metadata": {
        "colab": {
          "base_uri": "https://localhost:8080/"
        },
        "id": "DK_giUn4X_an",
        "outputId": "254a7543-f60d-46c7-d735-cc9bfdf7a065"
      },
      "execution_count": 4,
      "outputs": [
        {
          "output_type": "execute_result",
          "data": {
            "text/plain": [
              "Month\n",
              "1964-01-01    2815\n",
              "1964-02-01    2672\n",
              "1964-03-01    2755\n",
              "1964-04-01    2721\n",
              "1964-05-01    2946\n",
              "Name: Sales, dtype: int64"
            ]
          },
          "metadata": {},
          "execution_count": 4
        }
      ]
    },
    {
      "cell_type": "markdown",
      "source": [
        "## 0.3. Separando os dados em Treino, Teste e Validação."
      ],
      "metadata": {
        "id": "Ej6I96Z1fESq"
      }
    },
    {
      "cell_type": "code",
      "source": [
        "# Separando os dados por meses\n",
        "split_point= len(series) - 12\n",
        "\n",
        "# Dataset vai conter linhas até o split_point\n",
        "dataset=series[0:split_point]\n",
        "\n",
        "# Validation terá dados do split_point em diante\n",
        "validation= series[split_point:]\n",
        "\n",
        "# Imprime o tamanho dos conjuntos\n",
        "print('Dataset %d, Validation %d' % (len(dataset), len(validation)))"
      ],
      "metadata": {
        "id": "RLVZ_-B2fTJS",
        "colab": {
          "base_uri": "https://localhost:8080/"
        },
        "outputId": "3364237a-25ee-4ebe-e90f-e1788c02e9fb"
      },
      "execution_count": 5,
      "outputs": [
        {
          "output_type": "stream",
          "name": "stdout",
          "text": [
            "Dataset 93, Validation 12\n"
          ]
        }
      ]
    },
    {
      "cell_type": "markdown",
      "source": [
        "# 1.0. DESCRIPTION OF THE DATA"
      ],
      "metadata": {
        "id": "lwNl1OCrabJh"
      }
    },
    {
      "cell_type": "markdown",
      "source": [
        "## 1.1. Estatística descritíva"
      ],
      "metadata": {
        "id": "3FsiTuL5DZMm"
      }
    },
    {
      "cell_type": "code",
      "source": [
        "series.describe()"
      ],
      "metadata": {
        "colab": {
          "base_uri": "https://localhost:8080/"
        },
        "id": "XgYOYQXUbdr_",
        "outputId": "17699965-824f-4ae8-f3e2-a6a1c7c2482d"
      },
      "execution_count": 6,
      "outputs": [
        {
          "output_type": "execute_result",
          "data": {
            "text/plain": [
              "count     105.00\n",
              "mean     4761.15\n",
              "std      2553.50\n",
              "min      1413.00\n",
              "25%      3113.00\n",
              "50%      4217.00\n",
              "75%      5221.00\n",
              "max     13916.00\n",
              "Name: Sales, dtype: float64"
            ]
          },
          "metadata": {},
          "execution_count": 6
        }
      ]
    },
    {
      "cell_type": "markdown",
      "source": [
        "## 1.2. Dados no tempo"
      ],
      "metadata": {
        "id": "JV19zCz9Cgwu"
      }
    },
    {
      "cell_type": "code",
      "source": [
        "series.plot()"
      ],
      "metadata": {
        "colab": {
          "base_uri": "https://localhost:8080/",
          "height": 0
        },
        "id": "OqL4yNVwdwgY",
        "outputId": "1470cea0-12a7-4175-b0bb-34a002e13b3c"
      },
      "execution_count": 7,
      "outputs": [
        {
          "output_type": "execute_result",
          "data": {
            "text/plain": [
              "<matplotlib.axes._subplots.AxesSubplot at 0x7f0d7ca12790>"
            ]
          },
          "metadata": {},
          "execution_count": 7
        },
        {
          "output_type": "display_data",
          "data": {
            "text/plain": [
              "<Figure size 432x288 with 1 Axes>"
            ],
            "image/png": "[encoded data removed]"
          },
          "metadata": {
            "needs_background": "light"
          }
        }
      ]
    },
    {
      "cell_type": "markdown",
      "source": [
        "## 1.3. Visualizando a sazonalidade"
      ],
      "metadata": {
        "id": "K4jL_EV3CoVm"
      }
    },
    {
      "cell_type": "code",
      "source": [
        "grupos = series['1964':'1970'].groupby(Grouper(freq='A'))\n",
        "anos = DataFrame()\n",
        "\n",
        "for nome, grupo in grupos:\n",
        "  anos[nome.year] = grupo.values\n",
        "\n",
        "anos.plot( figsize=(10,5),\n",
        "           subplots=True,\n",
        "           title='Vendas em meses por anos')"
      ],
      "metadata": {
        "colab": {
          "base_uri": "https://localhost:8080/",
          "height": 0
        },
        "id": "P_VXrWXQidoQ",
        "outputId": "282bcbae-042b-4d19-8411-1164d34b7e52"
      },
      "execution_count": 8,
      "outputs": [
        {
          "output_type": "execute_result",
          "data": {
            "text/plain": [
              "array([<matplotlib.axes._subplots.AxesSubplot object at 0x7f0d7bb73850>,\n",
              "       <matplotlib.axes._subplots.AxesSubplot object at 0x7f0d7bb34d50>,\n",
              "       <matplotlib.axes._subplots.AxesSubplot object at 0x7f0d7bb73550>,\n",
              "       <matplotlib.axes._subplots.AxesSubplot object at 0x7f0d7bab63d0>,\n",
              "       <matplotlib.axes._subplots.AxesSubplot object at 0x7f0d7ba6c710>,\n",
              "       <matplotlib.axes._subplots.AxesSubplot object at 0x7f0d7ba26a50>,\n",
              "       <matplotlib.axes._subplots.AxesSubplot object at 0x7f0d7b9dde10>],\n",
              "      dtype=object)"
            ]
          },
          "metadata": {},
          "execution_count": 8
        },
        {
          "output_type": "display_data",
          "data": {
            "text/plain": [
              "<Figure size 720x360 with 7 Axes>"
            ],
            "image/png": "[encoded data removed]"
          },
          "metadata": {
            "needs_background": "light"
          }
        }
      ]
    },
    {
      "cell_type": "markdown",
      "source": [
        "## 1.4. Distribuição da série"
      ],
      "metadata": {
        "id": "us4LqJN2C0pG"
      }
    },
    {
      "cell_type": "code",
      "source": [
        "plt.figure(1)\n",
        "plt.subplot(211)\n",
        "series.hist()\n",
        "plt.subplot(212)\n",
        "series.plot(kind='kde')\n",
        "plt.show()"
      ],
      "metadata": {
        "colab": {
          "base_uri": "https://localhost:8080/",
          "height": 0
        },
        "id": "8lUryRaIkaMm",
        "outputId": "ccef205a-ca8a-40a1-8bfc-982b29a07b90"
      },
      "execution_count": 9,
      "outputs": [
        {
          "output_type": "display_data",
          "data": {
            "text/plain": [
              "<Figure size 432x288 with 2 Axes>"
            ],
            "image/png": "[encoded data removed]"
          },
          "metadata": {
            "needs_background": "light"
          }
        }
      ]
    },
    {
      "cell_type": "markdown",
      "source": [
        "## 1.5. Visualizando a Autocorrelação"
      ],
      "metadata": {
        "id": "bGNkXbGoC7B2"
      }
    },
    {
      "cell_type": "code",
      "source": [
        "plot_acf(series, lags=40)\n",
        "plt.show()"
      ],
      "metadata": {
        "colab": {
          "base_uri": "https://localhost:8080/",
          "height": 0
        },
        "id": "6jsINHO7lLbm",
        "outputId": "0e8b129a-e5e6-49ac-9615-aa22118cf207"
      },
      "execution_count": 10,
      "outputs": [
        {
          "output_type": "display_data",
          "data": {
            "text/plain": [
              "<Figure size 432x288 with 1 Axes>"
            ],
            "image/png": "[encoded data removed]"
          },
          "metadata": {
            "needs_background": "light"
          }
        }
      ]
    },
    {
      "cell_type": "markdown",
      "source": [
        "## 1.6. Checando Estacionalidade"
      ],
      "metadata": {
        "id": "YgXAUK8ADHV2"
      }
    },
    {
      "cell_type": "code",
      "source": [
        "resultado= adfuller(series.values)\n",
        "print('\\nADF teste: %f' % resultado[0])\n",
        "print('\\np-value: %f' % resultado[1])\n",
        "print('\\nCritical Values: ')\n",
        "for key, value in resultado[4].items():\n",
        "  print('\\t%s: %.3f' % (key, value))"
      ],
      "metadata": {
        "colab": {
          "base_uri": "https://localhost:8080/"
        },
        "id": "B5IhMtbpmYso",
        "outputId": "36a25b51-9663-4080-cb21-aa5e5ea290c8"
      },
      "execution_count": 11,
      "outputs": [
        {
          "output_type": "stream",
          "name": "stdout",
          "text": [
            "\n",
            "ADF teste: -1.833593\n",
            "\n",
            "p-value: 0.363916\n",
            "\n",
            "Critical Values: \n",
            "\t1%: -3.503\n",
            "\t5%: -2.893\n",
            "\t10%: -2.584\n"
          ]
        }
      ]
    },
    {
      "cell_type": "markdown",
      "source": [
        "# 2.0. DATA PREPARATION"
      ],
      "metadata": {
        "id": "7S0vC3s0waNT"
      }
    },
    {
      "cell_type": "code",
      "source": [
        "# Atribuindo os dados a variável X\n",
        "X = series.values\n",
        "\n",
        "# Definindo o tamanho do dataset de treino e teste\n",
        "train_size= int(len(X) * 0.50)\n",
        "\n",
        "# Cria os conjuntos de treino e teste\n",
        "train= X[0: train_size]\n",
        "test= X[train_size:]"
      ],
      "metadata": {
        "id": "Py7wyZ5LqPYO"
      },
      "execution_count": 12,
      "outputs": []
    },
    {
      "cell_type": "markdown",
      "source": [
        "# 3.0. MACHINE LEARNING MODELLING"
      ],
      "metadata": {
        "id": "-J6YaqkJrM7i"
      }
    },
    {
      "cell_type": "markdown",
      "source": [
        "## 3.1. BaseLine"
      ],
      "metadata": {
        "id": "_crG6O7owwID"
      }
    },
    {
      "cell_type": "code",
      "source": [
        "# Obtendo todos os dados de treino\n",
        "history= [x for x in train]\n",
        "\n",
        "# Criando a lista de previsões\n",
        "predictions= list()\n",
        "\n",
        "# Aplicando o BaseLine\n",
        "for i in range(len(test)):\n",
        "\n",
        "  # valor_predito recebe o último valor do conjunto de treino\n",
        "  valor_predito = history[-1]\n",
        "\n",
        "  # A primeira previsão é o último valor do conjunto de treino\n",
        "  predictions.append(valor_predito)\n",
        "\n",
        "  # Valor real recebe o valor atual do teste\n",
        "  valor_real = test[i]\n",
        "\n",
        "  # Adiciona o valor real para a lista de historico\n",
        "  history.append(valor_real)\n",
        "\n",
        "# Performance\n",
        "baseline_results=ml_error('BaseLine',test, predictions)\n",
        "baseline_results"
      ],
      "metadata": {
        "colab": {
          "base_uri": "https://localhost:8080/",
          "height": 0
        },
        "id": "O67kGuhntGHI",
        "outputId": "280e8234-aba3-4727-ebe8-b54b269096c0"
      },
      "execution_count": 13,
      "outputs": [
        {
          "output_type": "execute_result",
          "data": {
            "text/plain": [
              "  Model Name     MAE  MAPE    RMSE  R2-SCORE\n",
              "0   BaseLine 2100.83  0.53 3167.36     -0.19"
            ],
            "text/html": [
              "\n",
              "  <div id=\"df-0aeeb51f-a28e-4bfa-843b-e8820df290b6\">\n",
              "    <div class=\"colab-df-container\">\n",
              "      <div>\n",
              "<style scoped>\n",
              "    .dataframe tbody tr th:only-of-type {\n",
              "        vertical-align: middle;\n",
              "    }\n",
              "\n",
              "    .dataframe tbody tr th {\n",
              "        vertical-align: top;\n",
              "    }\n",
              "\n",
              "    .dataframe thead th {\n",
              "        text-align: right;\n",
              "    }\n",
              "</style>\n",
              "<table border=\"1\" class=\"dataframe\">\n",
              "  <thead>\n",
              "    <tr style=\"text-align: right;\">\n",
              "      <th></th>\n",
              "      <th>Model Name</th>\n",
              "      <th>MAE</th>\n",
              "      <th>MAPE</th>\n",
              "      <th>RMSE</th>\n",
              "      <th>R2-SCORE</th>\n",
              "    </tr>\n",
              "  </thead>\n",
              "  <tbody>\n",
              "    <tr>\n",
              "      <th>0</th>\n",
              "      <td>BaseLine</td>\n",
              "      <td>2100.83</td>\n",
              "      <td>0.53</td>\n",
              "      <td>3167.36</td>\n",
              "      <td>-0.19</td>\n",
              "    </tr>\n",
              "  </tbody>\n",
              "</table>\n",
              "</div>\n",
              "      <button class=\"colab-df-convert\" onclick=\"convertToInteractive('df-0aeeb51f-a28e-4bfa-843b-e8820df290b6')\"\n",
              "              title=\"Convert this dataframe to an interactive table.\"\n",
              "              style=\"display:none;\">\n",
              "        \n",
              "  <svg xmlns=\"http://www.w3.org/2000/svg\" height=\"24px\"viewBox=\"0 0 24 24\"\n",
              "       width=\"24px\">\n",
              "    <path d=\"M0 0h24v24H0V0z\" fill=\"none\"/>\n",
              "    <path d=\"M18.56 5.44l.94 2.06.94-2.06 2.06-.94-2.06-.94-.94-2.06-.94 2.06-2.06.94zm-11 1L8.5 8.5l.94-2.06 2.06-.94-2.06-.94L8.5 2.5l-.94 2.06-2.06.94zm10 10l.94 2.06.94-2.06 2.06-.94-2.06-.94-.94-2.06-.94 2.06-2.06.94z\"/><path d=\"M17.41 7.96l-1.37-1.37c-.4-.4-.92-.59-1.43-.59-.52 0-1.04.2-1.43.59L10.3 9.45l-7.72 7.72c-.78.78-.78 2.05 0 2.83L4 21.41c.39.39.9.59 1.41.59.51 0 1.02-.2 1.41-.59l7.78-7.78 2.81-2.81c.8-.78.8-2.07 0-2.86zM5.41 20L4 18.59l7.72-7.72 1.47 1.35L5.41 20z\"/>\n",
              "  </svg>\n",
              "      </button>\n",
              "      \n",
              "  <style>\n",
              "    .colab-df-container {\n",
              "      display:flex;\n",
              "      flex-wrap:wrap;\n",
              "      gap: 12px;\n",
              "    }\n",
              "\n",
              "    .colab-df-convert {\n",
              "      background-color: #E8F0FE;\n",
              "      border: none;\n",
              "      border-radius: 50%;\n",
              "      cursor: pointer;\n",
              "      display: none;\n",
              "      fill: #1967D2;\n",
              "      height: 32px;\n",
              "      padding: 0 0 0 0;\n",
              "      width: 32px;\n",
              "    }\n",
              "\n",
              "    .colab-df-convert:hover {\n",
              "      background-color: #E2EBFA;\n",
              "      box-shadow: 0px 1px 2px rgba(60, 64, 67, 0.3), 0px 1px 3px 1px rgba(60, 64, 67, 0.15);\n",
              "      fill: #174EA6;\n",
              "    }\n",
              "\n",
              "    [theme=dark] .colab-df-convert {\n",
              "      background-color: #3B4455;\n",
              "      fill: #D2E3FC;\n",
              "    }\n",
              "\n",
              "    [theme=dark] .colab-df-convert:hover {\n",
              "      background-color: #434B5C;\n",
              "      box-shadow: 0px 1px 3px 1px rgba(0, 0, 0, 0.15);\n",
              "      filter: drop-shadow(0px 1px 2px rgba(0, 0, 0, 0.3));\n",
              "      fill: #FFFFFF;\n",
              "    }\n",
              "  </style>\n",
              "\n",
              "      <script>\n",
              "        const buttonEl =\n",
              "          document.querySelector('#df-0aeeb51f-a28e-4bfa-843b-e8820df290b6 button.colab-df-convert');\n",
              "        buttonEl.style.display =\n",
              "          google.colab.kernel.accessAllowed ? 'block' : 'none';\n",
              "\n",
              "        async function convertToInteractive(key) {\n",
              "          const element = document.querySelector('#df-0aeeb51f-a28e-4bfa-843b-e8820df290b6');\n",
              "          const dataTable =\n",
              "            await google.colab.kernel.invokeFunction('convertToInteractive',\n",
              "                                                     [key], {});\n",
              "          if (!dataTable) return;\n",
              "\n",
              "          const docLinkHtml = 'Like what you see? Visit the ' +\n",
              "            '<a target=\"_blank\" href=https://colab.research.google.com/notebooks/data_table.ipynb>data table notebook</a>'\n",
              "            + ' to learn more about interactive tables.';\n",
              "          element.innerHTML = '';\n",
              "          dataTable['output_type'] = 'display_data';\n",
              "          await google.colab.output.renderOutput(dataTable, element);\n",
              "          const docLink = document.createElement('div');\n",
              "          docLink.innerHTML = docLinkHtml;\n",
              "          element.appendChild(docLink);\n",
              "        }\n",
              "      </script>\n",
              "    </div>\n",
              "  </div>\n",
              "  "
            ]
          },
          "metadata": {},
          "execution_count": 13
        }
      ]
    },
    {
      "cell_type": "markdown",
      "source": [
        "## 3.2. ARIMA"
      ],
      "metadata": {
        "id": "eKoW5xaiw4JM"
      }
    },
    {
      "cell_type": "code",
      "source": [
        "# Cria a variável history\n",
        "history = [x for x in train]\n",
        "\n",
        "# Cria lista de previsões\n",
        "predictions = list()\n",
        "\n",
        "# Inicia Walk-Forward\n",
        "for t in range(len(test)):\n",
        "\n",
        "  # Difference data\n",
        "  meses_no_ano = 12\n",
        "  diff = difference(history, meses_no_ano)\n",
        "\n",
        "  # Cria um modelo ARIMA com os dados de history\n",
        "  model = ARIMA(diff, order=(1,1,1))\n",
        "\n",
        "  # Treina o modelo ARIMA\n",
        "  model_fit = model.fit(trend='nc', disp=0)\n",
        "\n",
        "  # A variável valor_predito recebe o valor previsto pelo modelo\n",
        "  valor_predito = model_fit.forecast()[0]\n",
        "\n",
        "  # valor_predito recebe o valor revertido (escala original)\n",
        "  valor_predito = inverse_difference(history, valor_predito, meses_no_ano)\n",
        "\n",
        "  # Adiciona o valor predito na lista de predições\n",
        "  predictions.append(valor_predito)\n",
        "\n",
        "  # A variável valor_real recebe o valor real do teste\n",
        "  valor_real = test[t]\n",
        "\n",
        "  # Adiciona o valor real a variável history\n",
        "  history.append(valor_real)\n",
        "\n",
        "# Performance\n",
        "arima_results=ml_error('ARIMA',test, predictions)\n",
        "arima_results"
      ],
      "metadata": {
        "id": "bd7Pt9prz8Gh",
        "colab": {
          "base_uri": "https://localhost:8080/",
          "height": 0
        },
        "outputId": "3a121a03-581d-4589-e905-d23ec0ba4dae"
      },
      "execution_count": 14,
      "outputs": [
        {
          "output_type": "execute_result",
          "data": {
            "text/plain": [
              "  Model Name    MAE  MAPE   RMSE  R2-SCORE\n",
              "0      ARIMA 619.71  0.67 840.27      0.92"
            ],
            "text/html": [
              "\n",
              "  <div id=\"df-7b5e4a04-600f-4204-9e19-0aab8ad15bf3\">\n",
              "    <div class=\"colab-df-container\">\n",
              "      <div>\n",
              "<style scoped>\n",
              "    .dataframe tbody tr th:only-of-type {\n",
              "        vertical-align: middle;\n",
              "    }\n",
              "\n",
              "    .dataframe tbody tr th {\n",
              "        vertical-align: top;\n",
              "    }\n",
              "\n",
              "    .dataframe thead th {\n",
              "        text-align: right;\n",
              "    }\n",
              "</style>\n",
              "<table border=\"1\" class=\"dataframe\">\n",
              "  <thead>\n",
              "    <tr style=\"text-align: right;\">\n",
              "      <th></th>\n",
              "      <th>Model Name</th>\n",
              "      <th>MAE</th>\n",
              "      <th>MAPE</th>\n",
              "      <th>RMSE</th>\n",
              "      <th>R2-SCORE</th>\n",
              "    </tr>\n",
              "  </thead>\n",
              "  <tbody>\n",
              "    <tr>\n",
              "      <th>0</th>\n",
              "      <td>ARIMA</td>\n",
              "      <td>619.71</td>\n",
              "      <td>0.67</td>\n",
              "      <td>840.27</td>\n",
              "      <td>0.92</td>\n",
              "    </tr>\n",
              "  </tbody>\n",
              "</table>\n",
              "</div>\n",
              "      <button class=\"colab-df-convert\" onclick=\"convertToInteractive('df-7b5e4a04-600f-4204-9e19-0aab8ad15bf3')\"\n",
              "              title=\"Convert this dataframe to an interactive table.\"\n",
              "              style=\"display:none;\">\n",
              "        \n",
              "  <svg xmlns=\"http://www.w3.org/2000/svg\" height=\"24px\"viewBox=\"0 0 24 24\"\n",
              "       width=\"24px\">\n",
              "    <path d=\"M0 0h24v24H0V0z\" fill=\"none\"/>\n",
              "    <path d=\"M18.56 5.44l.94 2.06.94-2.06 2.06-.94-2.06-.94-.94-2.06-.94 2.06-2.06.94zm-11 1L8.5 8.5l.94-2.06 2.06-.94-2.06-.94L8.5 2.5l-.94 2.06-2.06.94zm10 10l.94 2.06.94-2.06 2.06-.94-2.06-.94-.94-2.06-.94 2.06-2.06.94z\"/><path d=\"M17.41 7.96l-1.37-1.37c-.4-.4-.92-.59-1.43-.59-.52 0-1.04.2-1.43.59L10.3 9.45l-7.72 7.72c-.78.78-.78 2.05 0 2.83L4 21.41c.39.39.9.59 1.41.59.51 0 1.02-.2 1.41-.59l7.78-7.78 2.81-2.81c.8-.78.8-2.07 0-2.86zM5.41 20L4 18.59l7.72-7.72 1.47 1.35L5.41 20z\"/>\n",
              "  </svg>\n",
              "      </button>\n",
              "      \n",
              "  <style>\n",
              "    .colab-df-container {\n",
              "      display:flex;\n",
              "      flex-wrap:wrap;\n",
              "      gap: 12px;\n",
              "    }\n",
              "\n",
              "    .colab-df-convert {\n",
              "      background-color: #E8F0FE;\n",
              "      border: none;\n",
              "      border-radius: 50%;\n",
              "      cursor: pointer;\n",
              "      display: none;\n",
              "      fill: #1967D2;\n",
              "      height: 32px;\n",
              "      padding: 0 0 0 0;\n",
              "      width: 32px;\n",
              "    }\n",
              "\n",
              "    .colab-df-convert:hover {\n",
              "      background-color: #E2EBFA;\n",
              "      box-shadow: 0px 1px 2px rgba(60, 64, 67, 0.3), 0px 1px 3px 1px rgba(60, 64, 67, 0.15);\n",
              "      fill: #174EA6;\n",
              "    }\n",
              "\n",
              "    [theme=dark] .colab-df-convert {\n",
              "      background-color: #3B4455;\n",
              "      fill: #D2E3FC;\n",
              "    }\n",
              "\n",
              "    [theme=dark] .colab-df-convert:hover {\n",
              "      background-color: #434B5C;\n",
              "      box-shadow: 0px 1px 3px 1px rgba(0, 0, 0, 0.15);\n",
              "      filter: drop-shadow(0px 1px 2px rgba(0, 0, 0, 0.3));\n",
              "      fill: #FFFFFF;\n",
              "    }\n",
              "  </style>\n",
              "\n",
              "      <script>\n",
              "        const buttonEl =\n",
              "          document.querySelector('#df-7b5e4a04-600f-4204-9e19-0aab8ad15bf3 button.colab-df-convert');\n",
              "        buttonEl.style.display =\n",
              "          google.colab.kernel.accessAllowed ? 'block' : 'none';\n",
              "\n",
              "        async function convertToInteractive(key) {\n",
              "          const element = document.querySelector('#df-7b5e4a04-600f-4204-9e19-0aab8ad15bf3');\n",
              "          const dataTable =\n",
              "            await google.colab.kernel.invokeFunction('convertToInteractive',\n",
              "                                                     [key], {});\n",
              "          if (!dataTable) return;\n",
              "\n",
              "          const docLinkHtml = 'Like what you see? Visit the ' +\n",
              "            '<a target=\"_blank\" href=https://colab.research.google.com/notebooks/data_table.ipynb>data table notebook</a>'\n",
              "            + ' to learn more about interactive tables.';\n",
              "          element.innerHTML = '';\n",
              "          dataTable['output_type'] = 'display_data';\n",
              "          await google.colab.output.renderOutput(dataTable, element);\n",
              "          const docLink = document.createElement('div');\n",
              "          docLink.innerHTML = docLinkHtml;\n",
              "          element.appendChild(docLink);\n",
              "        }\n",
              "      </script>\n",
              "    </div>\n",
              "  </div>\n",
              "  "
            ]
          },
          "metadata": {},
          "execution_count": 14
        }
      ]
    },
    {
      "cell_type": "markdown",
      "source": [
        "## 3.3. SARIMA"
      ],
      "metadata": {
        "id": "noNJEXVicMhU"
      }
    },
    {
      "cell_type": "code",
      "source": [
        "# Cria a variável history\n",
        "history = [x for x in train]\n",
        "\n",
        "# Cria lista de previsões\n",
        "predictions = list()\n",
        "\n",
        "# Inicia Walk-Forward\n",
        "for t in range(len(test)):\n",
        "  \n",
        "  # Difference data\n",
        "  meses_no_ano = 12\n",
        "\n",
        "  # Cria um modelo SARIMA com os dados de history\n",
        "  # Desliga a diferenciação do modelo ARIMA\n",
        "  model = sm.tsa.statespace.SARIMAX(history, order=(1,0,1), seasonal_order=(1,1,1, meses_no_ano))\n",
        "  \n",
        "  # Treina o modelo SARIMAX\n",
        "  model_fit = model.fit(trend='nc', disp=0)\n",
        "  \n",
        "  # A variável valor_predito recebe o valor previsto pelo modelo\n",
        "  valor_predito = model_fit.forecast()[0]\n",
        " \n",
        "  # Adiciona o valor predito na lista de predicões\n",
        "  predictions.append(valor_predito)\n",
        "\n",
        "  # A variável valor_real recebe o valor real do teste\n",
        "  valor_real = test[t]\n",
        "  \n",
        "  # Adiciona o valor real a variável history\n",
        "  history.append(valor_real)\n",
        "\n",
        "# Performance\n",
        "sarima_results=ml_error('SARIMA',test, predictions)\n",
        "sarima_results"
      ],
      "metadata": {
        "colab": {
          "base_uri": "https://localhost:8080/",
          "height": 0
        },
        "id": "fT44XRcRcTe8",
        "outputId": "96e0450e-c8e6-4969-b69c-1c9aeacb1c3a"
      },
      "execution_count": 15,
      "outputs": [
        {
          "output_type": "execute_result",
          "data": {
            "text/plain": [
              "  Model Name    MAE  MAPE   RMSE  R2-SCORE\n",
              "0     SARIMA 598.98  0.14 784.08      0.93"
            ],
            "text/html": [
              "\n",
              "  <div id=\"df-4de8bdd9-882f-43b7-8c6e-a1d32c626026\">\n",
              "    <div class=\"colab-df-container\">\n",
              "      <div>\n",
              "<style scoped>\n",
              "    .dataframe tbody tr th:only-of-type {\n",
              "        vertical-align: middle;\n",
              "    }\n",
              "\n",
              "    .dataframe tbody tr th {\n",
              "        vertical-align: top;\n",
              "    }\n",
              "\n",
              "    .dataframe thead th {\n",
              "        text-align: right;\n",
              "    }\n",
              "</style>\n",
              "<table border=\"1\" class=\"dataframe\">\n",
              "  <thead>\n",
              "    <tr style=\"text-align: right;\">\n",
              "      <th></th>\n",
              "      <th>Model Name</th>\n",
              "      <th>MAE</th>\n",
              "      <th>MAPE</th>\n",
              "      <th>RMSE</th>\n",
              "      <th>R2-SCORE</th>\n",
              "    </tr>\n",
              "  </thead>\n",
              "  <tbody>\n",
              "    <tr>\n",
              "      <th>0</th>\n",
              "      <td>SARIMA</td>\n",
              "      <td>598.98</td>\n",
              "      <td>0.14</td>\n",
              "      <td>784.08</td>\n",
              "      <td>0.93</td>\n",
              "    </tr>\n",
              "  </tbody>\n",
              "</table>\n",
              "</div>\n",
              "      <button class=\"colab-df-convert\" onclick=\"convertToInteractive('df-4de8bdd9-882f-43b7-8c6e-a1d32c626026')\"\n",
              "              title=\"Convert this dataframe to an interactive table.\"\n",
              "              style=\"display:none;\">\n",
              "        \n",
              "  <svg xmlns=\"http://www.w3.org/2000/svg\" height=\"24px\"viewBox=\"0 0 24 24\"\n",
              "       width=\"24px\">\n",
              "    <path d=\"M0 0h24v24H0V0z\" fill=\"none\"/>\n",
              "    <path d=\"M18.56 5.44l.94 2.06.94-2.06 2.06-.94-2.06-.94-.94-2.06-.94 2.06-2.06.94zm-11 1L8.5 8.5l.94-2.06 2.06-.94-2.06-.94L8.5 2.5l-.94 2.06-2.06.94zm10 10l.94 2.06.94-2.06 2.06-.94-2.06-.94-.94-2.06-.94 2.06-2.06.94z\"/><path d=\"M17.41 7.96l-1.37-1.37c-.4-.4-.92-.59-1.43-.59-.52 0-1.04.2-1.43.59L10.3 9.45l-7.72 7.72c-.78.78-.78 2.05 0 2.83L4 21.41c.39.39.9.59 1.41.59.51 0 1.02-.2 1.41-.59l7.78-7.78 2.81-2.81c.8-.78.8-2.07 0-2.86zM5.41 20L4 18.59l7.72-7.72 1.47 1.35L5.41 20z\"/>\n",
              "  </svg>\n",
              "      </button>\n",
              "      \n",
              "  <style>\n",
              "    .colab-df-container {\n",
              "      display:flex;\n",
              "      flex-wrap:wrap;\n",
              "      gap: 12px;\n",
              "    }\n",
              "\n",
              "    .colab-df-convert {\n",
              "      background-color: #E8F0FE;\n",
              "      border: none;\n",
              "      border-radius: 50%;\n",
              "      cursor: pointer;\n",
              "      display: none;\n",
              "      fill: #1967D2;\n",
              "      height: 32px;\n",
              "      padding: 0 0 0 0;\n",
              "      width: 32px;\n",
              "    }\n",
              "\n",
              "    .colab-df-convert:hover {\n",
              "      background-color: #E2EBFA;\n",
              "      box-shadow: 0px 1px 2px rgba(60, 64, 67, 0.3), 0px 1px 3px 1px rgba(60, 64, 67, 0.15);\n",
              "      fill: #174EA6;\n",
              "    }\n",
              "\n",
              "    [theme=dark] .colab-df-convert {\n",
              "      background-color: #3B4455;\n",
              "      fill: #D2E3FC;\n",
              "    }\n",
              "\n",
              "    [theme=dark] .colab-df-convert:hover {\n",
              "      background-color: #434B5C;\n",
              "      box-shadow: 0px 1px 3px 1px rgba(0, 0, 0, 0.15);\n",
              "      filter: drop-shadow(0px 1px 2px rgba(0, 0, 0, 0.3));\n",
              "      fill: #FFFFFF;\n",
              "    }\n",
              "  </style>\n",
              "\n",
              "      <script>\n",
              "        const buttonEl =\n",
              "          document.querySelector('#df-4de8bdd9-882f-43b7-8c6e-a1d32c626026 button.colab-df-convert');\n",
              "        buttonEl.style.display =\n",
              "          google.colab.kernel.accessAllowed ? 'block' : 'none';\n",
              "\n",
              "        async function convertToInteractive(key) {\n",
              "          const element = document.querySelector('#df-4de8bdd9-882f-43b7-8c6e-a1d32c626026');\n",
              "          const dataTable =\n",
              "            await google.colab.kernel.invokeFunction('convertToInteractive',\n",
              "                                                     [key], {});\n",
              "          if (!dataTable) return;\n",
              "\n",
              "          const docLinkHtml = 'Like what you see? Visit the ' +\n",
              "            '<a target=\"_blank\" href=https://colab.research.google.com/notebooks/data_table.ipynb>data table notebook</a>'\n",
              "            + ' to learn more about interactive tables.';\n",
              "          element.innerHTML = '';\n",
              "          dataTable['output_type'] = 'display_data';\n",
              "          await google.colab.output.renderOutput(dataTable, element);\n",
              "          const docLink = document.createElement('div');\n",
              "          docLink.innerHTML = docLinkHtml;\n",
              "          element.appendChild(docLink);\n",
              "        }\n",
              "      </script>\n",
              "    </div>\n",
              "  </div>\n",
              "  "
            ]
          },
          "metadata": {},
          "execution_count": 15
        }
      ]
    },
    {
      "cell_type": "markdown",
      "source": [
        "## 3.4. Facebook Prophet"
      ],
      "metadata": {
        "id": "pyRYdcu5dJwk"
      }
    },
    {
      "cell_type": "code",
      "source": [
        "# ds: features temporais\n",
        "# y: valores a serem preditos\n",
        "\n",
        "dataframe = pd.DataFrame({'ds': dataset.index, 'y': dataset.values})\n",
        "\n",
        "# Instancia o objeto prophet\n",
        "model = Prophet()\n",
        "\n",
        "# Gerando o modelo\n",
        "model.fit(dataframe)\n",
        "\n",
        "# Gerando dados futuros\n",
        "futuro = model.make_future_dataframe(periods = 12, freq='M')\n",
        "\n",
        "# Prevendo valores para dados futuros\n",
        "saida = model.predict(futuro)\n",
        "\n",
        "# Dataset de validação\n",
        "validation_df = pd.DataFrame({'ds': validation.index})\n",
        "\n",
        "# Aplicando o modelo do prophet\n",
        "saida = model.predict(validation_df)\n",
        "\n",
        "# Performance\n",
        "fbp_results=ml_error('FBPROPHET',validation.values, saida.yhat)\n",
        "fbp_results"
      ],
      "metadata": {
        "id": "MXgN5Q1PdR5r",
        "colab": {
          "base_uri": "https://localhost:8080/",
          "height": 118
        },
        "outputId": "7474201b-ff6c-45c8-b4f8-68f7f5034557"
      },
      "execution_count": 16,
      "outputs": [
        {
          "output_type": "stream",
          "name": "stderr",
          "text": [
            "INFO:fbprophet:Disabling weekly seasonality. Run prophet with weekly_seasonality=True to override this.\n",
            "INFO:fbprophet:Disabling daily seasonality. Run prophet with daily_seasonality=True to override this.\n"
          ]
        },
        {
          "output_type": "execute_result",
          "data": {
            "text/plain": [
              "  Model Name    MAE  MAPE   RMSE  R2-SCORE\n",
              "0  FBPROPHET 600.74  0.19 754.08      0.93"
            ],
            "text/html": [
              "\n",
              "  <div id=\"df-cf7537aa-b2f3-4c49-8c8c-54794b98de12\">\n",
              "    <div class=\"colab-df-container\">\n",
              "      <div>\n",
              "<style scoped>\n",
              "    .dataframe tbody tr th:only-of-type {\n",
              "        vertical-align: middle;\n",
              "    }\n",
              "\n",
              "    .dataframe tbody tr th {\n",
              "        vertical-align: top;\n",
              "    }\n",
              "\n",
              "    .dataframe thead th {\n",
              "        text-align: right;\n",
              "    }\n",
              "</style>\n",
              "<table border=\"1\" class=\"dataframe\">\n",
              "  <thead>\n",
              "    <tr style=\"text-align: right;\">\n",
              "      <th></th>\n",
              "      <th>Model Name</th>\n",
              "      <th>MAE</th>\n",
              "      <th>MAPE</th>\n",
              "      <th>RMSE</th>\n",
              "      <th>R2-SCORE</th>\n",
              "    </tr>\n",
              "  </thead>\n",
              "  <tbody>\n",
              "    <tr>\n",
              "      <th>0</th>\n",
              "      <td>FBPROPHET</td>\n",
              "      <td>600.74</td>\n",
              "      <td>0.19</td>\n",
              "      <td>754.08</td>\n",
              "      <td>0.93</td>\n",
              "    </tr>\n",
              "  </tbody>\n",
              "</table>\n",
              "</div>\n",
              "      <button class=\"colab-df-convert\" onclick=\"convertToInteractive('df-cf7537aa-b2f3-4c49-8c8c-54794b98de12')\"\n",
              "              title=\"Convert this dataframe to an interactive table.\"\n",
              "              style=\"display:none;\">\n",
              "        \n",
              "  <svg xmlns=\"http://www.w3.org/2000/svg\" height=\"24px\"viewBox=\"0 0 24 24\"\n",
              "       width=\"24px\">\n",
              "    <path d=\"M0 0h24v24H0V0z\" fill=\"none\"/>\n",
              "    <path d=\"M18.56 5.44l.94 2.06.94-2.06 2.06-.94-2.06-.94-.94-2.06-.94 2.06-2.06.94zm-11 1L8.5 8.5l.94-2.06 2.06-.94-2.06-.94L8.5 2.5l-.94 2.06-2.06.94zm10 10l.94 2.06.94-2.06 2.06-.94-2.06-.94-.94-2.06-.94 2.06-2.06.94z\"/><path d=\"M17.41 7.96l-1.37-1.37c-.4-.4-.92-.59-1.43-.59-.52 0-1.04.2-1.43.59L10.3 9.45l-7.72 7.72c-.78.78-.78 2.05 0 2.83L4 21.41c.39.39.9.59 1.41.59.51 0 1.02-.2 1.41-.59l7.78-7.78 2.81-2.81c.8-.78.8-2.07 0-2.86zM5.41 20L4 18.59l7.72-7.72 1.47 1.35L5.41 20z\"/>\n",
              "  </svg>\n",
              "      </button>\n",
              "      \n",
              "  <style>\n",
              "    .colab-df-container {\n",
              "      display:flex;\n",
              "      flex-wrap:wrap;\n",
              "      gap: 12px;\n",
              "    }\n",
              "\n",
              "    .colab-df-convert {\n",
              "      background-color: #E8F0FE;\n",
              "      border: none;\n",
              "      border-radius: 50%;\n",
              "      cursor: pointer;\n",
              "      display: none;\n",
              "      fill: #1967D2;\n",
              "      height: 32px;\n",
              "      padding: 0 0 0 0;\n",
              "      width: 32px;\n",
              "    }\n",
              "\n",
              "    .colab-df-convert:hover {\n",
              "      background-color: #E2EBFA;\n",
              "      box-shadow: 0px 1px 2px rgba(60, 64, 67, 0.3), 0px 1px 3px 1px rgba(60, 64, 67, 0.15);\n",
              "      fill: #174EA6;\n",
              "    }\n",
              "\n",
              "    [theme=dark] .colab-df-convert {\n",
              "      background-color: #3B4455;\n",
              "      fill: #D2E3FC;\n",
              "    }\n",
              "\n",
              "    [theme=dark] .colab-df-convert:hover {\n",
              "      background-color: #434B5C;\n",
              "      box-shadow: 0px 1px 3px 1px rgba(0, 0, 0, 0.15);\n",
              "      filter: drop-shadow(0px 1px 2px rgba(0, 0, 0, 0.3));\n",
              "      fill: #FFFFFF;\n",
              "    }\n",
              "  </style>\n",
              "\n",
              "      <script>\n",
              "        const buttonEl =\n",
              "          document.querySelector('#df-cf7537aa-b2f3-4c49-8c8c-54794b98de12 button.colab-df-convert');\n",
              "        buttonEl.style.display =\n",
              "          google.colab.kernel.accessAllowed ? 'block' : 'none';\n",
              "\n",
              "        async function convertToInteractive(key) {\n",
              "          const element = document.querySelector('#df-cf7537aa-b2f3-4c49-8c8c-54794b98de12');\n",
              "          const dataTable =\n",
              "            await google.colab.kernel.invokeFunction('convertToInteractive',\n",
              "                                                     [key], {});\n",
              "          if (!dataTable) return;\n",
              "\n",
              "          const docLinkHtml = 'Like what you see? Visit the ' +\n",
              "            '<a target=\"_blank\" href=https://colab.research.google.com/notebooks/data_table.ipynb>data table notebook</a>'\n",
              "            + ' to learn more about interactive tables.';\n",
              "          element.innerHTML = '';\n",
              "          dataTable['output_type'] = 'display_data';\n",
              "          await google.colab.output.renderOutput(dataTable, element);\n",
              "          const docLink = document.createElement('div');\n",
              "          docLink.innerHTML = docLinkHtml;\n",
              "          element.appendChild(docLink);\n",
              "        }\n",
              "      </script>\n",
              "    </div>\n",
              "  </div>\n",
              "  "
            ]
          },
          "metadata": {},
          "execution_count": 16
        }
      ]
    },
    {
      "cell_type": "markdown",
      "source": [
        "## 3.5. Compare Model's Performances"
      ],
      "metadata": {
        "id": "Clg1hfLfIuXP"
      }
    },
    {
      "cell_type": "code",
      "source": [
        "models_results=pd.concat([baseline_results,arima_results,sarima_results,fbp_results])\n",
        "models_results.sort_values('RMSE')"
      ],
      "metadata": {
        "id": "F2Y_-eHKI6p2"
      },
      "execution_count": null,
      "outputs": []
    },
    {
      "cell_type": "markdown",
      "source": [
        "# 4.0. HYPERPARAMETERS FINE TUNING"
      ],
      "metadata": {
        "id": "Ouc07RSPKlGz"
      }
    },
    {
      "cell_type": "code",
      "source": [
        "# Definindo a lista de valores para cada parãmetro\n",
        "p_values=  range(0, 7)\n",
        "d_values = range(0, 3)\n",
        "q_values = range(0, 7)"
      ],
      "metadata": {
        "id": "eWVBBLK_RR2c"
      },
      "execution_count": 20,
      "outputs": []
    },
    {
      "cell_type": "code",
      "source": [
        "# Chama a função passando os parâmetros\n",
        "evaluate_models( series.values, p_values, d_values, q_values)"
      ],
      "metadata": {
        "id": "GdrtXHboRtOS",
        "colab": {
          "base_uri": "https://localhost:8080/"
        },
        "outputId": "2fb62713-1853-4cd8-e138-ca8773d04773"
      },
      "execution_count": 21,
      "outputs": [
        {
          "output_type": "stream",
          "name": "stdout",
          "text": [
            "ARIMA(0, 0, 1) RMSE=785.401\n",
            "ARIMA(0, 0, 2) RMSE=808.652\n",
            "ARIMA(0, 0, 3) RMSE=818.649\n",
            "ARIMA(0, 0, 4) RMSE=826.024\n",
            "ARIMA(0, 0, 5) RMSE=857.593\n",
            "ARIMA(0, 0, 6) RMSE=982.026\n",
            "ARIMA(0, 1, 1) RMSE=842.231\n",
            "ARIMA(0, 2, 1) RMSE=913.984\n",
            "Best ARIMA(0, 0, 1) RMSE=785.401\n",
            "ARIMA(1, 0, 0) RMSE=781.498\n",
            "ARIMA(1, 1, 0) RMSE=897.585\n",
            "ARIMA(1, 1, 1) RMSE=840.267\n",
            "ARIMA(1, 2, 0) RMSE=1238.544\n",
            "Best ARIMA(1, 0, 0) RMSE=781.498\n",
            "ARIMA(2, 0, 0) RMSE=799.813\n",
            "ARIMA(2, 0, 1) RMSE=834.320\n",
            "ARIMA(2, 1, 0) RMSE=911.722\n",
            "ARIMA(2, 1, 1) RMSE=866.863\n",
            "ARIMA(2, 2, 0) RMSE=1196.109\n",
            "ARIMA(2, 2, 1) RMSE=918.762\n",
            "Best ARIMA(1, 0, 0) RMSE=781.498\n",
            "ARIMA(3, 0, 0) RMSE=838.806\n",
            "ARIMA(3, 1, 0) RMSE=903.022\n",
            "ARIMA(3, 1, 1) RMSE=872.366\n",
            "ARIMA(3, 2, 0) RMSE=1084.343\n",
            "Best ARIMA(1, 0, 0) RMSE=781.498\n",
            "ARIMA(4, 0, 0) RMSE=844.565\n",
            "ARIMA(4, 0, 1) RMSE=818.415\n",
            "ARIMA(4, 1, 0) RMSE=931.993\n",
            "ARIMA(4, 1, 1) RMSE=908.922\n",
            "ARIMA(4, 2, 0) RMSE=1075.148\n",
            "ARIMA(4, 2, 1) RMSE=938.596\n",
            "Best ARIMA(1, 0, 0) RMSE=781.498\n",
            "ARIMA(5, 0, 0) RMSE=873.490\n",
            "ARIMA(5, 0, 1) RMSE=846.480\n",
            "ARIMA(5, 1, 0) RMSE=934.299\n",
            "ARIMA(5, 1, 1) RMSE=921.903\n",
            "ARIMA(5, 1, 2) RMSE=904.229\n",
            "ARIMA(5, 2, 1) RMSE=943.195\n",
            "Best ARIMA(1, 0, 0) RMSE=781.498\n",
            "ARIMA(6, 0, 0) RMSE=883.828\n",
            "ARIMA(6, 0, 1) RMSE=957.077\n",
            "ARIMA(6, 0, 2) RMSE=841.279\n",
            "ARIMA(6, 1, 0) RMSE=922.647\n",
            "ARIMA(6, 1, 1) RMSE=926.790\n",
            "ARIMA(6, 1, 2) RMSE=933.824\n",
            "Best ARIMA(1, 0, 0) RMSE=781.498\n"
          ]
        }
      ]
    },
    {
      "cell_type": "code",
      "source": [
        "# Executando o modelo com os melhores parâmetros\n",
        "# Cria a variável history\n",
        "history = [x for x in train]\n",
        "\n",
        "# Cria lista de previsões\n",
        "predictions = list()\n",
        "\n",
        "# Inicia Walk-Forward\n",
        "for t in range(len(test)):\n",
        "  \n",
        "  # Difference data\n",
        "  meses_no_ano = 12\n",
        "  diff = difference(history, meses_no_ano)\n",
        "  \n",
        "  # Cria um modelo ARIMA com os dados de history\n",
        "  model = ARIMA(diff, order=(0,0,1))\n",
        "  \n",
        "  # Treina o modelo ARIMA\n",
        "  model_fit = model.fit(trend='nc', disp=0)\n",
        "  \n",
        "  # A variável valor_predito recebe o valor previsto pelo modelo\n",
        "  valor_predito = model_fit.forecast()[0]\n",
        "\n",
        "  # valor_predito recebe o valor revertido (escala original)\n",
        "  valor_predito = inverse_difference(history, valor_predito, meses_no_ano)\n",
        "   \n",
        "  # Adiciona o valor predito na lista de predicões\n",
        "  predictions.append(valor_predito)\n",
        "  \n",
        "  # A variável valor_real recebe o valor real do teste\n",
        "  valor_real = test[t]\n",
        "  \n",
        "  # Adiciona o valor real a variável history\n",
        "  history.append(valor_real)\n",
        "\n",
        "  # Imprime valor predito e valor real\n",
        "  print('Valor predito=%.3f, Valor esperado=%3.f' % (valor_predito, valor_real))"
      ],
      "metadata": {
        "id": "5UUSmmfzSJDy",
        "colab": {
          "base_uri": "https://localhost:8080/"
        },
        "outputId": "18c666a6-1ece-47eb-8f23-4aab40af1d32"
      },
      "execution_count": 22,
      "outputs": [
        {
          "output_type": "stream",
          "name": "stdout",
          "text": [
            "Valor predito=4455.107, Valor esperado=4647\n",
            "Valor predito=4567.683, Valor esperado=4753\n",
            "Valor predito=3691.090, Valor esperado=3965\n",
            "Valor predito=1684.956, Valor esperado=1723\n",
            "Valor predito=4744.831, Valor esperado=5048\n",
            "Valor predito=5474.600, Valor esperado=6922\n",
            "Valor predito=8556.384, Valor esperado=9858\n",
            "Valor predito=10925.315, Valor esperado=11331\n",
            "Valor predito=3726.032, Valor esperado=4016\n",
            "Valor predito=4360.617, Valor esperado=3957\n",
            "Valor predito=4059.717, Valor esperado=4510\n",
            "Valor predito=4223.040, Valor esperado=4276\n",
            "Valor predito=4659.008, Valor esperado=4968\n",
            "Valor predito=4823.543, Valor esperado=4677\n",
            "Valor predito=3931.824, Valor esperado=3523\n",
            "Valor predito=1629.240, Valor esperado=1821\n",
            "Valor predito=5091.520, Valor esperado=5222\n",
            "Valor predito=6951.792, Valor esperado=6872\n",
            "Valor predito=9839.749, Valor esperado=10803\n",
            "Valor predito=11548.695, Valor esperado=13916\n",
            "Valor predito=4687.850, Valor esperado=2639\n",
            "Valor predito=3636.165, Valor esperado=2899\n",
            "Valor predito=4369.347, Valor esperado=3370\n",
            "Valor predito=4055.001, Valor esperado=3740\n",
            "Valor predito=4897.697, Valor esperado=2927\n",
            "Valor predito=4221.787, Valor esperado=3986\n",
            "Valor predito=3470.510, Valor esperado=4217\n",
            "Valor predito=2002.302, Valor esperado=1738\n",
            "Valor predito=5159.205, Valor esperado=5221\n",
            "Valor predito=6886.738, Valor esperado=6424\n",
            "Valor predito=10692.994, Valor esperado=9842\n",
            "Valor predito=13707.644, Valor esperado=13076\n",
            "Valor predito=2479.764, Valor esperado=3934\n",
            "Valor predito=3249.639, Valor esperado=3162\n",
            "Valor predito=3349.928, Valor esperado=4286\n",
            "Valor predito=3956.505, Valor esperado=4676\n",
            "Valor predito=3100.015, Valor esperado=5010\n",
            "Valor predito=4478.173, Valor esperado=4874\n",
            "Valor predito=4318.374, Valor esperado=4633\n",
            "Valor predito=1822.509, Valor esperado=1659\n",
            "Valor predito=5177.274, Valor esperado=5951\n",
            "Valor predito=6628.869, Valor esperado=6981\n",
            "Valor predito=9935.859, Valor esperado=9851\n",
            "Valor predito=13053.163, Valor esperado=12670\n",
            "Valor predito=3830.631, Valor esperado=4348\n",
            "Valor predito=3300.029, Valor esperado=3564\n",
            "Valor predito=4356.779, Valor esperado=4577\n",
            "Valor predito=4735.432, Valor esperado=4788\n",
            "Valor predito=5024.189, Valor esperado=4618\n",
            "Valor predito=4764.286, Valor esperado=5312\n",
            "Valor predito=4778.880, Valor esperado=4298\n",
            "Valor predito=1533.504, Valor esperado=1413\n",
            "Valor predito=5919.419, Valor esperado=5877\n"
          ]
        }
      ]
    },
    {
      "cell_type": "code",
      "source": [
        "# Avaliando os resultados\n",
        "rmse = sqrt(mean_squared_error(test, predictions))\n",
        "print('Test RMSE: %.3f' % rmse)"
      ],
      "metadata": {
        "id": "QmEctF77X0NM",
        "colab": {
          "base_uri": "https://localhost:8080/"
        },
        "outputId": "08009795-0f71-4254-c7d2-215f0c74c568"
      },
      "execution_count": 23,
      "outputs": [
        {
          "output_type": "stream",
          "name": "stdout",
          "text": [
            "Test RMSE: 785.401\n"
          ]
        }
      ]
    },
    {
      "cell_type": "code",
      "source": [
        "'''# Tunning do Propht\n",
        "dataframe = pd.DataFrame({'ds': dataset.index, 'y': dataset.values})\n",
        "\n",
        "model = Prophet(seasonality_mode='multiplicative')\n",
        "\n",
        "model.fit(dataframe)\n",
        "\n",
        "validation_df = pd.DataFrame({'ds': validation.index})\n",
        "\n",
        "saida = model.predict(validation_df)'''\n",
        "\n",
        "\n",
        "'''# Alterando tipos de sazonalidade\n",
        "# cria um modelo com sazonalidade  multiplicativa e desligando a sazonalidade diária\n",
        "model = Prophet(seasonality_mode='multiplicative', daily_seasonality=False, )\n",
        "\n",
        "model.fit(dataframe)\n",
        "\n",
        "# imprime a sazonalidade habilitada\n",
        "model.seasonalities\n",
        "\n",
        "# cria o dataframe de validação\n",
        "validation_df = pd.DataFrame({'ds': validation.index})\n",
        "\n",
        "# prevendo dados\n",
        "saida = model.predict(validation_df)'''"
      ],
      "metadata": {
        "id": "tXtM3cDPF5A3",
        "colab": {
          "base_uri": "https://localhost:8080/",
          "height": 91
        },
        "outputId": "ac19b42d-f7c9-4492-cbf0-061f1e4b0599"
      },
      "execution_count": 24,
      "outputs": [
        {
          "output_type": "execute_result",
          "data": {
            "text/plain": [
              "\"# Alterando tipos de sazonalidade\\n# cria um modelo com sazonalidade  multiplicativa e desligando a sazonalidade diária\\nmodel = Prophet(seasonality_mode='multiplicative', daily_seasonality=False, )\\n\\nmodel.fit(dataframe)\\n\\n# imprime a sazonalidade habilitada\\nmodel.seasonalities\\n\\n# cria o dataframe de validação\\nvalidation_df = pd.DataFrame({'ds': validation.index})\\n\\n# prevendo dados\\nsaida = model.predict(validation_df)\""
            ],
            "application/vnd.google.colaboratory.intrinsic+json": {
              "type": "string"
            }
          },
          "metadata": {},
          "execution_count": 24
        }
      ]
    },
    {
      "cell_type": "markdown",
      "source": [
        "# 5.0. TRANSLATION AND INTERPRETATION OF THE ERROR"
      ],
      "metadata": {
        "id": "hpos64RJZX0r"
      }
    },
    {
      "cell_type": "code",
      "source": [
        "# Plot forecast against actual outcomes\n",
        "plt.plot(test)\n",
        "plt.plot(predictions, color='red')\n",
        "plt.show()"
      ],
      "metadata": {
        "id": "NHZG1p8xJv7f",
        "colab": {
          "base_uri": "https://localhost:8080/",
          "height": 265
        },
        "outputId": "c75d621e-5c6e-48bf-cae9-004e8ca1e485"
      },
      "execution_count": 25,
      "outputs": [
        {
          "output_type": "display_data",
          "data": {
            "text/plain": [
              "<Figure size 432x288 with 1 Axes>"
            ],
            "image/png": "[encoded data removed]"
          },
          "metadata": {
            "needs_background": "light"
          }
        }
      ]
    },
    {
      "cell_type": "code",
      "source": [
        "# Erros residuais\n",
        "residuals = [test[i] - predictions[i] for i in range(len(test))]"
      ],
      "metadata": {
        "id": "VkvUcJQ-X7Dc"
      },
      "execution_count": 26,
      "outputs": []
    },
    {
      "cell_type": "code",
      "source": [
        "# Convertendo a lista em um dataframe\n",
        "residuals = pd.DataFrame( residuals)"
      ],
      "metadata": {
        "id": "0vxrtoG1Zcux"
      },
      "execution_count": 27,
      "outputs": []
    },
    {
      "cell_type": "code",
      "source": [
        "# Imprime as 5 primeiras linhas\n",
        "residuals.head()"
      ],
      "metadata": {
        "colab": {
          "base_uri": "https://localhost:8080/",
          "height": 206
        },
        "id": "EEG--AnPaBXK",
        "outputId": "e9145d66-9059-438b-80ec-28005dbd124a"
      },
      "execution_count": 28,
      "outputs": [
        {
          "output_type": "execute_result",
          "data": {
            "text/plain": [
              "       0\n",
              "0 191.89\n",
              "1 185.32\n",
              "2 273.91\n",
              "3  38.04\n",
              "4 303.17"
            ],
            "text/html": [
              "\n",
              "  <div id=\"df-9a75bdb6-3b8d-4968-8d6d-a6516b2ea19d\">\n",
              "    <div class=\"colab-df-container\">\n",
              "      <div>\n",
              "<style scoped>\n",
              "    .dataframe tbody tr th:only-of-type {\n",
              "        vertical-align: middle;\n",
              "    }\n",
              "\n",
              "    .dataframe tbody tr th {\n",
              "        vertical-align: top;\n",
              "    }\n",
              "\n",
              "    .dataframe thead th {\n",
              "        text-align: right;\n",
              "    }\n",
              "</style>\n",
              "<table border=\"1\" class=\"dataframe\">\n",
              "  <thead>\n",
              "    <tr style=\"text-align: right;\">\n",
              "      <th></th>\n",
              "      <th>0</th>\n",
              "    </tr>\n",
              "  </thead>\n",
              "  <tbody>\n",
              "    <tr>\n",
              "      <th>0</th>\n",
              "      <td>191.89</td>\n",
              "    </tr>\n",
              "    <tr>\n",
              "      <th>1</th>\n",
              "      <td>185.32</td>\n",
              "    </tr>\n",
              "    <tr>\n",
              "      <th>2</th>\n",
              "      <td>273.91</td>\n",
              "    </tr>\n",
              "    <tr>\n",
              "      <th>3</th>\n",
              "      <td>38.04</td>\n",
              "    </tr>\n",
              "    <tr>\n",
              "      <th>4</th>\n",
              "      <td>303.17</td>\n",
              "    </tr>\n",
              "  </tbody>\n",
              "</table>\n",
              "</div>\n",
              "      <button class=\"colab-df-convert\" onclick=\"convertToInteractive('df-9a75bdb6-3b8d-4968-8d6d-a6516b2ea19d')\"\n",
              "              title=\"Convert this dataframe to an interactive table.\"\n",
              "              style=\"display:none;\">\n",
              "        \n",
              "  <svg xmlns=\"http://www.w3.org/2000/svg\" height=\"24px\"viewBox=\"0 0 24 24\"\n",
              "       width=\"24px\">\n",
              "    <path d=\"M0 0h24v24H0V0z\" fill=\"none\"/>\n",
              "    <path d=\"M18.56 5.44l.94 2.06.94-2.06 2.06-.94-2.06-.94-.94-2.06-.94 2.06-2.06.94zm-11 1L8.5 8.5l.94-2.06 2.06-.94-2.06-.94L8.5 2.5l-.94 2.06-2.06.94zm10 10l.94 2.06.94-2.06 2.06-.94-2.06-.94-.94-2.06-.94 2.06-2.06.94z\"/><path d=\"M17.41 7.96l-1.37-1.37c-.4-.4-.92-.59-1.43-.59-.52 0-1.04.2-1.43.59L10.3 9.45l-7.72 7.72c-.78.78-.78 2.05 0 2.83L4 21.41c.39.39.9.59 1.41.59.51 0 1.02-.2 1.41-.59l7.78-7.78 2.81-2.81c.8-.78.8-2.07 0-2.86zM5.41 20L4 18.59l7.72-7.72 1.47 1.35L5.41 20z\"/>\n",
              "  </svg>\n",
              "      </button>\n",
              "      \n",
              "  <style>\n",
              "    .colab-df-container {\n",
              "      display:flex;\n",
              "      flex-wrap:wrap;\n",
              "      gap: 12px;\n",
              "    }\n",
              "\n",
              "    .colab-df-convert {\n",
              "      background-color: #E8F0FE;\n",
              "      border: none;\n",
              "      border-radius: 50%;\n",
              "      cursor: pointer;\n",
              "      display: none;\n",
              "      fill: #1967D2;\n",
              "      height: 32px;\n",
              "      padding: 0 0 0 0;\n",
              "      width: 32px;\n",
              "    }\n",
              "\n",
              "    .colab-df-convert:hover {\n",
              "      background-color: #E2EBFA;\n",
              "      box-shadow: 0px 1px 2px rgba(60, 64, 67, 0.3), 0px 1px 3px 1px rgba(60, 64, 67, 0.15);\n",
              "      fill: #174EA6;\n",
              "    }\n",
              "\n",
              "    [theme=dark] .colab-df-convert {\n",
              "      background-color: #3B4455;\n",
              "      fill: #D2E3FC;\n",
              "    }\n",
              "\n",
              "    [theme=dark] .colab-df-convert:hover {\n",
              "      background-color: #434B5C;\n",
              "      box-shadow: 0px 1px 3px 1px rgba(0, 0, 0, 0.15);\n",
              "      filter: drop-shadow(0px 1px 2px rgba(0, 0, 0, 0.3));\n",
              "      fill: #FFFFFF;\n",
              "    }\n",
              "  </style>\n",
              "\n",
              "      <script>\n",
              "        const buttonEl =\n",
              "          document.querySelector('#df-9a75bdb6-3b8d-4968-8d6d-a6516b2ea19d button.colab-df-convert');\n",
              "        buttonEl.style.display =\n",
              "          google.colab.kernel.accessAllowed ? 'block' : 'none';\n",
              "\n",
              "        async function convertToInteractive(key) {\n",
              "          const element = document.querySelector('#df-9a75bdb6-3b8d-4968-8d6d-a6516b2ea19d');\n",
              "          const dataTable =\n",
              "            await google.colab.kernel.invokeFunction('convertToInteractive',\n",
              "                                                     [key], {});\n",
              "          if (!dataTable) return;\n",
              "\n",
              "          const docLinkHtml = 'Like what you see? Visit the ' +\n",
              "            '<a target=\"_blank\" href=https://colab.research.google.com/notebooks/data_table.ipynb>data table notebook</a>'\n",
              "            + ' to learn more about interactive tables.';\n",
              "          element.innerHTML = '';\n",
              "          dataTable['output_type'] = 'display_data';\n",
              "          await google.colab.output.renderOutput(dataTable, element);\n",
              "          const docLink = document.createElement('div');\n",
              "          docLink.innerHTML = docLinkHtml;\n",
              "          element.appendChild(docLink);\n",
              "        }\n",
              "      </script>\n",
              "    </div>\n",
              "  </div>\n",
              "  "
            ]
          },
          "metadata": {},
          "execution_count": 28
        }
      ]
    },
    {
      "cell_type": "code",
      "source": [
        "# Plot residuals\n",
        "residuals.plot()\n",
        "plt.show()"
      ],
      "metadata": {
        "colab": {
          "base_uri": "https://localhost:8080/",
          "height": 265
        },
        "id": "F2CcD4dyaKux",
        "outputId": "6614d145-ea31-47cf-cea0-d8281254c091"
      },
      "execution_count": 29,
      "outputs": [
        {
          "output_type": "display_data",
          "data": {
            "text/plain": [
              "<Figure size 432x288 with 1 Axes>"
            ],
            "image/png": "[encoded data removed]"
          },
          "metadata": {
            "needs_background": "light"
          }
        }
      ]
    },
    {
      "cell_type": "code",
      "source": [
        "# Plots histograma\n",
        "plt.figure()\n",
        "plt.subplot(211)\n",
        "residuals.hist(ax=plt.gca())\n",
        "\n",
        "plt.subplot(212)\n",
        "residuals.plot(kind='kde', ax=plt.gca())\n",
        "plt.show()"
      ],
      "metadata": {
        "colab": {
          "base_uri": "https://localhost:8080/",
          "height": 281
        },
        "id": "VuH4b0NEaUxa",
        "outputId": "6f4e5359-43d7-4f69-9dff-4b0cf85c5d1b"
      },
      "execution_count": 30,
      "outputs": [
        {
          "output_type": "display_data",
          "data": {
            "text/plain": [
              "<Figure size 432x288 with 2 Axes>"
            ],
            "image/png": "[encoded data removed]"
          },
          "metadata": {
            "needs_background": "light"
          }
        }
      ]
    },
    {
      "cell_type": "code",
      "source": [
        "# Plots de autocorrelação\n",
        "plt.figure()\n",
        "plt.subplot(211)\n",
        "plot_acf(residuals, ax=plt.gca())\n",
        "plt.subplot(212)\n",
        "plot_pacf(residuals, ax=plt.gca())\n",
        "plt.show()"
      ],
      "metadata": {
        "colab": {
          "base_uri": "https://localhost:8080/",
          "height": 281
        },
        "id": "0i4_E59ja0SL",
        "outputId": "9ea09399-abd7-418f-ab7a-1d141a894168"
      },
      "execution_count": 31,
      "outputs": [
        {
          "output_type": "display_data",
          "data": {
            "text/plain": [
              "<Figure size 432x288 with 2 Axes>"
            ],
            "image/png": "[encoded data removed]"
          },
          "metadata": {
            "needs_background": "light"
          }
        }
      ]
    },
    {
      "cell_type": "code",
      "source": [
        "# Decompondo a série de erro residual\n",
        "\n",
        "result = seasonal_decompose( residuals, model='additive', freq=1)\n",
        "result.plot()\n",
        "plt.show()"
      ],
      "metadata": {
        "colab": {
          "base_uri": "https://localhost:8080/",
          "height": 297
        },
        "id": "VJQgvCaEbTwj",
        "outputId": "6ea3214c-2594-48b3-fac6-f8841c265a84"
      },
      "execution_count": 32,
      "outputs": [
        {
          "output_type": "display_data",
          "data": {
            "text/plain": [
              "<Figure size 432x288 with 4 Axes>"
            ],
            "image/png": "[encoded data removed]"
          },
          "metadata": {
            "needs_background": "light"
          }
        }
      ]
    }
  ]
}