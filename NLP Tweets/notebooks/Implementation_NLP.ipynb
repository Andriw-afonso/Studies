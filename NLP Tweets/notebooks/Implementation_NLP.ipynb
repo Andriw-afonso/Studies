{
  "nbformat": 4,
  "nbformat_minor": 0,
  "metadata": {
    "colab": {
      "name": "Implementation NLP.ipynb",
      "provenance": [],
      "collapsed_sections": [
        "UmNsTgmld8SN",
        "BnKcRphNeBV1",
        "fHYVtjAOeOX8",
        "47hBIIW2ewSk",
        "NbLi_weogHmV",
        "G0CvAX_De1FD",
        "CumPWP24jaNe",
        "ddGQKFcZiX7S",
        "GPprx3nAigVl",
        "EIQ-MiKukDJ-",
        "FmVwrXHDlfPD",
        "RKPIYxEKk5_v"
      ]
    },
    "kernelspec": {
      "name": "python3",
      "display_name": "Python 3"
    },
    "language_info": {
      "name": "python"
    }
  },
  "cells": [
    {
      "cell_type": "markdown",
      "metadata": {
        "id": "UmNsTgmld8SN"
      },
      "source": [
        "#IMPORTS"
      ]
    },
    {
      "cell_type": "code",
      "metadata": {
        "id": "J8AfO3GZd4pQ"
      },
      "source": [
        "import nltk\n",
        "import re\n",
        "\n",
        "import pandas as pd\n",
        "import numpy  as np\n",
        "\n",
        "from nltk                            import word_tokenize\n",
        "from sklearn.feature_extraction.text import CountVectorizer\n",
        "from sklearn.naive_bayes             import MultinomialNB\n",
        "from sklearn                         import svm\n",
        "from sklearn                         import metrics\n",
        "from sklearn.model_selection         import cross_val_predict\n",
        "from nltk.tokenize                   import TweetTokenizer\n",
        "from sklearn.pipeline                import Pipeline"
      ],
      "execution_count": 1,
      "outputs": []
    },
    {
      "cell_type": "markdown",
      "metadata": {
        "id": "BnKcRphNeBV1"
      },
      "source": [
        "##Help functions"
      ]
    },
    {
      "cell_type": "code",
      "metadata": {
        "id": "nLnreHxdeEeE"
      },
      "source": [
        "def negation(texto):\n",
        "    negacoes = ['não','not']\n",
        "    negacao_detectada = False\n",
        "    resultado = []\n",
        "    palavras = texto.split()\n",
        "    for p in palavras:\n",
        "        p = p.lower()\n",
        "        if negacao_detectada == True:\n",
        "            p = p + '_NEG'\n",
        "        if p in negacoes:\n",
        "            negacao_detectada = True\n",
        "        resultado.append(p)\n",
        "    return (\" \".join(resultado))\n",
        "\n",
        "def model_performance(modelo, tweets, classes,model_name):\n",
        "  resultados = cross_val_predict(modelo, tweets, classes, cv=10)\n",
        "  return   pd.DataFrame({   'ModelName':model_name,                                     \n",
        "                            'AccuracyCV': np.round(metrics.accuracy_score(classes,resultados),2).astype(str)  \n",
        "                        },index=[0])"
      ],
      "execution_count": 2,
      "outputs": []
    },
    {
      "cell_type": "markdown",
      "metadata": {
        "id": "fHYVtjAOeOX8"
      },
      "source": [
        "##Loading data"
      ]
    },
    {
      "cell_type": "code",
      "metadata": {
        "colab": {
          "base_uri": "https://localhost:8080/",
          "height": 0
        },
        "id": "v4xi_uSZeRM1",
        "outputId": "ad1dec37-69d2-4332-b410-65232b4b8a65"
      },
      "source": [
        "df = pd.read_csv('/content/Tweets_Mg.csv', encoding='utf-8')\n",
        "df.head()"
      ],
      "execution_count": 3,
      "outputs": [
        {
          "output_type": "execute_result",
          "data": {
            "text/html": [
              "<div>\n",
              "<style scoped>\n",
              "    .dataframe tbody tr th:only-of-type {\n",
              "        vertical-align: middle;\n",
              "    }\n",
              "\n",
              "    .dataframe tbody tr th {\n",
              "        vertical-align: top;\n",
              "    }\n",
              "\n",
              "    .dataframe thead th {\n",
              "        text-align: right;\n",
              "    }\n",
              "</style>\n",
              "<table border=\"1\" class=\"dataframe\">\n",
              "  <thead>\n",
              "    <tr style=\"text-align: right;\">\n",
              "      <th></th>\n",
              "      <th>Unnamed: 0</th>\n",
              "      <th>Created At</th>\n",
              "      <th>Text</th>\n",
              "      <th>Geo Coordinates.latitude</th>\n",
              "      <th>Geo Coordinates.longitude</th>\n",
              "      <th>User Location</th>\n",
              "      <th>Username</th>\n",
              "      <th>User Screen Name</th>\n",
              "      <th>Retweet Count</th>\n",
              "      <th>Classificacao</th>\n",
              "      <th>Observação</th>\n",
              "      <th>Unnamed: 10</th>\n",
              "      <th>Unnamed: 11</th>\n",
              "      <th>Unnamed: 12</th>\n",
              "      <th>Unnamed: 13</th>\n",
              "      <th>Unnamed: 14</th>\n",
              "      <th>Unnamed: 15</th>\n",
              "      <th>Unnamed: 16</th>\n",
              "      <th>Unnamed: 17</th>\n",
              "      <th>Unnamed: 18</th>\n",
              "      <th>Unnamed: 19</th>\n",
              "      <th>Unnamed: 20</th>\n",
              "      <th>Unnamed: 21</th>\n",
              "      <th>Unnamed: 22</th>\n",
              "      <th>Unnamed: 23</th>\n",
              "      <th>Unnamed: 24</th>\n",
              "    </tr>\n",
              "  </thead>\n",
              "  <tbody>\n",
              "    <tr>\n",
              "      <th>0</th>\n",
              "      <td>0</td>\n",
              "      <td>Sun Jan 08 01:22:05 +0000 2017</td>\n",
              "      <td>���⛪ @ Catedral de Santo Antônio - Governador ...</td>\n",
              "      <td>NaN</td>\n",
              "      <td>NaN</td>\n",
              "      <td>Brasil</td>\n",
              "      <td>Leonardo C Schneider</td>\n",
              "      <td>LeoCSchneider</td>\n",
              "      <td>0</td>\n",
              "      <td>Neutro</td>\n",
              "      <td>NaN</td>\n",
              "      <td>NaN</td>\n",
              "      <td>NaN</td>\n",
              "      <td>NaN</td>\n",
              "      <td>NaN</td>\n",
              "      <td>NaN</td>\n",
              "      <td>NaN</td>\n",
              "      <td>NaN</td>\n",
              "      <td>NaN</td>\n",
              "      <td>NaN</td>\n",
              "      <td>NaN</td>\n",
              "      <td>NaN</td>\n",
              "      <td>NaN</td>\n",
              "      <td>NaN</td>\n",
              "      <td>NaN</td>\n",
              "      <td>NaN</td>\n",
              "    </tr>\n",
              "    <tr>\n",
              "      <th>1</th>\n",
              "      <td>1</td>\n",
              "      <td>Sun Jan 08 01:49:01 +0000 2017</td>\n",
              "      <td>� @ Governador Valadares, Minas Gerais https:/...</td>\n",
              "      <td>-41.9333</td>\n",
              "      <td>-18.85</td>\n",
              "      <td>NaN</td>\n",
              "      <td>Wândell</td>\n",
              "      <td>klefnews</td>\n",
              "      <td>0</td>\n",
              "      <td>Neutro</td>\n",
              "      <td>NaN</td>\n",
              "      <td>NaN</td>\n",
              "      <td>NaN</td>\n",
              "      <td>NaN</td>\n",
              "      <td>NaN</td>\n",
              "      <td>NaN</td>\n",
              "      <td>NaN</td>\n",
              "      <td>NaN</td>\n",
              "      <td>NaN</td>\n",
              "      <td>NaN</td>\n",
              "      <td>NaN</td>\n",
              "      <td>NaN</td>\n",
              "      <td>NaN</td>\n",
              "      <td>NaN</td>\n",
              "      <td>NaN</td>\n",
              "      <td>NaN</td>\n",
              "    </tr>\n",
              "    <tr>\n",
              "      <th>2</th>\n",
              "      <td>2</td>\n",
              "      <td>Sun Jan 08 01:01:46 +0000 2017</td>\n",
              "      <td>�� @ Governador Valadares, Minas Gerais https:...</td>\n",
              "      <td>-41.9333</td>\n",
              "      <td>-18.85</td>\n",
              "      <td>NaN</td>\n",
              "      <td>Wândell</td>\n",
              "      <td>klefnews</td>\n",
              "      <td>0</td>\n",
              "      <td>Neutro</td>\n",
              "      <td>NaN</td>\n",
              "      <td>NaN</td>\n",
              "      <td>NaN</td>\n",
              "      <td>NaN</td>\n",
              "      <td>NaN</td>\n",
              "      <td>NaN</td>\n",
              "      <td>NaN</td>\n",
              "      <td>NaN</td>\n",
              "      <td>NaN</td>\n",
              "      <td>NaN</td>\n",
              "      <td>NaN</td>\n",
              "      <td>NaN</td>\n",
              "      <td>NaN</td>\n",
              "      <td>NaN</td>\n",
              "      <td>NaN</td>\n",
              "      <td>NaN</td>\n",
              "    </tr>\n",
              "    <tr>\n",
              "      <th>3</th>\n",
              "      <td>3</td>\n",
              "      <td>Wed Jan 04 21:43:51 +0000 2017</td>\n",
              "      <td>��� https://t.co/BnDsO34qK0</td>\n",
              "      <td>NaN</td>\n",
              "      <td>NaN</td>\n",
              "      <td>NaN</td>\n",
              "      <td>Ana estudando</td>\n",
              "      <td>estudandoconcur</td>\n",
              "      <td>0</td>\n",
              "      <td>Neutro</td>\n",
              "      <td>NaN</td>\n",
              "      <td>NaN</td>\n",
              "      <td>NaN</td>\n",
              "      <td>NaN</td>\n",
              "      <td>NaN</td>\n",
              "      <td>NaN</td>\n",
              "      <td>NaN</td>\n",
              "      <td>NaN</td>\n",
              "      <td>NaN</td>\n",
              "      <td>NaN</td>\n",
              "      <td>NaN</td>\n",
              "      <td>NaN</td>\n",
              "      <td>NaN</td>\n",
              "      <td>NaN</td>\n",
              "      <td>NaN</td>\n",
              "      <td>NaN</td>\n",
              "    </tr>\n",
              "    <tr>\n",
              "      <th>4</th>\n",
              "      <td>4</td>\n",
              "      <td>Mon Jan 09 15:08:21 +0000 2017</td>\n",
              "      <td>��� PSOL vai questionar aumento de vereadores ...</td>\n",
              "      <td>NaN</td>\n",
              "      <td>NaN</td>\n",
              "      <td>NaN</td>\n",
              "      <td>Emily</td>\n",
              "      <td>Milly777</td>\n",
              "      <td>0</td>\n",
              "      <td>Negativo</td>\n",
              "      <td>NaN</td>\n",
              "      <td>NaN</td>\n",
              "      <td>NaN</td>\n",
              "      <td>NaN</td>\n",
              "      <td>NaN</td>\n",
              "      <td>NaN</td>\n",
              "      <td>NaN</td>\n",
              "      <td>NaN</td>\n",
              "      <td>NaN</td>\n",
              "      <td>NaN</td>\n",
              "      <td>NaN</td>\n",
              "      <td>NaN</td>\n",
              "      <td>NaN</td>\n",
              "      <td>NaN</td>\n",
              "      <td>NaN</td>\n",
              "      <td>NaN</td>\n",
              "    </tr>\n",
              "  </tbody>\n",
              "</table>\n",
              "</div>"
            ],
            "text/plain": [
              "   Unnamed: 0                      Created At  ... Unnamed: 23  Unnamed: 24\n",
              "0           0  Sun Jan 08 01:22:05 +0000 2017  ...         NaN          NaN\n",
              "1           1  Sun Jan 08 01:49:01 +0000 2017  ...         NaN          NaN\n",
              "2           2  Sun Jan 08 01:01:46 +0000 2017  ...         NaN          NaN\n",
              "3           3  Wed Jan 04 21:43:51 +0000 2017  ...         NaN          NaN\n",
              "4           4  Mon Jan 09 15:08:21 +0000 2017  ...         NaN          NaN\n",
              "\n",
              "[5 rows x 26 columns]"
            ]
          },
          "metadata": {},
          "execution_count": 3
        }
      ]
    },
    {
      "cell_type": "markdown",
      "metadata": {
        "id": "47hBIIW2ewSk"
      },
      "source": [
        "#DESCRIPTION OF DATA"
      ]
    },
    {
      "cell_type": "markdown",
      "metadata": {
        "id": "NbLi_weogHmV"
      },
      "source": [
        "##Rename columns"
      ]
    },
    {
      "cell_type": "code",
      "metadata": {
        "id": "N4fNCYd5gN4s"
      },
      "source": [
        "columns={'Classificacao':'Classification'}\n",
        "df.rename(columns=columns,inplace=True)\n",
        "\n",
        "#altering the classification\n",
        "df['Classification']=df['Classification'].apply(lambda x: 'Positive' if x=='Positivo' else \n",
        "                                                          'Neutral' if x=='Neutro' else \n",
        "                                                          'Negative' if x=='Negativo' else x)"
      ],
      "execution_count": 4,
      "outputs": []
    },
    {
      "cell_type": "markdown",
      "metadata": {
        "id": "G0CvAX_De1FD"
      },
      "source": [
        "##Number of classes\n"
      ]
    },
    {
      "cell_type": "code",
      "metadata": {
        "colab": {
          "base_uri": "https://localhost:8080/"
        },
        "id": "Itmn_2Skey9t",
        "outputId": "5c07aadc-8361-4c20-f318-cf3e95b13da6"
      },
      "source": [
        "df['Classification'].value_counts()"
      ],
      "execution_count": 5,
      "outputs": [
        {
          "output_type": "execute_result",
          "data": {
            "text/plain": [
              "Positive    3300\n",
              "Neutral     2453\n",
              "Negative    2446\n",
              "Name: Classification, dtype: int64"
            ]
          },
          "metadata": {},
          "execution_count": 5
        }
      ]
    },
    {
      "cell_type": "code",
      "metadata": {
        "colab": {
          "base_uri": "https://localhost:8080/",
          "height": 0
        },
        "id": "sv4EDGOhgemN",
        "outputId": "70b23db9-ea41-45b8-fe89-d6c0754665f2"
      },
      "source": [
        "%matplotlib inline\n",
        "df['Classification'].value_counts().plot(kind='bar')"
      ],
      "execution_count": 6,
      "outputs": [
        {
          "output_type": "execute_result",
          "data": {
            "text/plain": [
              "<matplotlib.axes._subplots.AxesSubplot at 0x7f0f2d6e0810>"
            ]
          },
          "metadata": {},
          "execution_count": 6
        },
        {
          "output_type": "display_data",
          "data": {
            "image/png": "[encoded data removed]",
            "text/plain": [
              "<Figure size 432x288 with 1 Axes>"
            ]
          },
          "metadata": {
            "needs_background": "light"
          }
        }
      ]
    },
    {
      "cell_type": "markdown",
      "metadata": {
        "id": "CumPWP24jaNe"
      },
      "source": [
        "##Data Dimensions"
      ]
    },
    {
      "cell_type": "code",
      "metadata": {
        "colab": {
          "base_uri": "https://localhost:8080/"
        },
        "id": "r8v6bPD0jqc-",
        "outputId": "9c8d2fa7-5c15-44ab-8fb9-efa4eeb3b8ab"
      },
      "source": [
        "print('Number of rows: {}'.format(df.shape[0]))\n",
        "print('Number of cols: {}'.format(df.shape[1]))"
      ],
      "execution_count": 7,
      "outputs": [
        {
          "output_type": "stream",
          "name": "stdout",
          "text": [
            "Number of rows: 8199\n",
            "Number of cols: 26\n"
          ]
        }
      ]
    },
    {
      "cell_type": "markdown",
      "metadata": {
        "id": "ddGQKFcZiX7S"
      },
      "source": [
        "#DATA PREPARATION"
      ]
    },
    {
      "cell_type": "markdown",
      "metadata": {
        "id": "GPprx3nAigVl"
      },
      "source": [
        "##Removing duplicate lines"
      ]
    },
    {
      "cell_type": "code",
      "metadata": {
        "colab": {
          "base_uri": "https://localhost:8080/"
        },
        "id": "95jkvzV-ibgH",
        "outputId": "c92a4456-1424-441a-e54c-0ace9cfed8cf"
      },
      "source": [
        "df.drop_duplicates(['Text'], inplace=True)\n",
        "df.Text.count()"
      ],
      "execution_count": 8,
      "outputs": [
        {
          "output_type": "execute_result",
          "data": {
            "text/plain": [
              "5765"
            ]
          },
          "metadata": {},
          "execution_count": 8
        }
      ]
    },
    {
      "cell_type": "code",
      "metadata": {
        "colab": {
          "base_uri": "https://localhost:8080/"
        },
        "id": "vT1zeEJGi65m",
        "outputId": "5d35b6da-ce40-43c7-db0e-a8e173fe0b90"
      },
      "source": [
        "num_lines=df.shape[0]\n",
        "num_lines_delete=num_lines-df.shape[0]\n",
        "print('Number of deleted lines: {}'.format(num_lines_delete))"
      ],
      "execution_count": 9,
      "outputs": [
        {
          "output_type": "stream",
          "name": "stdout",
          "text": [
            "Number of deleted lines: 0\n"
          ]
        }
      ]
    },
    {
      "cell_type": "markdown",
      "metadata": {
        "id": "EIQ-MiKukDJ-"
      },
      "source": [
        "##Peparating the classes"
      ]
    },
    {
      "cell_type": "code",
      "metadata": {
        "id": "PjY09yQAkCnX"
      },
      "source": [
        "tweets = df['Text']\n",
        "classes = df['Classification']"
      ],
      "execution_count": 10,
      "outputs": []
    },
    {
      "cell_type": "markdown",
      "metadata": {
        "id": "FmVwrXHDlfPD"
      },
      "source": [
        "##TweetTokenizer"
      ]
    },
    {
      "cell_type": "code",
      "metadata": {
        "id": "kCouNP4sleZ-"
      },
      "source": [
        "tweet_tokenizer = TweetTokenizer()"
      ],
      "execution_count": 11,
      "outputs": []
    },
    {
      "cell_type": "markdown",
      "metadata": {
        "id": "RKPIYxEKk5_v"
      },
      "source": [
        "#MACHINE LEARNING MODELS"
      ]
    },
    {
      "cell_type": "code",
      "metadata": {
        "id": "l0H3vFpmnmYv"
      },
      "source": [
        "#MultinomialNB\n",
        "pipeline_MultinomialNB = Pipeline([\n",
        "  ('counts', CountVectorizer()),\n",
        "  ('classifier', MultinomialNB())\n",
        "])\n",
        "\n",
        "#MultinomialNB negation\n",
        "pipeline_negation = Pipeline([\n",
        "  ('counts', CountVectorizer(tokenizer=lambda text: negation(text))),\n",
        "  ('classifier', MultinomialNB())\n",
        "])\n",
        "\n",
        "#SVC\n",
        "pipeline_svm = Pipeline([\n",
        "  ('counts', CountVectorizer()),\n",
        "  ('classifier', svm.SVC(kernel='linear'))\n",
        "])\n",
        "\n",
        "#SVC negation\n",
        "pipeline_svm_negation = Pipeline([\n",
        "  ('counts', CountVectorizer(tokenizer=lambda text: negation(text))),\n",
        "  ('classifier', svm.SVC(kernel='linear'))\n",
        "])"
      ],
      "execution_count": 12,
      "outputs": []
    },
    {
      "cell_type": "code",
      "metadata": {
        "colab": {
          "base_uri": "https://localhost:8080/",
          "height": 173
        },
        "id": "wkLT27qjrojB",
        "outputId": "600e4a5e-fda2-4dc1-ac16-5a7d079b26c8"
      },
      "source": [
        "#performance\n",
        "pipeline_MultinomialNB_result=   model_performance(pipeline_MultinomialNB,  tweets, classes,'pipeline_MultinomialNB')\n",
        "pipeline_negation_result=        model_performance(pipeline_negation,       tweets, classes,'pipeline_negation')\n",
        "pipeline_svm_result=             model_performance(pipeline_svm,            tweets, classes,'pipeline_svm')\n",
        "pipeline_svm_negation_result=    model_performance(pipeline_svm_negation,   tweets, classes,'pipeline_svm_negation')\n",
        "\n",
        "modelling_results_cv=pd.concat([         pipeline_MultinomialNB_result,\n",
        "                                         pipeline_negation_result,\n",
        "                                         pipeline_svm_result,\n",
        "                                         pipeline_svm_negation_result],axis=0)\n",
        "#modelling_results_cv=modelling_results_cv[['ModelName','AccuracyCV']]\n",
        "modelling_results_cv.sort_values('AccuracyCV',ascending=False)"
      ],
      "execution_count": 14,
      "outputs": [
        {
          "output_type": "execute_result",
          "data": {
            "text/html": [
              "<div>\n",
              "<style scoped>\n",
              "    .dataframe tbody tr th:only-of-type {\n",
              "        vertical-align: middle;\n",
              "    }\n",
              "\n",
              "    .dataframe tbody tr th {\n",
              "        vertical-align: top;\n",
              "    }\n",
              "\n",
              "    .dataframe thead th {\n",
              "        text-align: right;\n",
              "    }\n",
              "</style>\n",
              "<table border=\"1\" class=\"dataframe\">\n",
              "  <thead>\n",
              "    <tr style=\"text-align: right;\">\n",
              "      <th></th>\n",
              "      <th>ModelName</th>\n",
              "      <th>AccuracyCV</th>\n",
              "    </tr>\n",
              "  </thead>\n",
              "  <tbody>\n",
              "    <tr>\n",
              "      <th>0</th>\n",
              "      <td>pipeline_svm</td>\n",
              "      <td>0.89</td>\n",
              "    </tr>\n",
              "    <tr>\n",
              "      <th>0</th>\n",
              "      <td>pipeline_MultinomialNB</td>\n",
              "      <td>0.87</td>\n",
              "    </tr>\n",
              "    <tr>\n",
              "      <th>0</th>\n",
              "      <td>pipeline_svm_negation</td>\n",
              "      <td>0.77</td>\n",
              "    </tr>\n",
              "    <tr>\n",
              "      <th>0</th>\n",
              "      <td>pipeline_negation</td>\n",
              "      <td>0.68</td>\n",
              "    </tr>\n",
              "  </tbody>\n",
              "</table>\n",
              "</div>"
            ],
            "text/plain": [
              "                ModelName AccuracyCV\n",
              "0            pipeline_svm       0.89\n",
              "0  pipeline_MultinomialNB       0.87\n",
              "0   pipeline_svm_negation       0.77\n",
              "0       pipeline_negation       0.68"
            ]
          },
          "metadata": {},
          "execution_count": 14
        }
      ]
    }
  ]
}