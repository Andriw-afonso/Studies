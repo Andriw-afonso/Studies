{
  "nbformat": 4,
  "nbformat_minor": 0,
  "metadata": {
    "kernelspec": {
      "display_name": "Python 3",
      "language": "python",
      "name": "python3"
    },
    "language_info": {
      "codemirror_mode": {
        "name": "ipython",
        "version": 3
      },
      "file_extension": ".py",
      "mimetype": "text/x-python",
      "name": "python",
      "nbconvert_exporter": "python",
      "pygments_lexer": "ipython3",
      "version": "3.7.1"
    },
    "colab": {
      "name": "Live-Analise-Sentimentos.ipynb",
      "provenance": [],
      "collapsed_sections": []
    }
  },
  "cells": [
    {
      "cell_type": "markdown",
      "metadata": {
        "id": "iSeZX-FqfHHA"
      },
      "source": [
        "# **Minerando Dados - O maior portal de Data Science do Brasil**\n",
        "www.minerandodados.com.br"
      ]
    },
    {
      "cell_type": "code",
      "metadata": {
        "id": "MhrG9iS9fL4L",
        "colab": {
          "base_uri": "https://localhost:8080/",
          "height": 35
        },
        "outputId": "9437d3e8-4407-4f4e-8473-341dbec8543f"
      },
      "source": [
        "'''from google.colab import drive\n",
        "drive.mount('/content/drive')'''"
      ],
      "execution_count": 1,
      "outputs": [
        {
          "output_type": "execute_result",
          "data": {
            "application/vnd.google.colaboratory.intrinsic+json": {
              "type": "string"
            },
            "text/plain": [
              "\"from google.colab import drive\\ndrive.mount('/content/drive')\""
            ]
          },
          "metadata": {},
          "execution_count": 1
        }
      ]
    },
    {
      "cell_type": "markdown",
      "metadata": {
        "id": "Oks5bNFRfHHB"
      },
      "source": [
        "## **Análise de Sentimentos usando Machine Learning**"
      ]
    },
    {
      "cell_type": "markdown",
      "metadata": {
        "id": "IJsB6eY0fHHC"
      },
      "source": [
        "* Criando modelos para análise de sentimentos de tweets"
      ]
    },
    {
      "cell_type": "code",
      "metadata": {
        "id": "T4_K6NcqfHHD"
      },
      "source": [
        "import nltk\n",
        "import re\n",
        "\n",
        "import pandas as pd\n",
        "\n",
        "from nltk                            import word_tokenize\n",
        "from sklearn.feature_extraction.text import CountVectorizer\n",
        "from sklearn.naive_bayes             import MultinomialNB\n",
        "from sklearn                         import svm\n",
        "from sklearn                         import metrics\n",
        "from sklearn.model_selection         import cross_val_predict"
      ],
      "execution_count": 2,
      "outputs": []
    },
    {
      "cell_type": "markdown",
      "metadata": {
        "id": "r1pxDwaHfHHF"
      },
      "source": [
        "**Ler arquivo de dados e conta a quantidade de linhas**"
      ]
    },
    {
      "cell_type": "code",
      "metadata": {
        "id": "GOYpa0vtfHHG"
      },
      "source": [
        "df = pd.read_csv('/content/Tweets_Mg.csv', encoding='utf-8')"
      ],
      "execution_count": 3,
      "outputs": []
    },
    {
      "cell_type": "code",
      "metadata": {
        "id": "DzxUf5TOnF-4",
        "colab": {
          "base_uri": "https://localhost:8080/",
          "height": 581
        },
        "outputId": "ffad084c-af0e-46c7-b07c-1df3d35652dd"
      },
      "source": [
        "df.head()"
      ],
      "execution_count": 4,
      "outputs": [
        {
          "output_type": "execute_result",
          "data": {
            "text/html": [
              "<div>\n",
              "<style scoped>\n",
              "    .dataframe tbody tr th:only-of-type {\n",
              "        vertical-align: middle;\n",
              "    }\n",
              "\n",
              "    .dataframe tbody tr th {\n",
              "        vertical-align: top;\n",
              "    }\n",
              "\n",
              "    .dataframe thead th {\n",
              "        text-align: right;\n",
              "    }\n",
              "</style>\n",
              "<table border=\"1\" class=\"dataframe\">\n",
              "  <thead>\n",
              "    <tr style=\"text-align: right;\">\n",
              "      <th></th>\n",
              "      <th>Unnamed: 0</th>\n",
              "      <th>Created At</th>\n",
              "      <th>Text</th>\n",
              "      <th>Geo Coordinates.latitude</th>\n",
              "      <th>Geo Coordinates.longitude</th>\n",
              "      <th>User Location</th>\n",
              "      <th>Username</th>\n",
              "      <th>User Screen Name</th>\n",
              "      <th>Retweet Count</th>\n",
              "      <th>Classificacao</th>\n",
              "      <th>Observação</th>\n",
              "      <th>Unnamed: 10</th>\n",
              "      <th>Unnamed: 11</th>\n",
              "      <th>Unnamed: 12</th>\n",
              "      <th>Unnamed: 13</th>\n",
              "      <th>Unnamed: 14</th>\n",
              "      <th>Unnamed: 15</th>\n",
              "      <th>Unnamed: 16</th>\n",
              "      <th>Unnamed: 17</th>\n",
              "      <th>Unnamed: 18</th>\n",
              "      <th>Unnamed: 19</th>\n",
              "      <th>Unnamed: 20</th>\n",
              "      <th>Unnamed: 21</th>\n",
              "      <th>Unnamed: 22</th>\n",
              "      <th>Unnamed: 23</th>\n",
              "      <th>Unnamed: 24</th>\n",
              "    </tr>\n",
              "  </thead>\n",
              "  <tbody>\n",
              "    <tr>\n",
              "      <th>0</th>\n",
              "      <td>0</td>\n",
              "      <td>Sun Jan 08 01:22:05 +0000 2017</td>\n",
              "      <td>���⛪ @ Catedral de Santo Antônio - Governador ...</td>\n",
              "      <td>NaN</td>\n",
              "      <td>NaN</td>\n",
              "      <td>Brasil</td>\n",
              "      <td>Leonardo C Schneider</td>\n",
              "      <td>LeoCSchneider</td>\n",
              "      <td>0</td>\n",
              "      <td>Neutro</td>\n",
              "      <td>NaN</td>\n",
              "      <td>NaN</td>\n",
              "      <td>NaN</td>\n",
              "      <td>NaN</td>\n",
              "      <td>NaN</td>\n",
              "      <td>NaN</td>\n",
              "      <td>NaN</td>\n",
              "      <td>NaN</td>\n",
              "      <td>NaN</td>\n",
              "      <td>NaN</td>\n",
              "      <td>NaN</td>\n",
              "      <td>NaN</td>\n",
              "      <td>NaN</td>\n",
              "      <td>NaN</td>\n",
              "      <td>NaN</td>\n",
              "      <td>NaN</td>\n",
              "    </tr>\n",
              "    <tr>\n",
              "      <th>1</th>\n",
              "      <td>1</td>\n",
              "      <td>Sun Jan 08 01:49:01 +0000 2017</td>\n",
              "      <td>� @ Governador Valadares, Minas Gerais https:/...</td>\n",
              "      <td>-41.9333</td>\n",
              "      <td>-18.85</td>\n",
              "      <td>NaN</td>\n",
              "      <td>Wândell</td>\n",
              "      <td>klefnews</td>\n",
              "      <td>0</td>\n",
              "      <td>Neutro</td>\n",
              "      <td>NaN</td>\n",
              "      <td>NaN</td>\n",
              "      <td>NaN</td>\n",
              "      <td>NaN</td>\n",
              "      <td>NaN</td>\n",
              "      <td>NaN</td>\n",
              "      <td>NaN</td>\n",
              "      <td>NaN</td>\n",
              "      <td>NaN</td>\n",
              "      <td>NaN</td>\n",
              "      <td>NaN</td>\n",
              "      <td>NaN</td>\n",
              "      <td>NaN</td>\n",
              "      <td>NaN</td>\n",
              "      <td>NaN</td>\n",
              "      <td>NaN</td>\n",
              "    </tr>\n",
              "    <tr>\n",
              "      <th>2</th>\n",
              "      <td>2</td>\n",
              "      <td>Sun Jan 08 01:01:46 +0000 2017</td>\n",
              "      <td>�� @ Governador Valadares, Minas Gerais https:...</td>\n",
              "      <td>-41.9333</td>\n",
              "      <td>-18.85</td>\n",
              "      <td>NaN</td>\n",
              "      <td>Wândell</td>\n",
              "      <td>klefnews</td>\n",
              "      <td>0</td>\n",
              "      <td>Neutro</td>\n",
              "      <td>NaN</td>\n",
              "      <td>NaN</td>\n",
              "      <td>NaN</td>\n",
              "      <td>NaN</td>\n",
              "      <td>NaN</td>\n",
              "      <td>NaN</td>\n",
              "      <td>NaN</td>\n",
              "      <td>NaN</td>\n",
              "      <td>NaN</td>\n",
              "      <td>NaN</td>\n",
              "      <td>NaN</td>\n",
              "      <td>NaN</td>\n",
              "      <td>NaN</td>\n",
              "      <td>NaN</td>\n",
              "      <td>NaN</td>\n",
              "      <td>NaN</td>\n",
              "    </tr>\n",
              "    <tr>\n",
              "      <th>3</th>\n",
              "      <td>3</td>\n",
              "      <td>Wed Jan 04 21:43:51 +0000 2017</td>\n",
              "      <td>��� https://t.co/BnDsO34qK0</td>\n",
              "      <td>NaN</td>\n",
              "      <td>NaN</td>\n",
              "      <td>NaN</td>\n",
              "      <td>Ana estudando</td>\n",
              "      <td>estudandoconcur</td>\n",
              "      <td>0</td>\n",
              "      <td>Neutro</td>\n",
              "      <td>NaN</td>\n",
              "      <td>NaN</td>\n",
              "      <td>NaN</td>\n",
              "      <td>NaN</td>\n",
              "      <td>NaN</td>\n",
              "      <td>NaN</td>\n",
              "      <td>NaN</td>\n",
              "      <td>NaN</td>\n",
              "      <td>NaN</td>\n",
              "      <td>NaN</td>\n",
              "      <td>NaN</td>\n",
              "      <td>NaN</td>\n",
              "      <td>NaN</td>\n",
              "      <td>NaN</td>\n",
              "      <td>NaN</td>\n",
              "      <td>NaN</td>\n",
              "    </tr>\n",
              "    <tr>\n",
              "      <th>4</th>\n",
              "      <td>4</td>\n",
              "      <td>Mon Jan 09 15:08:21 +0000 2017</td>\n",
              "      <td>��� PSOL vai questionar aumento de vereadores ...</td>\n",
              "      <td>NaN</td>\n",
              "      <td>NaN</td>\n",
              "      <td>NaN</td>\n",
              "      <td>Emily</td>\n",
              "      <td>Milly777</td>\n",
              "      <td>0</td>\n",
              "      <td>Negativo</td>\n",
              "      <td>NaN</td>\n",
              "      <td>NaN</td>\n",
              "      <td>NaN</td>\n",
              "      <td>NaN</td>\n",
              "      <td>NaN</td>\n",
              "      <td>NaN</td>\n",
              "      <td>NaN</td>\n",
              "      <td>NaN</td>\n",
              "      <td>NaN</td>\n",
              "      <td>NaN</td>\n",
              "      <td>NaN</td>\n",
              "      <td>NaN</td>\n",
              "      <td>NaN</td>\n",
              "      <td>NaN</td>\n",
              "      <td>NaN</td>\n",
              "      <td>NaN</td>\n",
              "    </tr>\n",
              "  </tbody>\n",
              "</table>\n",
              "</div>"
            ],
            "text/plain": [
              "   Unnamed: 0                      Created At  ... Unnamed: 23  Unnamed: 24\n",
              "0           0  Sun Jan 08 01:22:05 +0000 2017  ...         NaN          NaN\n",
              "1           1  Sun Jan 08 01:49:01 +0000 2017  ...         NaN          NaN\n",
              "2           2  Sun Jan 08 01:01:46 +0000 2017  ...         NaN          NaN\n",
              "3           3  Wed Jan 04 21:43:51 +0000 2017  ...         NaN          NaN\n",
              "4           4  Mon Jan 09 15:08:21 +0000 2017  ...         NaN          NaN\n",
              "\n",
              "[5 rows x 26 columns]"
            ]
          },
          "metadata": {},
          "execution_count": 4
        }
      ]
    },
    {
      "cell_type": "markdown",
      "metadata": {
        "id": "S2VSXvUwfHHL"
      },
      "source": [
        "**Conta a quantidade de linhas de tweets neutros, positivos e negativos**"
      ]
    },
    {
      "cell_type": "code",
      "metadata": {
        "id": "-8EpKNzMfwNH",
        "colab": {
          "base_uri": "https://localhost:8080/"
        },
        "outputId": "d09e798b-ceb4-40db-ade2-7a910a6d3d0e"
      },
      "source": [
        "df['Classificacao'].value_counts()"
      ],
      "execution_count": 5,
      "outputs": [
        {
          "output_type": "execute_result",
          "data": {
            "text/plain": [
              "Positivo    3300\n",
              "Neutro      2453\n",
              "Negativo    2446\n",
              "Name: Classificacao, dtype: int64"
            ]
          },
          "metadata": {},
          "execution_count": 5
        }
      ]
    },
    {
      "cell_type": "code",
      "metadata": {
        "id": "aIj5Lin3fHHT",
        "colab": {
          "base_uri": "https://localhost:8080/",
          "height": 317
        },
        "outputId": "44a38047-e8c0-4924-958d-acc6a1d37eb6"
      },
      "source": [
        "%matplotlib inline\n",
        "df.Classificacao.value_counts().plot(kind='bar')"
      ],
      "execution_count": 6,
      "outputs": [
        {
          "output_type": "execute_result",
          "data": {
            "text/plain": [
              "<matplotlib.axes._subplots.AxesSubplot at 0x7f8f660aacd0>"
            ]
          },
          "metadata": {},
          "execution_count": 6
        },
        {
          "output_type": "display_data",
          "data": {
            "image/png": "[encoded data removed]",
            "text/plain": [
              "<Figure size 432x288 with 1 Axes>"
            ]
          },
          "metadata": {
            "needs_background": "light"
          }
        }
      ]
    },
    {
      "cell_type": "code",
      "metadata": {
        "id": "fN7k0LCMfHHV",
        "colab": {
          "base_uri": "https://localhost:8080/"
        },
        "outputId": "4fc95934-9c08-4426-f41a-42064c15cf56"
      },
      "source": [
        "df.count()"
      ],
      "execution_count": 7,
      "outputs": [
        {
          "output_type": "execute_result",
          "data": {
            "text/plain": [
              "Unnamed: 0                   8199\n",
              "Created At                   8199\n",
              "Text                         8199\n",
              "Geo Coordinates.latitude      104\n",
              "Geo Coordinates.longitude     104\n",
              "User Location                5489\n",
              "Username                     8199\n",
              "User Screen Name             8199\n",
              "Retweet Count                8199\n",
              "Classificacao                8199\n",
              "Observação                      1\n",
              "Unnamed: 10                     0\n",
              "Unnamed: 11                     0\n",
              "Unnamed: 12                     0\n",
              "Unnamed: 13                     0\n",
              "Unnamed: 14                     0\n",
              "Unnamed: 15                     0\n",
              "Unnamed: 16                     0\n",
              "Unnamed: 17                     0\n",
              "Unnamed: 18                     0\n",
              "Unnamed: 19                     0\n",
              "Unnamed: 20                     0\n",
              "Unnamed: 21                     0\n",
              "Unnamed: 22                     0\n",
              "Unnamed: 23                     0\n",
              "Unnamed: 24                     0\n",
              "dtype: int64"
            ]
          },
          "metadata": {},
          "execution_count": 7
        }
      ]
    },
    {
      "cell_type": "markdown",
      "metadata": {
        "id": "IWenqwCnfHHZ"
      },
      "source": [
        "## Pre-Processamento dos Dados"
      ]
    },
    {
      "cell_type": "markdown",
      "metadata": {
        "id": "2DuvWYo9fHHZ"
      },
      "source": [
        "* Remove linhas duplicadas na base de dados\n",
        "    - Problema na coleta dos dados.\n",
        "* Remove Stopwords\n",
        "* Stemming ou Lemmatization\n",
        "* Remove caracteres indesejados como links etc."
      ]
    },
    {
      "cell_type": "code",
      "metadata": {
        "id": "m23ema2FfHHa"
      },
      "source": [
        "df.drop_duplicates(['Text'], inplace=True)"
      ],
      "execution_count": 8,
      "outputs": []
    },
    {
      "cell_type": "code",
      "metadata": {
        "id": "SkPMW1UZfHHd",
        "colab": {
          "base_uri": "https://localhost:8080/"
        },
        "outputId": "099c1a86-f23a-464b-f95e-2b4946d4d022"
      },
      "source": [
        "df.Text.count()"
      ],
      "execution_count": 9,
      "outputs": [
        {
          "output_type": "execute_result",
          "data": {
            "text/plain": [
              "5765"
            ]
          },
          "metadata": {},
          "execution_count": 9
        }
      ]
    },
    {
      "cell_type": "markdown",
      "metadata": {
        "id": "J0uUvFajfHHf"
      },
      "source": [
        "## **Separando tweets e suas Classes**"
      ]
    },
    {
      "cell_type": "code",
      "metadata": {
        "id": "Uh7xRoHNfHHf"
      },
      "source": [
        "tweets = df['Text']\n",
        "classes = df['Classificacao']"
      ],
      "execution_count": 10,
      "outputs": []
    },
    {
      "cell_type": "markdown",
      "metadata": {
        "id": "pdBk0tyefHHh"
      },
      "source": [
        "**Instala bibliotecas e baixa a base de dados**"
      ]
    },
    {
      "cell_type": "code",
      "metadata": {
        "id": "M_opr6SFfHHi",
        "colab": {
          "base_uri": "https://localhost:8080/"
        },
        "outputId": "e254eb4d-3204-4950-f81b-9aa9207c067c"
      },
      "source": [
        "import nltk\n",
        "nltk.download('stopwords')\n",
        "nltk.download('rslp')\n",
        "nltk.download('punkt')\n",
        "nltk.download('wordnet')"
      ],
      "execution_count": 11,
      "outputs": [
        {
          "output_type": "stream",
          "name": "stdout",
          "text": [
            "[nltk_data] Downloading package stopwords to /root/nltk_data...\n",
            "[nltk_data]   Package stopwords is already up-to-date!\n",
            "[nltk_data] Downloading package rslp to /root/nltk_data...\n",
            "[nltk_data]   Package rslp is already up-to-date!\n",
            "[nltk_data] Downloading package punkt to /root/nltk_data...\n",
            "[nltk_data]   Package punkt is already up-to-date!\n",
            "[nltk_data] Downloading package wordnet to /root/nltk_data...\n",
            "[nltk_data]   Package wordnet is already up-to-date!\n"
          ]
        },
        {
          "output_type": "execute_result",
          "data": {
            "text/plain": [
              "True"
            ]
          },
          "metadata": {},
          "execution_count": 11
        }
      ]
    },
    {
      "cell_type": "markdown",
      "metadata": {
        "id": "2NV3syRNfHHk"
      },
      "source": [
        "**Funções de Pre-processamento de dados**"
      ]
    },
    {
      "cell_type": "code",
      "metadata": {
        "id": "M6HDfRzcfHHk"
      },
      "source": [
        "def RemoveStopWords(instancia):\n",
        "    stopwords = set(nltk.corpus.stopwords.words('portuguese'))\n",
        "    palavras = [i for i in instancia.split() if not i in stopwords]\n",
        "    return (\" \".join(palavras))"
      ],
      "execution_count": 12,
      "outputs": []
    },
    {
      "cell_type": "code",
      "metadata": {
        "id": "q8FS-ZoJfHHn"
      },
      "source": [
        "def Stemming(instancia):\n",
        "    stemmer = nltk.stem.RSLPStemmer()\n",
        "    palavras = []\n",
        "    for w in instancia.split():\n",
        "        palavras.append(stemmer.stem(w))\n",
        "    return (\" \".join(palavras))"
      ],
      "execution_count": 13,
      "outputs": []
    },
    {
      "cell_type": "code",
      "metadata": {
        "id": "NrLlbIaafHHp"
      },
      "source": [
        "def Limpeza_dados(instancia):\n",
        "    # remove links, pontos, virgulas,ponto e virgulas dos tweets\n",
        "    instancia = re.sub(r\"http\\S+\", \"\", instancia).lower().replace('.','').replace(';','').replace('-','').replace(':','').replace(')','')\n",
        "    return (instancia)"
      ],
      "execution_count": 14,
      "outputs": []
    },
    {
      "cell_type": "code",
      "metadata": {
        "id": "it75oz2vhCyy"
      },
      "source": [
        "from nltk.stem import WordNetLemmatizer\n",
        "wordnet_lemmatizer = WordNetLemmatizer()\n",
        "\n",
        "def Lemmatization(instancia):\n",
        "  palavras = []\n",
        "  for w in instancia.split():\n",
        "    palavras.append(wordnet_lemmatizer.lemmatize(w))\n",
        "  return (\" \".join(palavras))"
      ],
      "execution_count": 15,
      "outputs": []
    },
    {
      "cell_type": "markdown",
      "metadata": {
        "id": "TiATzqyZfHHs"
      },
      "source": [
        "**Entenda como funciona cada função**"
      ]
    },
    {
      "cell_type": "code",
      "metadata": {
        "id": "Jn7uqh9KfHHs",
        "colab": {
          "base_uri": "https://localhost:8080/",
          "height": 35
        },
        "outputId": "87884fb6-1654-4a41-bf91-d87dd1ef6f09"
      },
      "source": [
        "RemoveStopWords('Eu não gosto do partido, e também não votaria novamente nesse governante!')"
      ],
      "execution_count": 16,
      "outputs": [
        {
          "output_type": "execute_result",
          "data": {
            "application/vnd.google.colaboratory.intrinsic+json": {
              "type": "string"
            },
            "text/plain": [
              "'Eu gosto partido, votaria novamente nesse governante!'"
            ]
          },
          "metadata": {},
          "execution_count": 16
        }
      ]
    },
    {
      "cell_type": "code",
      "metadata": {
        "id": "YCEFse4ZfHHv",
        "colab": {
          "base_uri": "https://localhost:8080/",
          "height": 35
        },
        "outputId": "fc62da8f-2add-4ed1-daf8-2b0c4e69ce72"
      },
      "source": [
        "Stemming('Eu não gosto do partido, e também não votaria novamente nesse governante!')"
      ],
      "execution_count": 17,
      "outputs": [
        {
          "output_type": "execute_result",
          "data": {
            "application/vnd.google.colaboratory.intrinsic+json": {
              "type": "string"
            },
            "text/plain": [
              "'eu não gost do partido, e também não vot nov ness governante!'"
            ]
          },
          "metadata": {},
          "execution_count": 17
        }
      ]
    },
    {
      "cell_type": "code",
      "metadata": {
        "id": "F3riOVgGfHHz",
        "colab": {
          "base_uri": "https://localhost:8080/",
          "height": 35
        },
        "outputId": "930ef7a8-757a-4c17-dd89-0453fb9be8d0"
      },
      "source": [
        "Limpeza_dados('Assita aqui o video do Governador falando sobre a CEMIG https://www.uol.com.br :) ;)')"
      ],
      "execution_count": 18,
      "outputs": [
        {
          "output_type": "execute_result",
          "data": {
            "application/vnd.google.colaboratory.intrinsic+json": {
              "type": "string"
            },
            "text/plain": [
              "'assita aqui o video do governador falando sobre a cemig   '"
            ]
          },
          "metadata": {},
          "execution_count": 18
        }
      ]
    },
    {
      "cell_type": "code",
      "metadata": {
        "id": "MEvt1kBghC9_",
        "colab": {
          "base_uri": "https://localhost:8080/",
          "height": 35
        },
        "outputId": "dfaccf40-9fb4-428b-8ba0-3bb1ef008206"
      },
      "source": [
        "Lemmatization('Os carros são bonitos')"
      ],
      "execution_count": 19,
      "outputs": [
        {
          "output_type": "execute_result",
          "data": {
            "application/vnd.google.colaboratory.intrinsic+json": {
              "type": "string"
            },
            "text/plain": [
              "'Os carros são bonito'"
            ]
          },
          "metadata": {},
          "execution_count": 19
        }
      ]
    },
    {
      "cell_type": "markdown",
      "metadata": {
        "id": "s8JohAMlfHH3"
      },
      "source": [
        "**Aplica as 3 funções de Pre-processamento nos dados**"
      ]
    },
    {
      "cell_type": "code",
      "metadata": {
        "id": "0C2bY97JfHH4"
      },
      "source": [
        "def Preprocessing(instancia):\n",
        "    stemmer = nltk.stem.RSLPStemmer()\n",
        "    instancia = re.sub(r\"http\\S+\", \"\", instancia).lower().replace('.','').replace(';','').replace('-','').replace(':','').replace(')','')\n",
        "    stopwords = set(nltk.corpus.stopwords.words('portuguese'))\n",
        "    palavras = [stemmer.stem(i) for i in instancia.split() if not i in stopwords]\n",
        "    return (\" \".join(palavras))\n",
        "\n",
        "# Aplica a função em todos os dados:\n",
        "tweets = [Preprocessing(i) for i in tweets]"
      ],
      "execution_count": 20,
      "outputs": []
    },
    {
      "cell_type": "code",
      "metadata": {
        "id": "D77vjoRCfHH6",
        "colab": {
          "base_uri": "https://localhost:8080/",
          "height": 35
        },
        "outputId": "86125556-d06f-4965-dbba-e1ba814dfc93"
      },
      "source": [
        "Preprocessing('Eu não gosto do partido, e também não votaria novamente nesse governante. Assita o video aqui https:// :)')"
      ],
      "execution_count": 21,
      "outputs": [
        {
          "output_type": "execute_result",
          "data": {
            "application/vnd.google.colaboratory.intrinsic+json": {
              "type": "string"
            },
            "text/plain": [
              "'gost partido, vot nov ness govern assit vide aqu'"
            ]
          },
          "metadata": {},
          "execution_count": 21
        }
      ]
    },
    {
      "cell_type": "markdown",
      "metadata": {
        "id": "ncXEOQOCfHH8"
      },
      "source": [
        "**Visualize os dados e veja como ficou após o pré-processamento**"
      ]
    },
    {
      "cell_type": "code",
      "metadata": {
        "id": "4Fg7uWnpfHH9",
        "colab": {
          "base_uri": "https://localhost:8080/"
        },
        "outputId": "e074918a-9b2d-439e-ef40-5824441df57c"
      },
      "source": [
        "tweets[:50]"
      ],
      "execution_count": 22,
      "outputs": [
        {
          "output_type": "execute_result",
          "data": {
            "text/plain": [
              "['���⛪ @ catedr sant antôni govern valadares/mg',\n",
              " '� @ govern valadares, min geral',\n",
              " '�� @ govern valadares, min geral',\n",
              " '���',\n",
              " '��� psol vai quest aument vere prefeit bh justiç poli est min',\n",
              " '\" bom band morto\" deput cab júli conden fic ineleg 10 ano poli est min',\n",
              " '\"e 25% min diz torc tim nenhum,mesm dentr est atléticomg cruz pq?\"',\n",
              " '\"a gigantesc barb mal\" destaqu cadern cult est min',\n",
              " '\"bb govern min tr disput sobr depósit judiciais\"',\n",
              " '\"com vc bh fic pequena!\" bel horizont (pron [bɛloɾiˈzõntʃi][10] capit est mg, áre aproximad 331 km²',\n",
              " '\"daí gent visit govern valadares\" \"qu lug eh mãe?\" \"mg, gent um parent la\" man ond q parent',\n",
              " '\"é bonit bonita\" #latergr #ibiturun #hom @ govern valadares, min geral',\n",
              " '\"err desconhecido\" mato! aliás, secret estad fazend tá assim mg precis dinh não, governador?',\n",
              " '\"la la land cant estações\" arras glob our est min',\n",
              " '\"la la land cant estações\" arras glob our est min',\n",
              " '\"lo abusos, aun en el est má sólido, son min sord tard tempr estallan\" joseph sanialdubay',\n",
              " '\"mesm dinh caix govern min geral compr 2 (doil helicópteros\" doi helicópter min geral #2017 s1',\n",
              " '\"model seguranç legado\", diz cláudi beat poli est min',\n",
              " '\"model seguranç legado\", diz cláudi beat poli est min',\n",
              " '\"model seguranç legado\", diz cláudi beat poli est min',\n",
              " '\"o govern min geral coment assunt \"',\n",
              " '\"o govern feder public dia 27 dezembr 2016, med provisór 764/16 permit diferenci',\n",
              " '\"políc feder acab divulg encontr prov apart lula, 4ª série\" jorn est min',\n",
              " '\"pra estação\" lot nest sáb ver bh geral est min',\n",
              " '\"represent ferrament monitor educ red estad minas, secret est',\n",
              " '\"us aeronav pertenc est mg, domingo, p/ fim pessoais, clar desvi finalidade\"',\n",
              " '\"vou post uma curios sobr corp humano\" *o jap men est min gerais* ????¿¿¿?¿',\n",
              " '#acordaminas!!! govern fern pimentel, ser flagr us helicópter est mg',\n",
              " '#acordaminas!!!! pov min pé bund dess canalh',\n",
              " '#alert nom cee utiliz golp est',\n",
              " '#bet #betalab #mg afili glob apresent am demit após critic governador…',\n",
              " '#bet #betalab #mg cao presídi am ped apoi uni seil dia após massacr',\n",
              " '#bet #betalab #mg cao presídi tem cármen lúc reún debat cris',\n",
              " '#bet #betalab #mg cris carcerár govern rora ped forç nacion tem',\n",
              " '#bet #betalab #mg cris carcerár secret sp diz hav guerr facç país',\n",
              " '#bet #betalab #mg cris polít df agrav rollemberg exon vicegovern cargo… #timbet #rt #brasil',\n",
              " '#bet #betalab #mg escal viol presídi am ped apoi forç nacional…',\n",
              " '#bet #betalab #mg escal viol crim organiz brasil disput 27…',\n",
              " '#bet #betalab #mg est afirm ter sid notific apes decis judicial, reajuste……',\n",
              " '#bet #betalab #mg est espírit paulist \"voz\" trânsito, buzin reflet pressa,……',\n",
              " '#bet #betalab #mg est fal part pmdb qu barr vet tem negoci de……',\n",
              " '#bet #betalab #mg exministr outr serv pt mantêm carg estratégicos… #timbet #rt #brasil',\n",
              " \"#bet #betalab #mg expresid câm justiç suíç vê 'indíci concretos' contra…\",\n",
              " '#bet #betalab #mg govern calam financ bb avis justiç min tem…',\n",
              " \"#bet #betalab #mg sobr massacr pf facç 'cel comando' dentr prisão…\",\n",
              " '#bet #betalab #mg marketing vet med pae doaç sang capoe 1ª……',\n",
              " '#bet #betalab #mg massacr presídi manau govern am rebat ministr justiç e… #timbet #rt #brasil',\n",
              " '#bet #betalab #mg mudanç propost govern reform lib trabalh 12 hor alguns……',\n",
              " '#bet #betalab #mg muit págin investig \"qg\" lav jat reún 30 milhões……',\n",
              " '#bet #betalab #mg últ doi ano govern pag r$ 2,4 bi alv lav jat']"
            ]
          },
          "metadata": {},
          "execution_count": 22
        }
      ]
    },
    {
      "cell_type": "markdown",
      "metadata": {
        "id": "N27Ueb96lu7W"
      },
      "source": [
        "**Tokenização**\n",
        "- Atente para o tipo de dados que você está trabalhando."
      ]
    },
    {
      "cell_type": "code",
      "metadata": {
        "id": "CZ0eZu0HEFO9"
      },
      "source": [
        "df = pd.read_csv('/content/Tweets_Mg.csv', encoding='utf-8')\n",
        "tweets = df['Text']\n",
        "classes = df['Classificacao']"
      ],
      "execution_count": 23,
      "outputs": []
    },
    {
      "cell_type": "code",
      "metadata": {
        "id": "Dq6O2GxKlz-6"
      },
      "source": [
        "from nltk.tokenize import word_tokenize\n"
      ],
      "execution_count": 24,
      "outputs": []
    },
    {
      "cell_type": "code",
      "metadata": {
        "id": "hfkgKqmEmupe"
      },
      "source": [
        "frase = 'A live do @blogminerando é show! :) :-) ;) =D'"
      ],
      "execution_count": 25,
      "outputs": []
    },
    {
      "cell_type": "code",
      "metadata": {
        "id": "ixDJyhR7l3-S",
        "colab": {
          "base_uri": "https://localhost:8080/"
        },
        "outputId": "8c21acc9-14ec-45ac-c34f-dc95a4961a1b"
      },
      "source": [
        "\n",
        "word_tokenize(frase)"
      ],
      "execution_count": 26,
      "outputs": [
        {
          "output_type": "execute_result",
          "data": {
            "text/plain": [
              "['A',\n",
              " 'live',\n",
              " 'do',\n",
              " '@',\n",
              " 'blogminerando',\n",
              " 'é',\n",
              " 'show',\n",
              " '!',\n",
              " ':',\n",
              " ')',\n",
              " ':',\n",
              " '-',\n",
              " ')',\n",
              " ';',\n",
              " ')',\n",
              " '=D']"
            ]
          },
          "metadata": {},
          "execution_count": 26
        }
      ]
    },
    {
      "cell_type": "code",
      "metadata": {
        "id": "uJeCv1E4lA7O"
      },
      "source": [
        "from nltk.tokenize import TweetTokenizer"
      ],
      "execution_count": 27,
      "outputs": []
    },
    {
      "cell_type": "code",
      "metadata": {
        "id": "PsW12SRmle1u"
      },
      "source": [
        "tweet_tokenizer = TweetTokenizer()"
      ],
      "execution_count": 28,
      "outputs": []
    },
    {
      "cell_type": "code",
      "metadata": {
        "id": "rlDjKW46mV51",
        "colab": {
          "base_uri": "https://localhost:8080/"
        },
        "outputId": "b732e6a1-bbcc-49e4-e6b0-56d6ed53ca71"
      },
      "source": [
        "tweet_tokenizer.tokenize(frase)"
      ],
      "execution_count": 29,
      "outputs": [
        {
          "output_type": "execute_result",
          "data": {
            "text/plain": [
              "['A',\n",
              " 'live',\n",
              " 'do',\n",
              " '@blogminerando',\n",
              " 'é',\n",
              " 'show',\n",
              " '!',\n",
              " ':)',\n",
              " ':-)',\n",
              " ';)',\n",
              " '=D']"
            ]
          },
          "metadata": {},
          "execution_count": 29
        }
      ]
    },
    {
      "cell_type": "markdown",
      "metadata": {
        "collapsed": true,
        "id": "y_42starfHH_"
      },
      "source": [
        "## Criando o modelo"
      ]
    },
    {
      "cell_type": "markdown",
      "metadata": {
        "id": "eGBtrI9zfHH_"
      },
      "source": [
        "**Instancia o objeto que faz a vetorização dos dados de texto**"
      ]
    },
    {
      "cell_type": "code",
      "metadata": {
        "id": "VOZ0Nej6fHIA"
      },
      "source": [
        "vectorizer = CountVectorizer(analyzer=\"word\", tokenizer=tweet_tokenizer.tokenize)\n",
        "\n",
        "# vectorizer = CountVectorizer(analyzer=\"word\", tokenizer=tweet_tokenizer.tokenize, max_features=1000)   <-- bases muito grandes"
      ],
      "execution_count": 30,
      "outputs": []
    },
    {
      "cell_type": "markdown",
      "metadata": {
        "id": "Kzs88XE1fHIC"
      },
      "source": [
        "**Aplica o vetorizador nos dados de texto**"
      ]
    },
    {
      "cell_type": "code",
      "metadata": {
        "id": "bNmtvrUafHIC",
        "colab": {
          "base_uri": "https://localhost:8080/"
        },
        "outputId": "860f7884-8cc8-4ff6-dbaa-c16deecd052c"
      },
      "source": [
        "freq_tweets = vectorizer.fit_transform(tweets)\n",
        "type(freq_tweets)"
      ],
      "execution_count": 31,
      "outputs": [
        {
          "output_type": "execute_result",
          "data": {
            "text/plain": [
              "scipy.sparse.csr.csr_matrix"
            ]
          },
          "metadata": {},
          "execution_count": 31
        }
      ]
    },
    {
      "cell_type": "markdown",
      "metadata": {
        "id": "06Qgq0EIfHIH"
      },
      "source": [
        "**Formato (Linhas, Colunas) da matriz**"
      ]
    },
    {
      "cell_type": "code",
      "metadata": {
        "id": "bEQi20ajfHII",
        "colab": {
          "base_uri": "https://localhost:8080/"
        },
        "outputId": "739449ba-48b6-442c-a485-edab81860b1d"
      },
      "source": [
        "freq_tweets.shape"
      ],
      "execution_count": 32,
      "outputs": [
        {
          "output_type": "execute_result",
          "data": {
            "text/plain": [
              "(8199, 13361)"
            ]
          },
          "metadata": {},
          "execution_count": 32
        }
      ]
    },
    {
      "cell_type": "markdown",
      "metadata": {
        "id": "lejKj5JCjKSx"
      },
      "source": [
        "**Treino do modelo de Machine Learning**"
      ]
    },
    {
      "cell_type": "code",
      "metadata": {
        "id": "NY5FcgiCfHIE",
        "colab": {
          "base_uri": "https://localhost:8080/"
        },
        "outputId": "adeda658-b6a6-4a51-ea18-9c07d4ffff3f"
      },
      "source": [
        "modelo = MultinomialNB()\n",
        "modelo.fit(freq_tweets,classes)"
      ],
      "execution_count": 33,
      "outputs": [
        {
          "output_type": "execute_result",
          "data": {
            "text/plain": [
              "MultinomialNB(alpha=1.0, class_prior=None, fit_prior=True)"
            ]
          },
          "metadata": {},
          "execution_count": 33
        }
      ]
    },
    {
      "cell_type": "markdown",
      "metadata": {
        "id": "r_g3jIwCfHIL"
      },
      "source": [
        "**Matriz**"
      ]
    },
    {
      "cell_type": "code",
      "metadata": {
        "id": "T5t9uHX7fHIL",
        "colab": {
          "base_uri": "https://localhost:8080/"
        },
        "outputId": "bab3776b-3153-46f5-9c1a-c63ce4511439"
      },
      "source": [
        "freq_tweets.A"
      ],
      "execution_count": 34,
      "outputs": [
        {
          "output_type": "execute_result",
          "data": {
            "text/plain": [
              "array([[0, 0, 0, ..., 0, 0, 3],\n",
              "       [0, 0, 0, ..., 0, 0, 1],\n",
              "       [0, 0, 0, ..., 0, 0, 2],\n",
              "       ...,\n",
              "       [0, 0, 0, ..., 0, 0, 0],\n",
              "       [0, 0, 0, ..., 0, 0, 0],\n",
              "       [0, 0, 0, ..., 0, 0, 0]])"
            ]
          },
          "metadata": {},
          "execution_count": 34
        }
      ]
    },
    {
      "cell_type": "markdown",
      "metadata": {
        "id": "GIHIF5wafHIN"
      },
      "source": [
        "**Testando o modelo com algumas instâncias simples**"
      ]
    },
    {
      "cell_type": "code",
      "metadata": {
        "id": "RSDjpEc7fHIO"
      },
      "source": [
        "# defina instâncias de teste dentro de uma lista\n",
        "testes = ['Esse governo está no início, vamos ver o que vai dar',\n",
        "          'Estou muito feliz com o governo de Minas esse ano',\n",
        "          'O estado de Minas Gerais decretou calamidade financeira!!!',\n",
        "          'A segurança desse país está deixando a desejar',\n",
        "          'O governador de Minas é mais uma vez do PT']"
      ],
      "execution_count": 35,
      "outputs": []
    },
    {
      "cell_type": "markdown",
      "metadata": {
        "id": "NhOg0rrQfHIP"
      },
      "source": [
        "**Aplica a função de Pré-processamento nos dados**"
      ]
    },
    {
      "cell_type": "code",
      "metadata": {
        "id": "9JLAwKhsfHIQ"
      },
      "source": [
        "#testes = [Preprocessing(i) for i in testes]"
      ],
      "execution_count": 36,
      "outputs": []
    },
    {
      "cell_type": "code",
      "metadata": {
        "id": "xX2jyVWnfHIS"
      },
      "source": [
        "# Transforma os dados de teste em vetores de palavras.\n",
        "freq_testes = vectorizer.transform(testes)"
      ],
      "execution_count": 37,
      "outputs": []
    },
    {
      "cell_type": "code",
      "metadata": {
        "id": "i1Oe0lfcfHIU",
        "colab": {
          "base_uri": "https://localhost:8080/"
        },
        "outputId": "b00f4f83-a1e0-4137-c438-ce5a59913357"
      },
      "source": [
        "# Fazendo a classificação com o modelo treinado.\n",
        "for t, c in zip (testes,modelo.predict(freq_testes)):\n",
        "    print (t +\", \"+ c)"
      ],
      "execution_count": 38,
      "outputs": [
        {
          "output_type": "stream",
          "name": "stdout",
          "text": [
            "Esse governo está no início, vamos ver o que vai dar, Neutro\n",
            "Estou muito feliz com o governo de Minas esse ano, Neutro\n",
            "O estado de Minas Gerais decretou calamidade financeira!!!, Negativo\n",
            "A segurança desse país está deixando a desejar, Negativo\n",
            "O governador de Minas é mais uma vez do PT, Neutro\n"
          ]
        }
      ]
    },
    {
      "cell_type": "code",
      "metadata": {
        "id": "7BsTaayEfHIW",
        "colab": {
          "base_uri": "https://localhost:8080/"
        },
        "outputId": "e051fe94-ab9e-4106-ac5e-a4926a2e14ee"
      },
      "source": [
        "# Probabilidades de cada classe\n",
        "print (modelo.classes_)\n",
        "modelo.predict_proba(freq_testes).round(2)"
      ],
      "execution_count": 39,
      "outputs": [
        {
          "output_type": "stream",
          "name": "stdout",
          "text": [
            "['Negativo' 'Neutro' 'Positivo']\n"
          ]
        },
        {
          "output_type": "execute_result",
          "data": {
            "text/plain": [
              "array([[0.05, 0.95, 0.  ],\n",
              "       [0.02, 0.98, 0.  ],\n",
              "       [1.  , 0.  , 0.  ],\n",
              "       [0.65, 0.35, 0.  ],\n",
              "       [0.16, 0.84, 0.  ]])"
            ]
          },
          "metadata": {},
          "execution_count": 39
        }
      ]
    },
    {
      "cell_type": "markdown",
      "metadata": {
        "id": "8lP-AkxtfHIZ"
      },
      "source": [
        "## **Tags de Negações**"
      ]
    },
    {
      "cell_type": "markdown",
      "metadata": {
        "id": "hHCm2rqrfHIa"
      },
      "source": [
        "* Acrescenta uma tag _NEG encontrada após um 'não'.\n",
        "* Objetivo é dar mais peso para o modelo identificar uma inversão de sentimento da frase.\n",
        "* Exemplos: \n",
        "    - Eu gosto de cachorros, positivo.\n",
        "    - Eu **não** gosto de cachorros, negativo."
      ]
    },
    {
      "cell_type": "code",
      "metadata": {
        "id": "NRgqopgQfHIb"
      },
      "source": [
        "def marque_negacao(texto):\n",
        "    negacoes = ['não','not']\n",
        "    negacao_detectada = False\n",
        "    resultado = []\n",
        "    palavras = texto.split()\n",
        "    for p in palavras:\n",
        "        p = p.lower()\n",
        "        if negacao_detectada == True:\n",
        "            p = p + '_NEG'\n",
        "        if p in negacoes:\n",
        "            negacao_detectada = True\n",
        "        resultado.append(p)\n",
        "    return (\" \".join(resultado))"
      ],
      "execution_count": 40,
      "outputs": []
    },
    {
      "cell_type": "markdown",
      "metadata": {
        "id": "4M4dM-IMfHId"
      },
      "source": [
        "**Exemplos de utilização da tag de negações**"
      ]
    },
    {
      "cell_type": "code",
      "metadata": {
        "id": "wnpgrQRhfHId",
        "colab": {
          "base_uri": "https://localhost:8080/",
          "height": 35
        },
        "outputId": "da3fec28-8878-409a-a872-fa53d8285af8"
      },
      "source": [
        "marque_negacao('Eu gosto do partido, votaria novamente nesse governante!')"
      ],
      "execution_count": 41,
      "outputs": [
        {
          "output_type": "execute_result",
          "data": {
            "application/vnd.google.colaboratory.intrinsic+json": {
              "type": "string"
            },
            "text/plain": [
              "'eu gosto do partido, votaria novamente nesse governante!'"
            ]
          },
          "metadata": {},
          "execution_count": 41
        }
      ]
    },
    {
      "cell_type": "code",
      "metadata": {
        "id": "8VAWpxI3fHIf",
        "colab": {
          "base_uri": "https://localhost:8080/",
          "height": 35
        },
        "outputId": "c6623e4d-54a0-401f-9569-7772657f6c83"
      },
      "source": [
        "marque_negacao('Eu Não gosto do partido e também não votaria novamente nesse governante!')"
      ],
      "execution_count": 42,
      "outputs": [
        {
          "output_type": "execute_result",
          "data": {
            "application/vnd.google.colaboratory.intrinsic+json": {
              "type": "string"
            },
            "text/plain": [
              "'eu não gosto_NEG do_NEG partido_NEG e_NEG também_NEG não_NEG votaria_NEG novamente_NEG nesse_NEG governante!_NEG'"
            ]
          },
          "metadata": {},
          "execution_count": 42
        }
      ]
    },
    {
      "cell_type": "markdown",
      "metadata": {
        "id": "2_7GZsu8fHIi"
      },
      "source": [
        "## **Criando modelos com Pipelines**"
      ]
    },
    {
      "cell_type": "markdown",
      "metadata": {
        "id": "DDGtt4u0fHIj"
      },
      "source": [
        "* Pipelines são interessantes para reduzir código e automatizar fluxos"
      ]
    },
    {
      "cell_type": "code",
      "metadata": {
        "id": "eQEWzXphfHIj"
      },
      "source": [
        "from sklearn.pipeline import Pipeline"
      ],
      "execution_count": 43,
      "outputs": []
    },
    {
      "cell_type": "code",
      "metadata": {
        "id": "hbks3HWdfHIm"
      },
      "source": [
        "pipeline_simples = Pipeline([\n",
        "  ('counts', CountVectorizer()),\n",
        "  ('classifier', MultinomialNB())\n",
        "])"
      ],
      "execution_count": 44,
      "outputs": []
    },
    {
      "cell_type": "markdown",
      "metadata": {
        "id": "Au6K0aJffHIs"
      },
      "source": [
        "* Pipeline que atribui tag de negacoes nas palavras"
      ]
    },
    {
      "cell_type": "code",
      "metadata": {
        "id": "zn-x4LvLfHIt"
      },
      "source": [
        "pipeline_negacoes = Pipeline([\n",
        "  ('counts', CountVectorizer(tokenizer=lambda text: marque_negacao(text))),\n",
        "  ('classifier', MultinomialNB())\n",
        "])"
      ],
      "execution_count": 45,
      "outputs": []
    },
    {
      "cell_type": "code",
      "metadata": {
        "id": "hRbBD5HlfHIx",
        "colab": {
          "base_uri": "https://localhost:8080/"
        },
        "outputId": "73b7ef77-8705-449d-a7b9-fe66a99602a7"
      },
      "source": [
        "pipeline_simples.fit(tweets,classes)"
      ],
      "execution_count": 46,
      "outputs": [
        {
          "output_type": "execute_result",
          "data": {
            "text/plain": [
              "Pipeline(memory=None,\n",
              "         steps=[('counts',\n",
              "                 CountVectorizer(analyzer='word', binary=False,\n",
              "                                 decode_error='strict',\n",
              "                                 dtype=<class 'numpy.int64'>, encoding='utf-8',\n",
              "                                 input='content', lowercase=True, max_df=1.0,\n",
              "                                 max_features=None, min_df=1,\n",
              "                                 ngram_range=(1, 1), preprocessor=None,\n",
              "                                 stop_words=None, strip_accents=None,\n",
              "                                 token_pattern='(?u)\\\\b\\\\w\\\\w+\\\\b',\n",
              "                                 tokenizer=None, vocabulary=None)),\n",
              "                ('classifier',\n",
              "                 MultinomialNB(alpha=1.0, class_prior=None, fit_prior=True))],\n",
              "         verbose=False)"
            ]
          },
          "metadata": {},
          "execution_count": 46
        }
      ]
    },
    {
      "cell_type": "code",
      "metadata": {
        "id": "X5IGLvsefHIy",
        "colab": {
          "base_uri": "https://localhost:8080/"
        },
        "outputId": "b77f4042-340d-4aa1-f981-4475caa16925"
      },
      "source": [
        "pipeline_simples.steps"
      ],
      "execution_count": 47,
      "outputs": [
        {
          "output_type": "execute_result",
          "data": {
            "text/plain": [
              "[('counts',\n",
              "  CountVectorizer(analyzer='word', binary=False, decode_error='strict',\n",
              "                  dtype=<class 'numpy.int64'>, encoding='utf-8', input='content',\n",
              "                  lowercase=True, max_df=1.0, max_features=None, min_df=1,\n",
              "                  ngram_range=(1, 1), preprocessor=None, stop_words=None,\n",
              "                  strip_accents=None, token_pattern='(?u)\\\\b\\\\w\\\\w+\\\\b',\n",
              "                  tokenizer=None, vocabulary=None)),\n",
              " ('classifier', MultinomialNB(alpha=1.0, class_prior=None, fit_prior=True))]"
            ]
          },
          "metadata": {},
          "execution_count": 47
        }
      ]
    },
    {
      "cell_type": "markdown",
      "metadata": {
        "id": "LyE8h7lEfHI0"
      },
      "source": [
        "* Gera o modelo de negações"
      ]
    },
    {
      "cell_type": "code",
      "metadata": {
        "id": "AJnMHmwSfHI1",
        "colab": {
          "base_uri": "https://localhost:8080/"
        },
        "outputId": "cf67ff62-c1ad-48d0-f2d1-bc56370a5cc7"
      },
      "source": [
        "pipeline_negacoes.fit(tweets,classes)"
      ],
      "execution_count": 48,
      "outputs": [
        {
          "output_type": "execute_result",
          "data": {
            "text/plain": [
              "Pipeline(memory=None,\n",
              "         steps=[('counts',\n",
              "                 CountVectorizer(analyzer='word', binary=False,\n",
              "                                 decode_error='strict',\n",
              "                                 dtype=<class 'numpy.int64'>, encoding='utf-8',\n",
              "                                 input='content', lowercase=True, max_df=1.0,\n",
              "                                 max_features=None, min_df=1,\n",
              "                                 ngram_range=(1, 1), preprocessor=None,\n",
              "                                 stop_words=None, strip_accents=None,\n",
              "                                 token_pattern='(?u)\\\\b\\\\w\\\\w+\\\\b',\n",
              "                                 tokenizer=<function <lambda> at 0x7f8f60903d40>,\n",
              "                                 vocabulary=None)),\n",
              "                ('classifier',\n",
              "                 MultinomialNB(alpha=1.0, class_prior=None, fit_prior=True))],\n",
              "         verbose=False)"
            ]
          },
          "metadata": {},
          "execution_count": 48
        }
      ]
    },
    {
      "cell_type": "markdown",
      "metadata": {
        "id": "1js2hfBdfHI6"
      },
      "source": [
        "* Etapas do pipeline"
      ]
    },
    {
      "cell_type": "code",
      "metadata": {
        "id": "ytZ7h4lXfHI7",
        "colab": {
          "base_uri": "https://localhost:8080/"
        },
        "outputId": "89fd46f0-8e57-47a7-b171-d8330849eb01"
      },
      "source": [
        "pipeline_negacoes.steps"
      ],
      "execution_count": 49,
      "outputs": [
        {
          "output_type": "execute_result",
          "data": {
            "text/plain": [
              "[('counts',\n",
              "  CountVectorizer(analyzer='word', binary=False, decode_error='strict',\n",
              "                  dtype=<class 'numpy.int64'>, encoding='utf-8', input='content',\n",
              "                  lowercase=True, max_df=1.0, max_features=None, min_df=1,\n",
              "                  ngram_range=(1, 1), preprocessor=None, stop_words=None,\n",
              "                  strip_accents=None, token_pattern='(?u)\\\\b\\\\w\\\\w+\\\\b',\n",
              "                  tokenizer=<function <lambda> at 0x7f8f60903d40>,\n",
              "                  vocabulary=None)),\n",
              " ('classifier', MultinomialNB(alpha=1.0, class_prior=None, fit_prior=True))]"
            ]
          },
          "metadata": {},
          "execution_count": 49
        }
      ]
    },
    {
      "cell_type": "markdown",
      "metadata": {
        "id": "99PR3Zkxymew"
      },
      "source": [
        "Modelo com SVM"
      ]
    },
    {
      "cell_type": "code",
      "metadata": {
        "id": "8FIDTiQKyk5l"
      },
      "source": [
        "pipeline_svm_simples = Pipeline([\n",
        "  ('counts', CountVectorizer()),\n",
        "  ('classifier', svm.SVC(kernel='linear'))\n",
        "])"
      ],
      "execution_count": 50,
      "outputs": []
    },
    {
      "cell_type": "code",
      "metadata": {
        "id": "b3q4BrMey2zh"
      },
      "source": [
        "pipeline_svm_negacoes = Pipeline([\n",
        "  ('counts', CountVectorizer(tokenizer=lambda text: marque_negacao(text))),\n",
        "  ('classifier', svm.SVC(kernel='linear'))\n",
        "])"
      ],
      "execution_count": 51,
      "outputs": []
    },
    {
      "cell_type": "markdown",
      "metadata": {
        "id": "SGfKFbZRfHI-"
      },
      "source": [
        "## Validando os Modelos com Validação Cruzada"
      ]
    },
    {
      "cell_type": "markdown",
      "metadata": {
        "collapsed": true,
        "id": "t-E9PpV6fHI_"
      },
      "source": [
        "* Fazendo o cross validation do modelo"
      ]
    },
    {
      "cell_type": "code",
      "metadata": {
        "id": "4Gk7uMEtfHJA"
      },
      "source": [
        "resultados = cross_val_predict(pipeline_simples, tweets, classes, cv=10)"
      ],
      "execution_count": 52,
      "outputs": []
    },
    {
      "cell_type": "markdown",
      "metadata": {
        "collapsed": true,
        "id": "c8CqLggufHJD"
      },
      "source": [
        "* Medindo a acurácia média do modelo"
      ]
    },
    {
      "cell_type": "code",
      "metadata": {
        "id": "y27p3EpxfHJD",
        "colab": {
          "base_uri": "https://localhost:8080/"
        },
        "outputId": "d824d5df-3b60-4f19-f70e-ed5b9304fd00"
      },
      "source": [
        "metrics.accuracy_score(classes,resultados)"
      ],
      "execution_count": 53,
      "outputs": [
        {
          "output_type": "execute_result",
          "data": {
            "text/plain": [
              "0.8827905842175875"
            ]
          },
          "metadata": {},
          "execution_count": 53
        }
      ]
    },
    {
      "cell_type": "markdown",
      "metadata": {
        "collapsed": true,
        "id": "049BZedMfHJG"
      },
      "source": [
        "* Medidas de validação do modelo"
      ]
    },
    {
      "cell_type": "code",
      "metadata": {
        "id": "3DQOMkQZfHJH",
        "colab": {
          "base_uri": "https://localhost:8080/"
        },
        "outputId": "d8a0d980-0b8e-4da2-af36-ba88906f737b"
      },
      "source": [
        "sentimento=['Positivo','Negativo','Neutro']\n",
        "print (metrics.classification_report(classes,resultados,sentimento))"
      ],
      "execution_count": 54,
      "outputs": [
        {
          "output_type": "stream",
          "name": "stdout",
          "text": [
            "              precision    recall  f1-score   support\n",
            "\n",
            "    Positivo       0.94      0.88      0.91      3300\n",
            "    Negativo       0.89      0.93      0.91      2446\n",
            "      Neutro       0.80      0.84      0.82      2453\n",
            "\n",
            "    accuracy                           0.88      8199\n",
            "   macro avg       0.88      0.88      0.88      8199\n",
            "weighted avg       0.89      0.88      0.88      8199\n",
            "\n"
          ]
        }
      ]
    },
    {
      "cell_type": "markdown",
      "metadata": {
        "id": "vQuKPwm-fHJI"
      },
      "source": [
        "* Matriz de confusão"
      ]
    },
    {
      "cell_type": "code",
      "metadata": {
        "id": "EKXS0gh-fHJI",
        "colab": {
          "base_uri": "https://localhost:8080/"
        },
        "outputId": "b9dbbc1e-6a59-4747-8ece-6fc778d4cfe9"
      },
      "source": [
        "print (pd.crosstab(classes, resultados, rownames=['Real'], colnames=['Predito'], margins=True))"
      ],
      "execution_count": 55,
      "outputs": [
        {
          "output_type": "stream",
          "name": "stdout",
          "text": [
            "Predito   Negativo  Neutro  Positivo   All\n",
            "Real                                      \n",
            "Negativo      2277     160         9  2446\n",
            "Neutro         241    2050       162  2453\n",
            "Positivo        42     347      2911  3300\n",
            "All           2560    2557      3082  8199\n"
          ]
        }
      ]
    },
    {
      "cell_type": "code",
      "metadata": {
        "id": "3mBacjlezjA1"
      },
      "source": [
        "def Metricas(modelo, tweets, classes):\n",
        "  resultados = cross_val_predict(modelo, tweets, classes, cv=10)\n",
        "  return 'Acurácia do modelo: {}'.format(metrics.accuracy_score(classes,resultados))"
      ],
      "execution_count": 56,
      "outputs": []
    },
    {
      "cell_type": "code",
      "metadata": {
        "id": "YvChG4un0M_A",
        "colab": {
          "base_uri": "https://localhost:8080/",
          "height": 35
        },
        "outputId": "169ac940-ee41-4c8e-bac1-0dd0b400fb03"
      },
      "source": [
        "# naive bayes simples\n",
        "Metricas(pipeline_simples,tweets,classes)"
      ],
      "execution_count": 57,
      "outputs": [
        {
          "output_type": "execute_result",
          "data": {
            "application/vnd.google.colaboratory.intrinsic+json": {
              "type": "string"
            },
            "text/plain": [
              "'Acurácia do modelo: 0.8827905842175875'"
            ]
          },
          "metadata": {},
          "execution_count": 57
        }
      ]
    },
    {
      "cell_type": "code",
      "metadata": {
        "id": "S9_-UNWP1U4A",
        "colab": {
          "base_uri": "https://localhost:8080/",
          "height": 35
        },
        "outputId": "6f054672-f0fe-41c0-8e92-b14f41073ab9"
      },
      "source": [
        "# naive bayes com tag de negacoes\n",
        "Metricas(pipeline_negacoes,tweets,classes)"
      ],
      "execution_count": 58,
      "outputs": [
        {
          "output_type": "execute_result",
          "data": {
            "application/vnd.google.colaboratory.intrinsic+json": {
              "type": "string"
            },
            "text/plain": [
              "'Acurácia do modelo: 0.667764361507501'"
            ]
          },
          "metadata": {},
          "execution_count": 58
        }
      ]
    },
    {
      "cell_type": "code",
      "metadata": {
        "id": "_tImcLHZ1VDF",
        "colab": {
          "base_uri": "https://localhost:8080/",
          "height": 35
        },
        "outputId": "657b14ad-0870-4f74-e342-e6c02fd93ab7"
      },
      "source": [
        "# svm linear simples\n",
        "Metricas(pipeline_svm_simples,tweets,classes)"
      ],
      "execution_count": 59,
      "outputs": [
        {
          "output_type": "execute_result",
          "data": {
            "application/vnd.google.colaboratory.intrinsic+json": {
              "type": "string"
            },
            "text/plain": [
              "'Acurácia do modelo: 0.8976704476155629'"
            ]
          },
          "metadata": {},
          "execution_count": 59
        }
      ]
    },
    {
      "cell_type": "code",
      "metadata": {
        "id": "SOPkPKnT1xVm",
        "colab": {
          "base_uri": "https://localhost:8080/",
          "height": 35
        },
        "outputId": "5ca67463-8317-4c67-fab1-d12f93b0fb32"
      },
      "source": [
        "# svm linear com tag de negacoes\n",
        "Metricas(pipeline_svm_negacoes,tweets,classes)"
      ],
      "execution_count": 60,
      "outputs": [
        {
          "output_type": "execute_result",
          "data": {
            "application/vnd.google.colaboratory.intrinsic+json": {
              "type": "string"
            },
            "text/plain": [
              "'Acurácia do modelo: 0.7798512013660203'"
            ]
          },
          "metadata": {},
          "execution_count": 60
        }
      ]
    },
    {
      "cell_type": "markdown",
      "metadata": {
        "id": "KhJiRyUmfHJK"
      },
      "source": [
        "## **Modelo com a Tag de Negações**"
      ]
    },
    {
      "cell_type": "code",
      "metadata": {
        "id": "pb284ewqfHJM"
      },
      "source": [
        "resultados = cross_val_predict(pipeline_negacoes, tweets, classes, cv=10)"
      ],
      "execution_count": 61,
      "outputs": []
    },
    {
      "cell_type": "markdown",
      "metadata": {
        "id": "yqD7zS18fHJO"
      },
      "source": [
        "* Medindo a acurácia média do modelo"
      ]
    },
    {
      "cell_type": "code",
      "metadata": {
        "id": "Ozi38FIlfHJP",
        "colab": {
          "base_uri": "https://localhost:8080/"
        },
        "outputId": "17262495-290b-460a-f6e0-88a1b80404f3"
      },
      "source": [
        "metrics.accuracy_score(classes,resultados)"
      ],
      "execution_count": 62,
      "outputs": [
        {
          "output_type": "execute_result",
          "data": {
            "text/plain": [
              "0.667764361507501"
            ]
          },
          "metadata": {},
          "execution_count": 62
        }
      ]
    },
    {
      "cell_type": "code",
      "metadata": {
        "id": "IFH-DuBofHJU",
        "colab": {
          "base_uri": "https://localhost:8080/"
        },
        "outputId": "7d4b7967-bffa-45dc-f6ab-737903b10e07"
      },
      "source": [
        "sentimento=['Positivo','Negativo','Neutro']\n",
        "print (metrics.classification_report(classes,resultados,sentimento))"
      ],
      "execution_count": 63,
      "outputs": [
        {
          "output_type": "stream",
          "name": "stdout",
          "text": [
            "              precision    recall  f1-score   support\n",
            "\n",
            "    Positivo       0.66      0.82      0.73      3300\n",
            "    Negativo       0.71      0.56      0.62      2446\n",
            "      Neutro       0.65      0.57      0.61      2453\n",
            "\n",
            "    accuracy                           0.67      8199\n",
            "   macro avg       0.67      0.65      0.65      8199\n",
            "weighted avg       0.67      0.67      0.66      8199\n",
            "\n"
          ]
        }
      ]
    },
    {
      "cell_type": "markdown",
      "metadata": {
        "collapsed": true,
        "id": "jtDzIhrhfHJW"
      },
      "source": [
        "* Matriz de confusão"
      ]
    },
    {
      "cell_type": "code",
      "metadata": {
        "id": "KDYrF9v_fHJW",
        "colab": {
          "base_uri": "https://localhost:8080/"
        },
        "outputId": "adf9f6dc-d7cc-4b48-adde-274dd7aeb22e"
      },
      "source": [
        "print (pd.crosstab(classes, resultados, rownames=['Real'], colnames=['Predito'], margins=True))"
      ],
      "execution_count": 64,
      "outputs": [
        {
          "output_type": "stream",
          "name": "stdout",
          "text": [
            "Predito   Negativo  Neutro  Positivo   All\n",
            "Real                                      \n",
            "Negativo      1360     479       607  2446\n",
            "Neutro         251    1397       805  2453\n",
            "Positivo       295     287      2718  3300\n",
            "All           1906    2163      4130  8199\n"
          ]
        }
      ]
    },
    {
      "cell_type": "markdown",
      "metadata": {
        "id": "wfLQeW6yfHJZ"
      },
      "source": [
        "## **Avaliando modelo com Bigrams**"
      ]
    },
    {
      "cell_type": "markdown",
      "metadata": {
        "id": "q9bd7jK13krf"
      },
      "source": [
        "Eu gosto do Brasil -------------> **'eu gosto', 'gosto do' , 'do brasil'**"
      ]
    },
    {
      "cell_type": "code",
      "metadata": {
        "id": "tqdMpvcXfHJb",
        "colab": {
          "base_uri": "https://localhost:8080/"
        },
        "outputId": "b2f888a9-ffc9-4134-b37a-d201306a0595"
      },
      "source": [
        "# Bigrams\n",
        "vectorizer = CountVectorizer(ngram_range=(2,2))\n",
        "freq_tweets = vectorizer.fit_transform(tweets)\n",
        "modelo = MultinomialNB()\n",
        "modelo.fit(freq_tweets,classes)"
      ],
      "execution_count": 65,
      "outputs": [
        {
          "output_type": "execute_result",
          "data": {
            "text/plain": [
              "MultinomialNB(alpha=1.0, class_prior=None, fit_prior=True)"
            ]
          },
          "metadata": {},
          "execution_count": 65
        }
      ]
    },
    {
      "cell_type": "code",
      "metadata": {
        "id": "D71t-pPGfHJc"
      },
      "source": [
        "resultados = cross_val_predict(modelo, freq_tweets, classes, cv=10)"
      ],
      "execution_count": 66,
      "outputs": []
    },
    {
      "cell_type": "code",
      "metadata": {
        "id": "Eqv_fetJfHJg",
        "colab": {
          "base_uri": "https://localhost:8080/"
        },
        "outputId": "b5a60c8d-b404-4bd6-c469-13617305a2d3"
      },
      "source": [
        "metrics.accuracy_score(classes,resultados)"
      ],
      "execution_count": 67,
      "outputs": [
        {
          "output_type": "execute_result",
          "data": {
            "text/plain": [
              "0.8841322112452739"
            ]
          },
          "metadata": {},
          "execution_count": 67
        }
      ]
    },
    {
      "cell_type": "code",
      "metadata": {
        "id": "WzoMUniTfHJi",
        "colab": {
          "base_uri": "https://localhost:8080/"
        },
        "outputId": "37934363-2dfe-4065-854a-e3e47a136cff"
      },
      "source": [
        "sentimento=['Positivo','Negativo','Neutro']\n",
        "print (metrics.classification_report(classes,resultados,sentimento))"
      ],
      "execution_count": 68,
      "outputs": [
        {
          "output_type": "stream",
          "name": "stdout",
          "text": [
            "              precision    recall  f1-score   support\n",
            "\n",
            "    Positivo       0.96      0.87      0.91      3300\n",
            "    Negativo       0.89      0.91      0.90      2446\n",
            "      Neutro       0.80      0.87      0.84      2453\n",
            "\n",
            "    accuracy                           0.88      8199\n",
            "   macro avg       0.88      0.89      0.88      8199\n",
            "weighted avg       0.89      0.88      0.89      8199\n",
            "\n"
          ]
        }
      ]
    },
    {
      "cell_type": "markdown",
      "metadata": {
        "id": "WiC2Ns5-fHJp"
      },
      "source": [
        "## **Considerações Finais**"
      ]
    },
    {
      "cell_type": "markdown",
      "metadata": {
        "id": "W_HRElekfHJq"
      },
      "source": [
        "* Considere aumentar a quantidade de dados de treino.\n",
        "\n",
        "* Pela sua simplicidade o Naive Bayes pode ser usado perfeitamente como um algoritmo de Baseline.\n",
        "\n",
        "* Considere alterar os parâmetros do algoritmo."
      ]
    },
    {
      "cell_type": "markdown",
      "metadata": {
        "id": "q7IEqCXffHJq"
      },
      "source": [
        "**www.minerandodados.com.br** - *A maior comunidade de Data Science do Brasil*"
      ]
    }
  ]
}